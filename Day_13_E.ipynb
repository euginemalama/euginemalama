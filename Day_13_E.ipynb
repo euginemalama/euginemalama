{
 "cells": [
  {
   "cell_type": "code",
   "execution_count": 1,
   "metadata": {},
   "outputs": [],
   "source": [
    "import numpy as np"
   ]
  },
  {
   "cell_type": "code",
   "execution_count": 4,
   "metadata": {},
   "outputs": [
    {
     "name": "stdout",
     "output_type": "stream",
     "text": [
      "crossed t= 10.0\n"
     ]
    }
   ],
   "source": [
    "def D(v,t):\n",
    "    return v*t\n",
    "\n",
    "N=100\n",
    "t=np.linspace(0,10,N)\n",
    "carA=np.zeros(N)\n",
    "carB=np.zeros(N)\n",
    "delcar=np.zeros(N)\n",
    "\n",
    "for i in range(N):\n",
    "    carA[i]=D(t[i],10.35)\n",
    "    carB[i]=50-D(t[i],9.85)\n",
    "    delcar[i]=carB[i]-carA[i]\n",
    "    \n",
    "if delcar[i]<=0:\n",
    "    print(\"crossed t=\", t[i])"
   ]
  },
  {
   "cell_type": "code",
   "execution_count": 6,
   "metadata": {},
   "outputs": [
    {
     "name": "stdout",
     "output_type": "stream",
     "text": [
      "[40. 50. 60.]\n"
     ]
    }
   ],
   "source": [
    "v=np.array([4,5,6])\n",
    "N=len(v)\n",
    "w=np.zeros(N)\n",
    "\n",
    "for i in range(N):\n",
    "    w[i]=10*v[i]\n",
    "print(w)"
   ]
  },
  {
   "cell_type": "code",
   "execution_count": null,
   "metadata": {},
   "outputs": [],
   "source": []
  }
 ],
 "metadata": {
  "kernelspec": {
   "display_name": "Python 3",
   "language": "python",
   "name": "python3"
  },
  "language_info": {
   "codemirror_mode": {
    "name": "ipython",
    "version": 3
   },
   "file_extension": ".py",
   "mimetype": "text/x-python",
   "name": "python",
   "nbconvert_exporter": "python",
   "pygments_lexer": "ipython3",
   "version": "3.7.3"
  }
 },
 "nbformat": 4,
 "nbformat_minor": 2
}
