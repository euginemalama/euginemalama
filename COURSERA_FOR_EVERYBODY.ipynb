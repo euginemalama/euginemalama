{
 "cells": [
  {
   "cell_type": "code",
   "execution_count": 1,
   "metadata": {},
   "outputs": [
    {
     "name": "stdout",
     "output_type": "stream",
     "text": [
      "Enter Hours:35\n",
      "Enter Rate:2.75\n",
      "Pay: 96.25\n"
     ]
    }
   ],
   "source": [
    "hrs = input(\"Enter Hours:\")\n",
    "rate = input(\"Enter Rate:\")\n",
    "pay = float(hrs) * float(rate)\n",
    "print(\"Pay:\", pay)"
   ]
  },
  {
   "cell_type": "code",
   "execution_count": 1,
   "metadata": {},
   "outputs": [
    {
     "name": "stdout",
     "output_type": "stream",
     "text": [
      "Small\n",
      "All done\n"
     ]
    }
   ],
   "source": [
    "x = 0\n",
    "if x < 2 :\n",
    "    print('Small')\n",
    "elif x < 10 :\n",
    "    print('Medium')\n",
    "else :\n",
    "    print('LARGE')\n",
    "print('All done')"
   ]
  },
  {
   "cell_type": "markdown",
   "metadata": {},
   "source": [
    "exersise 3.2\n"
   ]
  },
  {
   "cell_type": "code",
   "execution_count": 2,
   "metadata": {},
   "outputs": [
    {
     "name": "stdout",
     "output_type": "stream",
     "text": [
      "Enter Hours:45\n",
      "Enter the Rate:10.50\n",
      "498.75\n"
     ]
    }
   ],
   "source": [
    "hrs = input(\"Enter Hours:\")\n",
    "h = float(hrs)\n",
    "rate = input(\"Enter the Rate:\")\n",
    "r = float(rate)\n",
    "if h <= 40:\n",
    "    print( h  * r)\n",
    "elif h > 40:\n",
    "    print(40* r + (h-40)*1.5*r)"
   ]
  },
  {
   "cell_type": "markdown",
   "metadata": {},
   "source": [
    "3.3 Write a program to prompt for a score between 0.0 and 1.0. If the score is out of range, print an error. If the score is between 0.0 and 1.0, print a grade using the following table:\n",
    "Score Grade\n",
    ">= 0.9 A\n",
    ">= 0.8 B\n",
    ">= 0.7 C\n",
    ">= 0.6 D\n",
    "< 0.6 F\n",
    "If the user enters a value out of range, print a suitable error message and exit. For the test, enter a score of 0.85. "
   ]
  },
  {
   "cell_type": "code",
   "execution_count": null,
   "metadata": {},
   "outputs": [],
   "source": [
    "\n",
    "score = input(\"Enter Score: \")\n",
    "s =  float(score)\n",
    "x = 'Error'\n",
    "if s >= 0.9:\n",
    "    x = 'A'\n",
    "elif s >=0.8:\n",
    "    x='B'\n",
    "elif s >=0.7:\n",
    "    x='C'\n",
    "elif s >= 0.6:\n",
    "    x='D'\n",
    "elif s < .6:\n",
    "    x ='F'\n",
    "else:\n",
    "    x =\"Out of Range\"\n",
    "print (x)"
   ]
  },
  {
   "cell_type": "code",
   "execution_count": 1,
   "metadata": {},
   "outputs": [
    {
     "name": "stdout",
     "output_type": "stream",
     "text": [
      "There\n"
     ]
    }
   ],
   "source": [
    "def thing():\n",
    "    print('Hello')\n",
    "\n",
    "print('There')"
   ]
  },
  {
   "cell_type": "code",
   "execution_count": 2,
   "metadata": {},
   "outputs": [
    {
     "name": "stdout",
     "output_type": "stream",
     "text": [
      "10\n",
      "20\n"
     ]
    }
   ],
   "source": [
    "def func(x) :\n",
    "    print(x)\n",
    "\n",
    "func(10)\n",
    "func(20)"
   ]
  },
  {
   "cell_type": "code",
   "execution_count": 5,
   "metadata": {},
   "outputs": [
    {
     "name": "stdout",
     "output_type": "stream",
     "text": [
      "Hello\n"
     ]
    }
   ],
   "source": [
    "def stuff():\n",
    "    print('Hello')\n",
    "    return\n",
    "    print('World')\n",
    "\n",
    "stuff()"
   ]
  },
  {
   "cell_type": "code",
   "execution_count": 6,
   "metadata": {},
   "outputs": [
    {
     "name": "stdout",
     "output_type": "stream",
     "text": [
      "Bonjour Michael\n"
     ]
    }
   ],
   "source": [
    "def greet(lang):\n",
    "    if lang == 'es':\n",
    "        return 'Hola'\n",
    "    elif lang == 'fr':\n",
    "        return 'Bonjour'\n",
    "    else:\n",
    "        return 'Hello'\n",
    "\n",
    "print(greet('fr'),'Michael')"
   ]
  },
  {
   "cell_type": "code",
   "execution_count": 7,
   "metadata": {},
   "outputs": [
    {
     "name": "stdout",
     "output_type": "stream",
     "text": [
      "2\n"
     ]
    }
   ],
   "source": [
    "def addtwo(a, b):\n",
    "    added = a + b\n",
    "    return a\n",
    "\n",
    "x = addtwo(2, 7)\n",
    "print(x)"
   ]
  },
  {
   "cell_type": "markdown",
   "metadata": {},
   "source": [
    "4.6 Write a program to prompt the user for hours and rate per hour using input to compute gross pay. Pay should be the normal rate for hours up to 40 and time-and-a-half for the hourly rate for all hours worked above 40 hours. Put the logic to do the computation of pay in a function called computepay() and use the function to do the computation. The function should return a value. Use 45 hours and a rate of 10.50 per hour to test the program (the pay should be 498.75). You should use input to read a string and float() to convert the string to a number. Do not worry about error checking the user input unless you want to - you can assume the user types numbers properly. Do not name your variable sum or use the sum() function. "
   ]
  },
  {
   "cell_type": "code",
   "execution_count": 8,
   "metadata": {},
   "outputs": [
    {
     "name": "stdout",
     "output_type": "stream",
     "text": [
      "Enter Hours:10\n",
      "Pay 42.37\n"
     ]
    }
   ],
   "source": [
    "def computepay(h, r):\n",
    "    return 42.37\n",
    "\n",
    "hrs = input(\"Enter Hours:\")\n",
    "p = computepay(10, 20)\n",
    "print(\"Pay\", p)"
   ]
  },
  {
   "cell_type": "code",
   "execution_count": 10,
   "metadata": {},
   "outputs": [
    {
     "name": "stdout",
     "output_type": "stream",
     "text": [
      "Enter Hours:45\n",
      "Enter rate per hour:10.50\n",
      "Pay 498.75\n"
     ]
    }
   ],
   "source": [
    "def computepay(h,r):\n",
    "    if h > 40:\n",
    "        p = 1.5 * r * (h - 40) + (40 *r)\n",
    "    else:\n",
    "        p = h * r\n",
    "    return p\n",
    "    \n",
    "hrs = input(\"Enter Hours:\")\n",
    "hr = float(hrs)\n",
    "rphrs = input(\"Enter rate per hour:\")\n",
    "rphr = float(rphrs)\n",
    "\n",
    "p = computepay(hr,rphr)\n",
    "print(\"Pay\",p)"
   ]
  },
  {
   "cell_type": "code",
   "execution_count": 1,
   "metadata": {},
   "outputs": [
    {
     "name": "stdout",
     "output_type": "stream",
     "text": [
      "-1\n"
     ]
    }
   ],
   "source": [
    "smallest_so_far = -1\n",
    "for the_num in [9, 41, 12, 3, 74, 15] :\n",
    "   if the_num < smallest_so_far :\n",
    "      smallest_so_far = the_num\n",
    "print(smallest_so_far)"
   ]
  },
  {
   "cell_type": "code",
   "execution_count": 2,
   "metadata": {},
   "outputs": [
    {
     "name": "stdout",
     "output_type": "stream",
     "text": [
      "5\n"
     ]
    }
   ],
   "source": [
    "tot = 0 \n",
    "for i in [5, 4, 3, 2, 1] :\n",
    "    tot = tot + 1\n",
    "print(tot)"
   ]
  },
  {
   "cell_type": "code",
   "execution_count": 10,
   "metadata": {},
   "outputs": [
    {
     "name": "stdout",
     "output_type": "stream",
     "text": [
      "Enter a number: 10\n",
      "Enter a number: 7\n",
      "Enter a number: 2\n",
      "Enter a number: 4\n",
      "Enter a number: bob\n",
      "Invalid input\n",
      "Enter a number: done\n",
      "Maximum is 4\n",
      "Minimum is 2\n"
     ]
    }
   ],
   "source": [
    "num = 0\n",
    "largest = -1\n",
    "smallest = None\n",
    "while True:\n",
    "    num = input(\"Enter a number: \")\n",
    "    if num == \"done\" :\n",
    "        break\n",
    "    try :\n",
    "        numb = int(num)\n",
    "    except :\n",
    "        print('Invalid input')\n",
    "    if smallest is None :\n",
    "        smallest = numb\n",
    "    elif numb < smallest :\n",
    "        smallest = numb\n",
    "    elif numb > largest :\n",
    "        largest = numb\n",
    "print(\"Maximum is\", largest)\n",
    "print(\"Minimum is\", smallest)"
   ]
  },
  {
   "cell_type": "code",
   "execution_count": 26,
   "metadata": {},
   "outputs": [
    {
     "name": "stdout",
     "output_type": "stream",
     "text": [
      "Enter a Number: 7\n",
      "Enter a Number: 2\n",
      "Enter a Number: 4\n",
      "Enter a Number: 10\n",
      "Enter a Number: bob\n",
      "Enter a Number: done\n"
     ]
    },
    {
     "ename": "SyntaxError",
     "evalue": "'continue' not properly in loop (<ipython-input-26-f54677a6bede>, line 14)",
     "output_type": "error",
     "traceback": [
      "\u001b[0;36m  File \u001b[0;32m\"<ipython-input-26-f54677a6bede>\"\u001b[0;36m, line \u001b[0;32m14\u001b[0m\n\u001b[0;31m    continue\u001b[0m\n\u001b[0m    ^\u001b[0m\n\u001b[0;31mSyntaxError\u001b[0m\u001b[0;31m:\u001b[0m 'continue' not properly in loop\n"
     ]
    }
   ],
   "source": [
    "largest = None\n",
    "smallest = None\n",
    "\n",
    "while True:\n",
    "    num = input(\"Enter a Number: \")\n",
    "\n",
    "    if num == 'done':\n",
    "        break\n",
    "try:\n",
    "    num = int(num)\n",
    "except:\n",
    "    print(\"Invalid input\")\n",
    "    \n",
    "    continue\n",
    "    \n",
    "    if smallest is None:\n",
    "        smallest = num\n",
    "    elif num < smallest: \n",
    "        smallest = num\n",
    "    if largest is None:\n",
    "        largest = num\n",
    "    elif num > largest:\n",
    "        largest = num\n",
    "    \n",
    "    #print(\"Invalid input\")\n",
    "print(\"Maximum is\", largest)\n",
    "print(\"Minimum is\", smallest)\n"
   ]
  },
  {
   "cell_type": "code",
   "execution_count": 19,
   "metadata": {},
   "outputs": [
    {
     "name": "stdout",
     "output_type": "stream",
     "text": [
      "Enter a number: 7\n",
      "Enter a number: 2\n",
      "Enter a number: 4\n",
      "Enter a number: 10\n",
      "Enter a number: bob\n",
      "Invalid input\n",
      "Enter a number: done\n",
      "Maximum is 10\n",
      "Minimum is 2\n"
     ]
    }
   ],
   "source": [
    "largest = None\n",
    "smallest = None\n",
    "while True:\n",
    "    try:\n",
    "        num = input(\"Enter a number: \")\n",
    "        if num == \"done\":\n",
    "            break\n",
    "        #print (num)\n",
    "        num = int(num)\n",
    "        if largest is None or largest < num:\n",
    "            largest = num\n",
    "        elif smallest is None or smallest > num:\n",
    "             smallest =num\n",
    "    except:\n",
    "        print(\"Invalid input\")\n",
    "print (\"Maximum is\", largest)\n",
    "print (\"Minimum is\", smallest)"
   ]
  },
  {
   "cell_type": "code",
   "execution_count": 4,
   "metadata": {},
   "outputs": [
    {
     "name": "stdout",
     "output_type": "stream",
     "text": [
      "[1.0, 0.0, 0.0]\n",
      "[0.4444444444444444, 0.4444444444444444, 0.1111111111111111]\n",
      "[0.3333333333333333, 0.3333333333333333, 0.3333333333333333]\n"
     ]
    }
   ],
   "source": [
    "# Program to multiply two matrices using list comprehension\n",
    " \n",
    "# take a 3x3 matrix\n",
    "A = [[1, 0, 0],\n",
    "    [1/3, 1/3, 1/3],\n",
    "    [0, 1, 0]]\n",
    " \n",
    "# take a 3x4 matrix\n",
    "B = [[1, 0, 0],\n",
    "    [1/3, 1/3, 1/3],\n",
    "    [0, 1, 0]]\n",
    " \n",
    "# result will be 3x4\n",
    "result = [[sum(a * b for a, b in zip(A_row, B_col))\n",
    "                        for B_col in zip(*B)]\n",
    "                                for A_row in A]\n",
    " \n",
    "for r in result:\n",
    "    print(r)"
   ]
  },
  {
   "cell_type": "code",
   "execution_count": 18,
   "metadata": {},
   "outputs": [
    {
     "name": "stdout",
     "output_type": "stream",
     "text": [
      "[1. 0. 0.]\n",
      "[0.44444444 0.44444444 0.11111111]\n",
      "[0.33333333 0.33333333 0.33333333]\n"
     ]
    }
   ],
   "source": [
    "import numpy as np\n",
    "# take a 3x3 matrix\n",
    "A = [[1, 0, 0],\n",
    "    [1/3, 1/3, 1/3],\n",
    "    [0, 1, 0]]\n",
    " \n",
    "B=[[1, 0, 0],\n",
    "    [1/3, 1/3, 1/3],\n",
    "    [0, 1, 0]]\n",
    " \n",
    "# result will be 3x4\n",
    " \n",
    "result= [[0,0,0],\n",
    "        [0,0,0],\n",
    "        [0,0,0]]\n",
    " \n",
    "result = np.dot (A,A)\n",
    " \n",
    "for r in result:\n",
    "    print(r)"
   ]
  },
  {
   "cell_type": "code",
   "execution_count": 25,
   "metadata": {},
   "outputs": [
    {
     "name": "stdout",
     "output_type": "stream",
     "text": [
      "[[1.         0.         0.        ]\n",
      " [0.67901235 0.2345679  0.08641975]\n",
      " [0.59259259 0.25925926 0.14814815]]\n"
     ]
    }
   ],
   "source": [
    "import numpy as np\n",
    "\n",
    "matrix = np.array([[1, 0, 0],[1/3, 1/3, 1/3],[0, 1, 0]])\n",
    "\n",
    "power = np.linalg.matrix_power(matrix,4)\n",
    "\n",
    "print(power)\n"
   ]
  },
  {
   "cell_type": "code",
   "execution_count": null,
   "metadata": {},
   "outputs": [],
   "source": []
  }
 ],
 "metadata": {
  "kernelspec": {
   "display_name": "Python 3",
   "language": "python",
   "name": "python3"
  },
  "language_info": {
   "codemirror_mode": {
    "name": "ipython",
    "version": 3
   },
   "file_extension": ".py",
   "mimetype": "text/x-python",
   "name": "python",
   "nbconvert_exporter": "python",
   "pygments_lexer": "ipython3",
   "version": "3.7.3"
  }
 },
 "nbformat": 4,
 "nbformat_minor": 2
}
