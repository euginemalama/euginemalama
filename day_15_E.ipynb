{
 "cells": [
  {
   "cell_type": "code",
   "execution_count": 6,
   "metadata": {},
   "outputs": [],
   "source": [
    "import numpy as np\n",
    "\n",
    "#be careful on the copying in list and arrays"
   ]
  },
  {
   "cell_type": "code",
   "execution_count": 7,
   "metadata": {},
   "outputs": [],
   "source": [
    "A=np.array([1,2,3])\n",
    "B=A\n",
    "B[0]=-1000"
   ]
  },
  {
   "cell_type": "code",
   "execution_count": 8,
   "metadata": {},
   "outputs": [
    {
     "name": "stdout",
     "output_type": "stream",
     "text": [
      "[-1000     2     3]\n",
      "[-1000     2     3]\n"
     ]
    }
   ],
   "source": [
    "print(A)\n",
    "print(B)"
   ]
  },
  {
   "cell_type": "code",
   "execution_count": 10,
   "metadata": {},
   "outputs": [
    {
     "name": "stdout",
     "output_type": "stream",
     "text": [
      "[1, 2, 3]\n",
      "[-1000, 2, 3]\n"
     ]
    }
   ],
   "source": [
    "A=list([1,2,3])\n",
    "B=A[:]\n",
    "B[0]=-1000\n",
    "\n",
    "print(A)\n",
    "print(B)"
   ]
  },
  {
   "cell_type": "code",
   "execution_count": 16,
   "metadata": {
    "scrolled": true
   },
   "outputs": [],
   "source": [
    "Arr=np.array([[4,5,6],[7,8,9]])"
   ]
  },
  {
   "cell_type": "code",
   "execution_count": 20,
   "metadata": {},
   "outputs": [
    {
     "data": {
      "text/plain": [
       "9"
      ]
     },
     "execution_count": 20,
     "metadata": {},
     "output_type": "execute_result"
    }
   ],
   "source": [
    "6+3"
   ]
  },
  {
   "cell_type": "code",
   "execution_count": 23,
   "metadata": {},
   "outputs": [
    {
     "name": "stdout",
     "output_type": "stream",
     "text": [
      "Help on built-in function zeros in module numpy:\n",
      "\n",
      "zeros(...)\n",
      "    zeros(shape, dtype=float, order='C')\n",
      "    \n",
      "    Return a new array of given shape and type, filled with zeros.\n",
      "    \n",
      "    Parameters\n",
      "    ----------\n",
      "    shape : int or tuple of ints\n",
      "        Shape of the new array, e.g., ``(2, 3)`` or ``2``.\n",
      "    dtype : data-type, optional\n",
      "        The desired data-type for the array, e.g., `numpy.int8`.  Default is\n",
      "        `numpy.float64`.\n",
      "    order : {'C', 'F'}, optional, default: 'C'\n",
      "        Whether to store multi-dimensional data in row-major\n",
      "        (C-style) or column-major (Fortran-style) order in\n",
      "        memory.\n",
      "    \n",
      "    Returns\n",
      "    -------\n",
      "    out : ndarray\n",
      "        Array of zeros with the given shape, dtype, and order.\n",
      "    \n",
      "    See Also\n",
      "    --------\n",
      "    zeros_like : Return an array of zeros with shape and type of input.\n",
      "    empty : Return a new uninitialized array.\n",
      "    ones : Return a new array setting values to one.\n",
      "    full : Return a new array of given shape filled with value.\n",
      "    \n",
      "    Examples\n",
      "    --------\n",
      "    >>> np.zeros(5)\n",
      "    array([ 0.,  0.,  0.,  0.,  0.])\n",
      "    \n",
      "    >>> np.zeros((5,), dtype=int)\n",
      "    array([0, 0, 0, 0, 0])\n",
      "    \n",
      "    >>> np.zeros((2, 1))\n",
      "    array([[ 0.],\n",
      "           [ 0.]])\n",
      "    \n",
      "    >>> s = (2,2)\n",
      "    >>> np.zeros(s)\n",
      "    array([[ 0.,  0.],\n",
      "           [ 0.,  0.]])\n",
      "    \n",
      "    >>> np.zeros((2,), dtype=[('x', 'i4'), ('y', 'i4')]) # custom dtype\n",
      "    array([(0, 0), (0, 0)],\n",
      "          dtype=[('x', '<i4'), ('y', '<i4')])\n",
      "\n"
     ]
    }
   ],
   "source": [
    "help(np.zeros)\n"
   ]
  },
  {
   "cell_type": "code",
   "execution_count": 24,
   "metadata": {},
   "outputs": [
    {
     "data": {
      "text/plain": [
       "array([[0., 0., 0.],\n",
       "       [0., 0., 0.]])"
      ]
     },
     "execution_count": 24,
     "metadata": {},
     "output_type": "execute_result"
    }
   ],
   "source": [
    "np.zeros((2,3))"
   ]
  },
  {
   "cell_type": "code",
   "execution_count": 25,
   "metadata": {},
   "outputs": [
    {
     "data": {
      "text/plain": [
       "array([[0., 0., 0.],\n",
       "       [0., 0., 0.]])"
      ]
     },
     "execution_count": 25,
     "metadata": {},
     "output_type": "execute_result"
    }
   ],
   "source": [
    "np.zeros([2,3])"
   ]
  },
  {
   "cell_type": "code",
   "execution_count": 26,
   "metadata": {},
   "outputs": [
    {
     "data": {
      "text/plain": [
       "array([[False, False, False],\n",
       "       [False, False, False]])"
      ]
     },
     "execution_count": 26,
     "metadata": {},
     "output_type": "execute_result"
    }
   ],
   "source": [
    "np.zeros([2,3],dtype=bool)"
   ]
  },
  {
   "cell_type": "code",
   "execution_count": 52,
   "metadata": {},
   "outputs": [],
   "source": [
    "X=np.random.randint(0,high=10,size=(10,15))\n"
   ]
  },
  {
   "cell_type": "code",
   "execution_count": 53,
   "metadata": {},
   "outputs": [
    {
     "data": {
      "text/plain": [
       "array([[4, 9, 2, 1, 7, 9, 5, 6, 9, 9, 3, 1, 0, 8, 1],\n",
       "       [5, 9, 5, 0, 8, 3, 6, 0, 3, 4, 2, 0, 6, 2, 5],\n",
       "       [5, 1, 9, 1, 4, 3, 8, 6, 0, 4, 9, 7, 3, 2, 7],\n",
       "       [0, 6, 7, 3, 8, 1, 2, 5, 7, 6, 9, 8, 5, 7, 9],\n",
       "       [6, 0, 0, 7, 0, 6, 3, 7, 4, 2, 2, 7, 4, 7, 1],\n",
       "       [1, 0, 7, 7, 7, 2, 0, 8, 8, 4, 9, 3, 0, 6, 0],\n",
       "       [6, 8, 9, 2, 9, 1, 2, 9, 4, 1, 9, 8, 8, 2, 6],\n",
       "       [1, 1, 9, 0, 9, 1, 8, 8, 5, 5, 9, 2, 7, 6, 5],\n",
       "       [5, 0, 2, 7, 0, 5, 7, 2, 0, 7, 0, 5, 2, 8, 0],\n",
       "       [6, 7, 0, 4, 8, 3, 3, 7, 4, 4, 7, 8, 3, 4, 3]])"
      ]
     },
     "execution_count": 53,
     "metadata": {},
     "output_type": "execute_result"
    }
   ],
   "source": [
    "X"
   ]
  },
  {
   "cell_type": "code",
   "execution_count": 54,
   "metadata": {},
   "outputs": [],
   "source": [
    "import matplotlib.pyplot as plt"
   ]
  },
  {
   "cell_type": "code",
   "execution_count": 59,
   "metadata": {},
   "outputs": [
    {
     "data": {
      "image/png": "[encoded data removed]",
      "text/plain": [
       "<Figure size 432x288 with 2 Axes>"
      ]
     },
     "metadata": {
      "needs_background": "light"
     },
     "output_type": "display_data"
    }
   ],
   "source": [
    "plt.imshow(X)\n",
    "plt.colorbar()\n",
    "plt.savefig('my imaage.jpg')\n",
    "plt.show()"
   ]
  },
  {
   "cell_type": "code",
   "execution_count": 60,
   "metadata": {},
   "outputs": [
    {
     "name": "stdout",
     "output_type": "stream",
     "text": [
      "0 0 0\n",
      "0 0 1\n",
      "0 0 2\n",
      "0 1 0\n",
      "0 1 1\n",
      "0 1 2\n",
      "0 2 0\n",
      "0 2 1\n",
      "0 2 2\n",
      "0 3 0\n",
      "0 3 1\n",
      "0 3 2\n",
      "1 0 0\n",
      "1 0 1\n",
      "1 0 2\n",
      "1 1 0\n",
      "1 1 1\n",
      "1 1 2\n",
      "1 2 0\n",
      "1 2 1\n",
      "1 2 2\n",
      "1 3 0\n",
      "1 3 1\n",
      "1 3 2\n",
      "2 0 0\n",
      "2 0 1\n",
      "2 0 2\n",
      "2 1 0\n",
      "2 1 1\n",
      "2 1 2\n",
      "2 2 0\n",
      "2 2 1\n",
      "2 2 2\n",
      "2 3 0\n",
      "2 3 1\n",
      "2 3 2\n",
      "3 0 0\n",
      "3 0 1\n",
      "3 0 2\n",
      "3 1 0\n",
      "3 1 1\n",
      "3 1 2\n",
      "3 2 0\n",
      "3 2 1\n",
      "3 2 2\n",
      "3 3 0\n",
      "3 3 1\n",
      "3 3 2\n",
      "4 0 0\n",
      "4 0 1\n",
      "4 0 2\n",
      "4 1 0\n",
      "4 1 1\n",
      "4 1 2\n",
      "4 2 0\n",
      "4 2 1\n",
      "4 2 2\n",
      "4 3 0\n",
      "4 3 1\n",
      "4 3 2\n"
     ]
    }
   ],
   "source": [
    "for i in range(5):\n",
    "    for j in range(4):\n",
    "        for k in range(3):\n",
    "            print(i,j,k)\n",
    "    "
   ]
  },
  {
   "cell_type": "code",
   "execution_count": 61,
   "metadata": {},
   "outputs": [
    {
     "name": "stdout",
     "output_type": "stream",
     "text": [
      "0 0 0\n",
      "0 0 1\n",
      "0 0 2\n",
      "hi\n",
      "0 1 0\n",
      "0 1 1\n",
      "0 1 2\n",
      "hi\n",
      "0 2 0\n",
      "0 2 1\n",
      "0 2 2\n",
      "hi\n",
      "0 3 0\n",
      "0 3 1\n",
      "0 3 2\n",
      "hi\n",
      "1 0 0\n",
      "1 0 1\n",
      "1 0 2\n",
      "hi\n",
      "1 1 0\n",
      "1 1 1\n",
      "1 1 2\n",
      "hi\n",
      "1 2 0\n",
      "1 2 1\n",
      "1 2 2\n",
      "hi\n",
      "1 3 0\n",
      "1 3 1\n",
      "1 3 2\n",
      "hi\n",
      "2 0 0\n",
      "2 0 1\n",
      "2 0 2\n",
      "hi\n",
      "2 1 0\n",
      "2 1 1\n",
      "2 1 2\n",
      "hi\n",
      "2 2 0\n",
      "2 2 1\n",
      "2 2 2\n",
      "hi\n",
      "2 3 0\n",
      "2 3 1\n",
      "2 3 2\n",
      "hi\n",
      "3 0 0\n",
      "3 0 1\n",
      "3 0 2\n",
      "hi\n",
      "3 1 0\n",
      "3 1 1\n",
      "3 1 2\n",
      "hi\n",
      "3 2 0\n",
      "3 2 1\n",
      "3 2 2\n",
      "hi\n",
      "3 3 0\n",
      "3 3 1\n",
      "3 3 2\n",
      "hi\n",
      "4 0 0\n",
      "4 0 1\n",
      "4 0 2\n",
      "hi\n",
      "4 1 0\n",
      "4 1 1\n",
      "4 1 2\n",
      "hi\n",
      "4 2 0\n",
      "4 2 1\n",
      "4 2 2\n",
      "hi\n",
      "4 3 0\n",
      "4 3 1\n",
      "4 3 2\n",
      "hi\n"
     ]
    }
   ],
   "source": [
    "for i in range(5):\n",
    "    for j in range(4):\n",
    "        for k in range(3):\n",
    "            print(i,j,k)\n",
    "        print(\"hi\")"
   ]
  },
  {
   "cell_type": "code",
   "execution_count": 62,
   "metadata": {},
   "outputs": [
    {
     "name": "stdout",
     "output_type": "stream",
     "text": [
      "0 0 0\n",
      "0 0 1\n",
      "0 0 2\n",
      "hi\n",
      "0 1 0\n",
      "0 1 1\n",
      "0 1 2\n",
      "hi\n",
      "0 2 0\n",
      "0 2 1\n",
      "0 2 2\n",
      "hi\n",
      "0 3 0\n",
      "0 3 1\n",
      "0 3 2\n",
      "hi\n",
      "bye\n",
      "1 0 0\n",
      "1 0 1\n",
      "1 0 2\n",
      "hi\n",
      "1 1 0\n",
      "1 1 1\n",
      "1 1 2\n",
      "hi\n",
      "1 2 0\n",
      "1 2 1\n",
      "1 2 2\n",
      "hi\n",
      "1 3 0\n",
      "1 3 1\n",
      "1 3 2\n",
      "hi\n",
      "bye\n",
      "2 0 0\n",
      "2 0 1\n",
      "2 0 2\n",
      "hi\n",
      "2 1 0\n",
      "2 1 1\n",
      "2 1 2\n",
      "hi\n",
      "2 2 0\n",
      "2 2 1\n",
      "2 2 2\n",
      "hi\n",
      "2 3 0\n",
      "2 3 1\n",
      "2 3 2\n",
      "hi\n",
      "bye\n",
      "3 0 0\n",
      "3 0 1\n",
      "3 0 2\n",
      "hi\n",
      "3 1 0\n",
      "3 1 1\n",
      "3 1 2\n",
      "hi\n",
      "3 2 0\n",
      "3 2 1\n",
      "3 2 2\n",
      "hi\n",
      "3 3 0\n",
      "3 3 1\n",
      "3 3 2\n",
      "hi\n",
      "bye\n",
      "4 0 0\n",
      "4 0 1\n",
      "4 0 2\n",
      "hi\n",
      "4 1 0\n",
      "4 1 1\n",
      "4 1 2\n",
      "hi\n",
      "4 2 0\n",
      "4 2 1\n",
      "4 2 2\n",
      "hi\n",
      "4 3 0\n",
      "4 3 1\n",
      "4 3 2\n",
      "hi\n",
      "bye\n"
     ]
    }
   ],
   "source": [
    "for i in range(5):\n",
    "    for j in range(4):\n",
    "        for k in range(3):\n",
    "            print(i,j,k)\n",
    "        print(\"hi\")\n",
    "    print(\"bye\")"
   ]
  },
  {
   "cell_type": "code",
   "execution_count": 67,
   "metadata": {},
   "outputs": [
    {
     "name": "stdout",
     "output_type": "stream",
     "text": [
      "small\n",
      "even\n"
     ]
    }
   ],
   "source": [
    "#nested conditions\n",
    "\n",
    "x=5\n",
    "if x>5:\n",
    "    print(\"large\")\n",
    "    if x%2:\n",
    "        print(\"odd\")\n",
    "    else:\n",
    "        print(\"even\")\n",
    "else:\n",
    "    print(\"small\")\n",
    "    if x%2==0:\n",
    "        print(\"odd\")\n",
    "    else:\n",
    "        print(\"even\")"
   ]
  },
  {
   "cell_type": "code",
   "execution_count": 71,
   "metadata": {},
   "outputs": [
    {
     "name": "stdout",
     "output_type": "stream",
     "text": [
      "0\n",
      "5\n",
      "10\n",
      "15\n",
      "20\n",
      "25\n",
      "30\n",
      "35\n",
      "40\n",
      "45\n",
      "50\n",
      "55\n",
      "60\n",
      "65\n",
      "70\n",
      "75\n",
      "80\n",
      "85\n",
      "90\n",
      "95\n",
      "100\n",
      "105\n",
      "110\n",
      "115\n",
      "120\n",
      "125\n",
      "130\n",
      "135\n",
      "140\n",
      "145\n",
      "150\n",
      "155\n",
      "160\n",
      "165\n",
      "170\n",
      "175\n",
      "180\n",
      "185\n",
      "190\n",
      "195\n",
      "200\n"
     ]
    }
   ],
   "source": [
    "for i in range(201):\n",
    "    if i%5==0:\n",
    "        print(i)\n",
    "        "
   ]
  },
  {
   "cell_type": "code",
   "execution_count": 72,
   "metadata": {},
   "outputs": [
    {
     "name": "stdout",
     "output_type": "stream",
     "text": [
      "0\n",
      "5\n",
      "10\n",
      "15\n",
      "20\n",
      "25\n",
      "30\n",
      "35\n",
      "40\n",
      "45\n",
      "50\n",
      "55\n",
      "60\n",
      "65\n",
      "70\n",
      "75\n",
      "80\n",
      "85\n",
      "90\n",
      "95\n",
      "100\n",
      "105\n",
      "110\n",
      "115\n",
      "120\n",
      "125\n",
      "130\n",
      "135\n",
      "140\n",
      "145\n",
      "150\n",
      "155\n",
      "160\n",
      "165\n",
      "170\n",
      "175\n",
      "180\n",
      "185\n",
      "190\n",
      "195\n",
      "200\n",
      "count= 41\n"
     ]
    }
   ],
   "source": [
    "count=0\n",
    "for i in range(201):\n",
    "    if i%5==0:\n",
    "        print(i)\n",
    "        count += 1\n",
    "print(\"count=\", count)"
   ]
  },
  {
   "cell_type": "code",
   "execution_count": null,
   "metadata": {},
   "outputs": [],
   "source": []
  }
 ],
 "metadata": {
  "kernelspec": {
   "display_name": "Python 3",
   "language": "python",
   "name": "python3"
  },
  "language_info": {
   "codemirror_mode": {
    "name": "ipython",
    "version": 3
   },
   "file_extension": ".py",
   "mimetype": "text/x-python",
   "name": "python",
   "nbconvert_exporter": "python",
   "pygments_lexer": "ipython3",
   "version": "3.7.3"
  }
 },
 "nbformat": 4,
 "nbformat_minor": 2
}
