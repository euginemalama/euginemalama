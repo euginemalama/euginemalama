{
 "cells": [
  {
   "cell_type": "code",
   "execution_count": 11,
   "metadata": {},
   "outputs": [
    {
     "name": "stdout",
     "output_type": "stream",
     "text": [
      "sum of the first 100 Natural numbers squared= 25502500\n",
      "sum of squares of 100 numbers = 338350\n",
      "The difference = 25164150\n"
     ]
    }
   ],
   "source": [
    "#Q1:\n",
    "\n",
    "import numpy as np\n",
    "\n",
    "A = np.arange(1,101)\n",
    "Sum = 0\n",
    "Sumsq = 0\n",
    "\n",
    "for i in range(100):\n",
    "    Sum += A[i]\n",
    "    Sumsq += A[i]**2\n",
    "    \n",
    "print(\"sum of the first 100 Natural numbers squared=\", Sum**2)\n",
    "print(\"sum of squares of 100 numbers =\", Sumsq)\n",
    "\n",
    "difference = Sum**2 - Sumsq\n",
    "print(\"The difference =\", difference)\n"
   ]
  },
  {
   "cell_type": "code",
   "execution_count": 13,
   "metadata": {},
   "outputs": [
    {
     "name": "stdout",
     "output_type": "stream",
     "text": [
      "The number is: 6174\n"
     ]
    }
   ],
   "source": [
    "#Q2:\n",
    "\n",
    "for number in range (1000,10000):\n",
    "    ascending=\"\". join(sorted (str(number)))\n",
    "    A=int(ascending)\n",
    "    descending=\"\". join(sorted(str(number), reverse= True))\n",
    "    B=int(descending)\n",
    "    if number==(B-A):\n",
    "        print('The number is:',number)"
   ]
  },
  {
   "cell_type": "code",
   "execution_count": 14,
   "metadata": {},
   "outputs": [],
   "source": [
    "#Q3a:\n",
    "def divsum(n):\n",
    "    dsum=0\n",
    "    for i in range(1,n):\n",
    "        if n%i == 0:\n",
    "            dsum += i\n",
    "    return dsum"
   ]
  },
  {
   "cell_type": "code",
   "execution_count": 15,
   "metadata": {},
   "outputs": [
    {
     "data": {
      "text/plain": [
       "7"
      ]
     },
     "execution_count": 15,
     "metadata": {},
     "output_type": "execute_result"
    }
   ],
   "source": [
    "divsum(8)"
   ]
  },
  {
   "cell_type": "code",
   "execution_count": 9,
   "metadata": {},
   "outputs": [
    {
     "name": "stdout",
     "output_type": "stream",
     "text": [
      "220 284 are amicable pairs\n",
      "284 220 are amicable pairs\n"
     ]
    },
    {
     "ename": "KeyboardInterrupt",
     "evalue": "",
     "output_type": "error",
     "traceback": [
      "\u001b[0;31m---------------------------------------------------------------------------\u001b[0m",
      "\u001b[0;31mKeyboardInterrupt\u001b[0m                         Traceback (most recent call last)",
      "\u001b[0;32m<ipython-input-9-90d0f4a7122a>\u001b[0m in \u001b[0;36m<module>\u001b[0;34m()\u001b[0m\n\u001b[1;32m      2\u001b[0m \u001b[0;32mfor\u001b[0m \u001b[0mj\u001b[0m \u001b[0;32min\u001b[0m \u001b[0mrange\u001b[0m\u001b[0;34m(\u001b[0m\u001b[0;36m1\u001b[0m\u001b[0;34m,\u001b[0m\u001b[0;36m10000\u001b[0m\u001b[0;34m)\u001b[0m\u001b[0;34m:\u001b[0m\u001b[0;34m\u001b[0m\u001b[0;34m\u001b[0m\u001b[0m\n\u001b[1;32m      3\u001b[0m     \u001b[0;32mfor\u001b[0m \u001b[0mk\u001b[0m \u001b[0;32min\u001b[0m \u001b[0mrange\u001b[0m\u001b[0;34m(\u001b[0m\u001b[0;36m10000\u001b[0m\u001b[0;34m,\u001b[0m\u001b[0;36m1\u001b[0m\u001b[0;34m,\u001b[0m\u001b[0;34m-\u001b[0m\u001b[0;36m1\u001b[0m\u001b[0;34m)\u001b[0m\u001b[0;34m:\u001b[0m\u001b[0;34m\u001b[0m\u001b[0;34m\u001b[0m\u001b[0m\n\u001b[0;32m----> 4\u001b[0;31m         \u001b[0;32mif\u001b[0m \u001b[0mdivsum\u001b[0m\u001b[0;34m(\u001b[0m\u001b[0mj\u001b[0m\u001b[0;34m)\u001b[0m\u001b[0;34m==\u001b[0m\u001b[0mk\u001b[0m \u001b[0;32mand\u001b[0m \u001b[0mdivsum\u001b[0m\u001b[0;34m(\u001b[0m\u001b[0mk\u001b[0m\u001b[0;34m)\u001b[0m\u001b[0;34m==\u001b[0m \u001b[0mj\u001b[0m \u001b[0;32mand\u001b[0m \u001b[0mj\u001b[0m \u001b[0;34m!=\u001b[0m \u001b[0mk\u001b[0m\u001b[0;34m:\u001b[0m\u001b[0;34m\u001b[0m\u001b[0;34m\u001b[0m\u001b[0m\n\u001b[0m\u001b[1;32m      5\u001b[0m             \u001b[0mprint\u001b[0m\u001b[0;34m(\u001b[0m\u001b[0mj\u001b[0m\u001b[0;34m,\u001b[0m\u001b[0mk\u001b[0m\u001b[0;34m,\u001b[0m\u001b[0;34m\"are amicable pairs\"\u001b[0m\u001b[0;34m)\u001b[0m\u001b[0;34m\u001b[0m\u001b[0;34m\u001b[0m\u001b[0m\n",
      "\u001b[0;32m<ipython-input-4-06a7b8de42e1>\u001b[0m in \u001b[0;36mdivsum\u001b[0;34m(n)\u001b[0m\n\u001b[1;32m      3\u001b[0m     \u001b[0mdsum\u001b[0m\u001b[0;34m=\u001b[0m\u001b[0;36m0\u001b[0m\u001b[0;34m\u001b[0m\u001b[0;34m\u001b[0m\u001b[0m\n\u001b[1;32m      4\u001b[0m     \u001b[0;32mfor\u001b[0m \u001b[0mi\u001b[0m \u001b[0;32min\u001b[0m \u001b[0mrange\u001b[0m\u001b[0;34m(\u001b[0m\u001b[0;36m1\u001b[0m\u001b[0;34m,\u001b[0m\u001b[0mn\u001b[0m\u001b[0;34m)\u001b[0m\u001b[0;34m:\u001b[0m\u001b[0;34m\u001b[0m\u001b[0;34m\u001b[0m\u001b[0m\n\u001b[0;32m----> 5\u001b[0;31m         \u001b[0;32mif\u001b[0m \u001b[0mn\u001b[0m\u001b[0;34m%\u001b[0m\u001b[0mi\u001b[0m \u001b[0;34m==\u001b[0m \u001b[0;36m0\u001b[0m\u001b[0;34m:\u001b[0m\u001b[0;34m\u001b[0m\u001b[0;34m\u001b[0m\u001b[0m\n\u001b[0m\u001b[1;32m      6\u001b[0m             \u001b[0mdsum\u001b[0m \u001b[0;34m+=\u001b[0m \u001b[0mi\u001b[0m\u001b[0;34m\u001b[0m\u001b[0;34m\u001b[0m\u001b[0m\n\u001b[1;32m      7\u001b[0m     \u001b[0;32mreturn\u001b[0m \u001b[0mdsum\u001b[0m\u001b[0;34m\u001b[0m\u001b[0;34m\u001b[0m\u001b[0m\n",
      "\u001b[0;31mKeyboardInterrupt\u001b[0m: "
     ]
    }
   ],
   "source": [
    "#Q3b:\n",
    "for j in range(1,10000):\n",
    "    for k in range(10000,1,-1):\n",
    "        if divsum(j)==k and divsum(k)== j and j != k:\n",
    "            print(j,k,\"are amicable pairs\")"
   ]
  },
  {
   "cell_type": "code",
   "execution_count": 16,
   "metadata": {},
   "outputs": [
    {
     "data": {
      "text/plain": [
       "array([0.17757875, 0.67483423])"
      ]
     },
     "execution_count": 16,
     "metadata": {},
     "output_type": "execute_result"
    }
   ],
   "source": [
    "#Q4:\n",
    "\n",
    "x=np.random.uniform(-1,1,2)\n",
    "x"
   ]
  },
  {
   "cell_type": "code",
   "execution_count": 17,
   "metadata": {},
   "outputs": [
    {
     "name": "stdout",
     "output_type": "stream",
     "text": [
      "ratio= 2.96\n"
     ]
    }
   ],
   "source": [
    "N=100\n",
    "C=0\n",
    "\n",
    "\n",
    "for i in range(N):\n",
    "    x = np.random.uniform (-1,1,2)\n",
    "    r= np.sqrt(x[0]**2 + x[1]**2)\n",
    "    \n",
    "    if r< 1 :\n",
    "        C +=1\n",
    "        ratio=(4*C)/N\n",
    "print(\"ratio=\",ratio)\n"
   ]
  },
  {
   "cell_type": "code",
   "execution_count": 18,
   "metadata": {},
   "outputs": [
    {
     "name": "stdout",
     "output_type": "stream",
     "text": [
      "ratio= 3.244\n"
     ]
    }
   ],
   "source": [
    "N=1000\n",
    "C=0\n",
    "\n",
    "\n",
    "for i in range(N):\n",
    "    x = np.random.uniform (-1,1,2)\n",
    "    r= np.sqrt(x[0]**2 + x[1]**2)\n",
    "    \n",
    "    if r< 1 :\n",
    "        C +=1\n",
    "        ratio=(4*C)/N\n",
    "print(\"ratio=\",ratio)\n"
   ]
  },
  {
   "cell_type": "code",
   "execution_count": 19,
   "metadata": {},
   "outputs": [
    {
     "name": "stdout",
     "output_type": "stream",
     "text": [
      "ratio= 3.1256\n"
     ]
    }
   ],
   "source": [
    "N=10000\n",
    "C=0\n",
    "\n",
    "\n",
    "for i in range(N):\n",
    "    x = np.random.uniform (-1,1,2)\n",
    "    r= np.sqrt(x[0]**2 + x[1]**2)\n",
    "    \n",
    "    if r< 1 :\n",
    "        C +=1\n",
    "        ratio=(4*C)/N\n",
    "print(\"ratio=\",ratio)\n"
   ]
  },
  {
   "cell_type": "code",
   "execution_count": 20,
   "metadata": {},
   "outputs": [
    {
     "name": "stdout",
     "output_type": "stream",
     "text": [
      "ratio= 3.13944\n"
     ]
    }
   ],
   "source": [
    "N=100000\n",
    "C=0\n",
    "\n",
    "\n",
    "for i in range(N):\n",
    "    x = np.random.uniform (-1,1,2)\n",
    "    r= np.sqrt(x[0]**2 + x[1]**2)\n",
    "    \n",
    "    if r< 1 :\n",
    "        C +=1\n",
    "        ratio=(4*C)/N\n",
    "print(\"ratio=\",ratio)\n"
   ]
  },
  {
   "cell_type": "code",
   "execution_count": 21,
   "metadata": {},
   "outputs": [
    {
     "name": "stdout",
     "output_type": "stream",
     "text": [
      "ratio= 3.14186\n"
     ]
    }
   ],
   "source": [
    "N=1000000\n",
    "C=0\n",
    "\n",
    "\n",
    "for i in range(N):\n",
    "    x = np.random.uniform (-1,1,2)\n",
    "    r= np.sqrt(x[0]**2 + x[1]**2)\n",
    "    \n",
    "    if r< 1 :\n",
    "        C +=1\n",
    "        ratio=(4*C)/N\n",
    "print(\"ratio=\",ratio)\n"
   ]
  },
  {
   "cell_type": "code",
   "execution_count": 34,
   "metadata": {},
   "outputs": [],
   "source": [
    "#CONCLUSIONS\n",
    "\n",
    "#the degree of precision is increasing with the increasing in the value of N\n",
    " "
   ]
  },
  {
   "cell_type": "code",
   "execution_count": 52,
   "metadata": {},
   "outputs": [
    {
     "data": {
      "text/plain": [
       "array([[-0.11648107,  0.03438572,  1.11077797],\n",
       "       [-1.97197904, -0.47381565, -0.61713459],\n",
       "       [ 0.86867101,  0.05962561,  0.48908903],\n",
       "       ...,\n",
       "       [-0.53441926,  0.2106053 ,  0.80553151],\n",
       "       [ 0.72061531,  0.66035958,  1.7937027 ],\n",
       "       [-0.71155835, -2.3156804 ,  1.14958485]])"
      ]
     },
     "execution_count": 52,
     "metadata": {},
     "output_type": "execute_result"
    }
   ],
   "source": [
    "#Q5:\n",
    "#i:\n",
    "\n",
    "A= np.random.randn (1000,3)\n",
    "A"
   ]
  },
  {
   "cell_type": "code",
   "execution_count": 53,
   "metadata": {},
   "outputs": [
    {
     "data": {
      "text/plain": [
       "array([[51.47269739, 49.13140617, 50.72291548],\n",
       "       [48.94836416, 49.50113387, 50.10590612],\n",
       "       [49.58579256, 51.66203856, 48.51610537],\n",
       "       ...,\n",
       "       [49.37914372, 51.23470329, 49.3677082 ],\n",
       "       [49.6076522 , 49.20217076, 50.13340439],\n",
       "       [51.13776673, 50.48730654, 48.34819425]])"
      ]
     },
     "execution_count": 53,
     "metadata": {},
     "output_type": "execute_result"
    }
   ],
   "source": [
    "\n",
    "B= 50 +np.random.randn (1000,3)\n",
    "B"
   ]
  },
  {
   "cell_type": "code",
   "execution_count": 54,
   "metadata": {},
   "outputs": [
    {
     "name": "stdout",
     "output_type": "stream",
     "text": [
      "pearsoncorr= [[ 1.00000000e+00 -5.79967143e-04]\n",
      " [-5.79967143e-04  1.00000000e+00]]\n",
      "corcoef= -0.0005799671431667902\n"
     ]
    }
   ],
   "source": [
    "\n",
    "pearsoncorr =np.corrcoef(B[:,0],B[:,1])\n",
    "\n",
    "corcoef= pearsoncorr[0,1]\n",
    "\n",
    "print(\"pearsoncorr=\",pearsoncorr)\n",
    "print(\"corcoef=\",corcoef)"
   ]
  },
  {
   "cell_type": "code",
   "execution_count": 55,
   "metadata": {},
   "outputs": [],
   "source": [
    "#ii:\n",
    "import matplotlib.pyplot as plt"
   ]
  },
  {
   "cell_type": "code",
   "execution_count": 56,
   "metadata": {},
   "outputs": [
    {
     "data": {
      "image/png": "[encoded data removed]",
      "text/plain": [
       "<Figure size 432x288 with 1 Axes>"
      ]
     },
     "metadata": {
      "needs_background": "light"
     },
     "output_type": "display_data"
    }
   ],
   "source": [
    "plt.plot(A[:,0],A[:,1], marker='.',ls='')\n",
    "plt.axis('scaled')\n",
    "plt.show()\n"
   ]
  },
  {
   "cell_type": "code",
   "execution_count": 57,
   "metadata": {},
   "outputs": [
    {
     "name": "stdout",
     "output_type": "stream",
     "text": [
      "correlation coeficient= [[ 1.         -0.02296659]\n",
      " [-0.02296659  1.        ]]\n"
     ]
    },
    {
     "data": {
      "image/png": "[encoded data removed]",
      "text/plain": [
       "<Figure size 432x288 with 1 Axes>"
      ]
     },
     "metadata": {
      "needs_background": "light"
     },
     "output_type": "display_data"
    }
   ],
   "source": [
    "#iii:\n",
    "\n",
    "C=np.ones(1000)\n",
    "D=np.ones(1000)\n",
    "\n",
    "\n",
    "for i in range (1000):\n",
    "    C[i]=A[i, 0] / A[i, 2]\n",
    "    D[i]=A[i, 1]/ A[i, 2]\n",
    "    \n",
    "corCD=np.corrcoef(C,D)\n",
    "\n",
    "print(\"correlation coeficient=\", corCD)\n",
    "plt.scatter(C,D)\n",
    "plt.show()\n",
    "\n",
    "    "
   ]
  },
  {
   "cell_type": "code",
   "execution_count": null,
   "metadata": {},
   "outputs": [],
   "source": [
    "#BONUS QUESTION"
   ]
  },
  {
   "cell_type": "code",
   "execution_count": 58,
   "metadata": {},
   "outputs": [
    {
     "name": "stdout",
     "output_type": "stream",
     "text": [
      "distance= 4.47213595499958\n"
     ]
    }
   ],
   "source": [
    "#i:\n",
    "\n",
    "def d(x,y):\n",
    "    return (x**2 +y**2)**0.5\n",
    "\n",
    "distance =d(2,4)\n",
    "print(\"distance=\", distance)"
   ]
  },
  {
   "cell_type": "code",
   "execution_count": 59,
   "metadata": {},
   "outputs": [
    {
     "data": {
      "text/plain": [
       "(15, 30)"
      ]
     },
     "execution_count": 59,
     "metadata": {},
     "output_type": "execute_result"
    }
   ],
   "source": [
    "#ii:\n",
    "\n",
    "N= 15 \n",
    "x= np.linspace(-5,5,N)\n",
    "y=np.linspace (-10,10,2*N)\n",
    "w=np.zeros ((N,2*N))\n",
    "\n",
    "for n in range (N):\n",
    "    for m in range(2*N):\n",
    "        w[n,m] = d(y[m],x[n])\n",
    "\n",
    "np.shape(w)\n",
    "    "
   ]
  },
  {
   "cell_type": "code",
   "execution_count": 60,
   "metadata": {},
   "outputs": [
    {
     "data": {
      "image/png": "[encoded data removed]",
      "text/plain": [
       "<Figure size 432x288 with 1 Axes>"
      ]
     },
     "metadata": {
      "needs_background": "light"
     },
     "output_type": "display_data"
    }
   ],
   "source": [
    "#iii:\n",
    "\n",
    "plt.plot(w)\n",
    "plt.colorbar\n",
    "plt.imshow(w, extent=[-5,5,10,-11])\n",
    "plt.show()"
   ]
  },
  {
   "cell_type": "code",
   "execution_count": null,
   "metadata": {},
   "outputs": [],
   "source": []
  }
 ],
 "metadata": {
  "kernelspec": {
   "display_name": "Python 3",
   "language": "python",
   "name": "python3"
  },
  "language_info": {
   "codemirror_mode": {
    "name": "ipython",
    "version": 3
   },
   "file_extension": ".py",
   "mimetype": "text/x-python",
   "name": "python",
   "nbconvert_exporter": "python",
   "pygments_lexer": "ipython3",
   "version": "3.7.3"
  }
 },
 "nbformat": 4,
 "nbformat_minor": 2
}
