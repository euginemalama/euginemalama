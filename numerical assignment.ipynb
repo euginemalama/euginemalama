{
 "cells": [
  {
   "cell_type": "code",
   "execution_count": 2,
   "metadata": {},
   "outputs": [],
   "source": [
    "import numpy as np"
   ]
  },
  {
   "cell_type": "code",
   "execution_count": 43,
   "metadata": {},
   "outputs": [
    {
     "name": "stdout",
     "output_type": "stream",
     "text": [
      "aMat= [[2 2 2 2 2 2 2 2 2]\n",
      " [2 2 2 2 2 2 2 2 2]\n",
      " [2 2 2 2 2 2 2 2 2]\n",
      " [2 2 2 2 2 2 2 2 2]\n",
      " [2 2 2 2 2 2 2 2 2]\n",
      " [2 2 2 2 2 2 2 2 2]\n",
      " [2 2 2 2 2 2 2 2 2]\n",
      " [2 2 2 2 2 2 2 2 2]\n",
      " [2 2 2 2 2 2 2 2 2]]\n"
     ]
    }
   ],
   "source": [
    "aMat=np.ones((9,9),dtype=int)*2\n",
    "print('aMat=',aMat)                                                ##5b"
   ]
  },
  {
   "cell_type": "code",
   "execution_count": 42,
   "metadata": {},
   "outputs": [
    {
     "name": "stdout",
     "output_type": "stream",
     "text": [
      "dMat= [[ 13  -1   5]\n",
      " [-22  10 -87]]\n"
     ]
    }
   ],
   "source": [
    "dMat=np.array([  [13,-1,5],[-22,10,-87]]) ##5d\n",
    "print('dMat=',dMat)\n"
   ]
  },
  {
   "cell_type": "code",
   "execution_count": 41,
   "metadata": {},
   "outputs": [
    {
     "name": "stdout",
     "output_type": "stream",
     "text": [
      "bMat= [[1 0 0 0 0 0 0 0 0]\n",
      " [0 2 0 0 0 0 0 0 0]\n",
      " [0 0 3 0 0 0 0 0 0]\n",
      " [0 0 0 4 0 0 0 0 0]\n",
      " [0 0 0 0 5 0 0 0 0]\n",
      " [0 0 0 0 0 4 0 0 0]\n",
      " [0 0 0 0 0 0 3 0 0]\n",
      " [0 0 0 0 0 0 0 2 0]\n",
      " [0 0 0 0 0 0 0 0 1]]\n"
     ]
    }
   ],
   "source": [
    "bMat=np.diag([1,2,3,4,5,4,3,2,1])   \n",
    "print('bMat=', bMat)                                          ##5b"
   ]
  },
  {
   "cell_type": "code",
   "execution_count": 40,
   "metadata": {},
   "outputs": [
    {
     "name": "stdout",
     "output_type": "stream",
     "text": [
      "cMat= [[ 0 10 20 30 40 50 60 70 80 90]\n",
      " [ 1 11 21 31 41 51 61 71 81 91]\n",
      " [ 2 12 22 32 42 52 62 72 82 92]\n",
      " [ 3 13 23 33 43 53 63 73 83 93]\n",
      " [ 4 14 24 34 44 54 64 74 84 94]\n",
      " [ 5 15 25 35 45 55 65 75 85 95]\n",
      " [ 6 16 26 36 46 56 66 76 86 96]\n",
      " [ 7 17 27 37 47 57 67 77 87 97]\n",
      " [ 8 18 28 38 48 58 68 78 88 98]\n",
      " [ 9 19 29 39 49 59 69 79 89 99]]\n"
     ]
    }
   ],
   "source": [
    "cMat=np.arange(100).reshape((10,10)).transpose()\n",
    "print('cMat=', cMat)                                                    ##5c"
   ]
  },
  {
   "cell_type": "code",
   "execution_count": 39,
   "metadata": {},
   "outputs": [
    {
     "name": "stdout",
     "output_type": "stream",
     "text": [
      "bvec= [ 5.0000000e+00  4.8000000e+00  4.6000000e+00  4.4000000e+00\n",
      "  4.2000000e+00  4.0000000e+00  3.8000000e+00  3.6000000e+00\n",
      "  3.4000000e+00  3.2000000e+00  3.0000000e+00  2.8000000e+00\n",
      "  2.6000000e+00  2.4000000e+00  2.2000000e+00  2.0000000e+00\n",
      "  1.8000000e+00  1.6000000e+00  1.4000000e+00  1.2000000e+00\n",
      "  1.0000000e+00  8.0000000e-01  6.0000000e-01  4.0000000e-01\n",
      "  2.0000000e-01 -4.4408921e-15 -2.0000000e-01 -4.0000000e-01\n",
      " -6.0000000e-01 -8.0000000e-01 -1.0000000e+00 -1.2000000e+00\n",
      " -1.4000000e+00 -1.6000000e+00 -1.8000000e+00 -2.0000000e+00\n",
      " -2.2000000e+00 -2.4000000e+00 -2.6000000e+00 -2.8000000e+00\n",
      " -3.0000000e+00 -3.2000000e+00 -3.4000000e+00 -3.6000000e+00\n",
      " -3.8000000e+00 -4.0000000e+00 -4.2000000e+00 -4.4000000e+00\n",
      " -4.6000000e+00 -4.8000000e+00 -5.0000000e+00]\n"
     ]
    }
   ],
   "source": [
    "bvec=np.arange(5,-5.2,-0.2)                    ##4b\n",
    "print('bvec=',bvec)"
   ]
  },
  {
   "cell_type": "code",
   "execution_count": 3,
   "metadata": {},
   "outputs": [
    {
     "name": "stdout",
     "output_type": "stream",
     "text": [
      "aVec= [ 3.14 15.    9.   26.  ]\n"
     ]
    }
   ],
   "source": [
    "aVec=np.array([3.14, 15, 9, 26]) ##4a\n",
    "print('aVec=',aVec)"
   ]
  },
  {
   "cell_type": "code",
   "execution_count": null,
   "metadata": {},
   "outputs": [],
   "source": []
  }
 ],
 "metadata": {
  "kernelspec": {
   "display_name": "Python 3",
   "language": "python",
   "name": "python3"
  },
  "language_info": {
   "codemirror_mode": {
    "name": "ipython",
    "version": 3
   },
   "file_extension": ".py",
   "mimetype": "text/x-python",
   "name": "python",
   "nbconvert_exporter": "python",
   "pygments_lexer": "ipython3",
   "version": "3.7.3"
  }
 },
 "nbformat": 4,
 "nbformat_minor": 2
}
