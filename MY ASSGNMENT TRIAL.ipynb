{
 "cells": [
  {
   "cell_type": "code",
   "execution_count": 1,
   "metadata": {},
   "outputs": [
    {
     "name": "stdout",
     "output_type": "stream",
     "text": [
      "number: 56\n",
      "The square root is: 7.483314773547883\n"
     ]
    }
   ],
   "source": [
    "#Q2 \n",
    "\n",
    "x=input(\"number: \")\n",
    "y=float(x)\n",
    "\n",
    "if y< 0:\n",
    "    print(\"The square is:\", y**2)\n",
    "\n",
    "elif y==0:\n",
    "    print(\"A smiley face\")\n",
    "    \n",
    "else:\n",
    "    print(\"The square root is:\", y**0.5)"
   ]
  },
  {
   "cell_type": "code",
   "execution_count": 11,
   "metadata": {},
   "outputs": [
    {
     "name": "stdout",
     "output_type": "stream",
     "text": [
      "Yah\n"
     ]
    }
   ],
   "source": [
    "var4 = 0+0j\n",
    "y=type(var4)\n",
    "\n",
    "if y == complex or y==str :\n",
    "    print(\"Yah\")\n",
    "    \n",
    "else:\n",
    "    print(\"Boo\")"
   ]
  },
  {
   "cell_type": "code",
   "execution_count": 12,
   "metadata": {},
   "outputs": [],
   "source": [
    "import numpy as np"
   ]
  },
  {
   "cell_type": "code",
   "execution_count": 68,
   "metadata": {},
   "outputs": [
    {
     "name": "stdout",
     "output_type": "stream",
     "text": [
      "long array\n",
      "short array\n"
     ]
    }
   ],
   "source": [
    "Arr = np.arange (2,12)\n",
    "\n",
    "for elements in Arr:\n",
    "    if elements > 10:\n",
    "        print(\"long array\")\n",
    "else:\n",
    "    print(\"short array\")\n",
    "    "
   ]
  },
  {
   "cell_type": "code",
   "execution_count": 53,
   "metadata": {},
   "outputs": [],
   "source": [
    "\n",
    "Arr=np.arange(2, 10)\n",
    "\n"
   ]
  },
  {
   "cell_type": "code",
   "execution_count": 43,
   "metadata": {},
   "outputs": [
    {
     "data": {
      "text/plain": [
       "array([2, 3, 4, 5, 6, 7, 8, 9])"
      ]
     },
     "execution_count": 43,
     "metadata": {},
     "output_type": "execute_result"
    }
   ],
   "source": [
    "Arr=np.arange(2, 10)\n",
    "\n",
    "Arr"
   ]
  },
  {
   "cell_type": "code",
   "execution_count": 62,
   "metadata": {},
   "outputs": [
    {
     "data": {
      "text/plain": [
       "8"
      ]
     },
     "execution_count": 62,
     "metadata": {},
     "output_type": "execute_result"
    }
   ],
   "source": [
    "len(Arr)"
   ]
  },
  {
   "cell_type": "code",
   "execution_count": 70,
   "metadata": {},
   "outputs": [
    {
     "name": "stdout",
     "output_type": "stream",
     "text": [
      "short array [ 2 10  5]\n"
     ]
    }
   ],
   "source": [
    "Arr = np.array ([2,10,5])\n",
    "\n",
    "for i in Arr:\n",
    "    if i > 10:\n",
    "        print(\"long array\", Arr)\n",
    "else:\n",
    "    print(\"short array\", Arr)\n",
    "    \n"
   ]
  },
  {
   "cell_type": "code",
   "execution_count": 64,
   "metadata": {},
   "outputs": [
    {
     "name": "stdout",
     "output_type": "stream",
     "text": [
      "[ 2 10  5]\n"
     ]
    }
   ],
   "source": [
    "Arr = np.array ([2,10,5])\n",
    "\n",
    "print(Arr)"
   ]
  },
  {
   "cell_type": "code",
   "execution_count": 75,
   "metadata": {},
   "outputs": [
    {
     "name": "stdout",
     "output_type": "stream",
     "text": [
      "short and old array: [ 2 10  5]\n"
     ]
    }
   ],
   "source": [
    "Arr = np.array ([2,10,5])\n",
    "\n",
    "for i in Arr:\n",
    "    if i > 10 and (i%2)==0:\n",
    "        print(\"long and even array:\", Arr)\n",
    "    \n",
    "if i >10 and (i%2)!=0:\n",
    "        print(\"long and old array:\", Arr)\n",
    "elif i < 10 and (i%2)==0: \n",
    "    print(\"short and even array:\", Arr)\n",
    "    \n",
    "else:\n",
    "    print(\"short and old array:\", Arr)\n",
    "    "
   ]
  },
  {
   "cell_type": "code",
   "execution_count": 81,
   "metadata": {},
   "outputs": [],
   "source": [
    "#Q5\n",
    "\n",
    "c=np.linspace(-10,10,151, dtype=float)"
   ]
  },
  {
   "cell_type": "code",
   "execution_count": 82,
   "metadata": {},
   "outputs": [
    {
     "data": {
      "text/plain": [
       "151"
      ]
     },
     "execution_count": 82,
     "metadata": {},
     "output_type": "execute_result"
    }
   ],
   "source": [
    "len(c)"
   ]
  },
  {
   "cell_type": "code",
   "execution_count": 83,
   "metadata": {},
   "outputs": [
    {
     "data": {
      "text/plain": [
       "array([-10.        ,  -9.86666667,  -9.73333333,  -9.6       ,\n",
       "        -9.46666667,  -9.33333333,  -9.2       ,  -9.06666667,\n",
       "        -8.93333333,  -8.8       ,  -8.66666667,  -8.53333333,\n",
       "        -8.4       ,  -8.26666667,  -8.13333333,  -8.        ,\n",
       "        -7.86666667,  -7.73333333,  -7.6       ,  -7.46666667,\n",
       "        -7.33333333,  -7.2       ,  -7.06666667,  -6.93333333,\n",
       "        -6.8       ,  -6.66666667,  -6.53333333,  -6.4       ,\n",
       "        -6.26666667,  -6.13333333,  -6.        ,  -5.86666667,\n",
       "        -5.73333333,  -5.6       ,  -5.46666667,  -5.33333333,\n",
       "        -5.2       ,  -5.06666667,  -4.93333333,  -4.8       ,\n",
       "        -4.66666667,  -4.53333333,  -4.4       ,  -4.26666667,\n",
       "        -4.13333333,  -4.        ,  -3.86666667,  -3.73333333,\n",
       "        -3.6       ,  -3.46666667,  -3.33333333,  -3.2       ,\n",
       "        -3.06666667,  -2.93333333,  -2.8       ,  -2.66666667,\n",
       "        -2.53333333,  -2.4       ,  -2.26666667,  -2.13333333,\n",
       "        -2.        ,  -1.86666667,  -1.73333333,  -1.6       ,\n",
       "        -1.46666667,  -1.33333333,  -1.2       ,  -1.06666667,\n",
       "        -0.93333333,  -0.8       ,  -0.66666667,  -0.53333333,\n",
       "        -0.4       ,  -0.26666667,  -0.13333333,   0.        ,\n",
       "         0.13333333,   0.26666667,   0.4       ,   0.53333333,\n",
       "         0.66666667,   0.8       ,   0.93333333,   1.06666667,\n",
       "         1.2       ,   1.33333333,   1.46666667,   1.6       ,\n",
       "         1.73333333,   1.86666667,   2.        ,   2.13333333,\n",
       "         2.26666667,   2.4       ,   2.53333333,   2.66666667,\n",
       "         2.8       ,   2.93333333,   3.06666667,   3.2       ,\n",
       "         3.33333333,   3.46666667,   3.6       ,   3.73333333,\n",
       "         3.86666667,   4.        ,   4.13333333,   4.26666667,\n",
       "         4.4       ,   4.53333333,   4.66666667,   4.8       ,\n",
       "         4.93333333,   5.06666667,   5.2       ,   5.33333333,\n",
       "         5.46666667,   5.6       ,   5.73333333,   5.86666667,\n",
       "         6.        ,   6.13333333,   6.26666667,   6.4       ,\n",
       "         6.53333333,   6.66666667,   6.8       ,   6.93333333,\n",
       "         7.06666667,   7.2       ,   7.33333333,   7.46666667,\n",
       "         7.6       ,   7.73333333,   7.86666667,   8.        ,\n",
       "         8.13333333,   8.26666667,   8.4       ,   8.53333333,\n",
       "         8.66666667,   8.8       ,   8.93333333,   9.06666667,\n",
       "         9.2       ,   9.33333333,   9.46666667,   9.6       ,\n",
       "         9.73333333,   9.86666667,  10.        ])"
      ]
     },
     "execution_count": 83,
     "metadata": {},
     "output_type": "execute_result"
    }
   ],
   "source": [
    "c"
   ]
  },
  {
   "cell_type": "code",
   "execution_count": 87,
   "metadata": {},
   "outputs": [],
   "source": [
    "h=np.random.randint (0,5,11)"
   ]
  },
  {
   "cell_type": "code",
   "execution_count": 88,
   "metadata": {},
   "outputs": [
    {
     "data": {
      "text/plain": [
       "array([3, 2, 2, 4, 0, 0, 3, 1, 1, 1, 1])"
      ]
     },
     "execution_count": 88,
     "metadata": {},
     "output_type": "execute_result"
    }
   ],
   "source": [
    "h"
   ]
  },
  {
   "cell_type": "code",
   "execution_count": 89,
   "metadata": {},
   "outputs": [
    {
     "data": {
      "text/plain": [
       "11"
      ]
     },
     "execution_count": 89,
     "metadata": {},
     "output_type": "execute_result"
    }
   ],
   "source": [
    "len(h)"
   ]
  },
  {
   "cell_type": "code",
   "execution_count": 91,
   "metadata": {},
   "outputs": [
    {
     "data": {
      "text/plain": [
       "array([-1.53149813, -0.77561173, -0.34409832, -0.93662595, -1.85049931,\n",
       "       -1.02234575, -0.25110549, -0.88023478, -0.38009363,  1.90590095,\n",
       "        0.21159552, -1.07441764,  0.60152156, -0.97402316,  1.56552559,\n",
       "        0.24937775,  0.21979622, -0.52275799,  0.63607322, -0.79406171,\n",
       "        0.23538716, -1.56507637, -0.0165922 , -0.3581529 ,  0.58677454,\n",
       "       -1.12650614,  0.16580156,  0.04922051,  0.70621085, -1.87362119,\n",
       "        0.55893412,  0.32826995, -0.86048376, -0.76019541,  0.76980889,\n",
       "       -0.54708691,  0.6672382 , -0.10806808, -2.06136089,  1.35178068,\n",
       "       -0.7944184 , -1.6237717 ,  0.32837931, -0.31769029, -0.52601526,\n",
       "       -0.22367007,  0.30938373,  0.78079826,  1.65503996,  0.18212576,\n",
       "        0.78328412, -1.02305986,  1.69508486,  1.3395038 ,  0.07841834,\n",
       "        0.9066934 , -1.37419084, -0.54998396, -0.75724544, -0.14317753,\n",
       "        0.70075747,  0.36132982, -0.37103409, -1.74395918, -1.03820507,\n",
       "        1.75362361, -0.38245906,  0.178806  ,  0.81812646,  1.63708505,\n",
       "        0.21850004, -1.36272082, -1.04316358, -1.56360574, -0.47840689,\n",
       "        0.55014671,  1.52624318, -0.14590719,  0.7922905 , -1.91973224,\n",
       "        1.54369081, -1.16617174, -1.20940084,  1.27799348,  0.02434725,\n",
       "        1.02001522, -0.87786461,  1.37984268, -0.05220069,  0.73125647,\n",
       "        0.79004795,  0.7878646 , -0.60212131, -2.38236953,  0.07938503,\n",
       "        0.48833543,  0.45772822,  0.37066478, -0.25276833, -0.44246613])"
      ]
     },
     "execution_count": 91,
     "metadata": {},
     "output_type": "execute_result"
    }
   ],
   "source": [
    "f=np.random.randn(100)\n",
    "g=np.random.randn(100)\n",
    "f\n"
   ]
  },
  {
   "cell_type": "code",
   "execution_count": 92,
   "metadata": {},
   "outputs": [
    {
     "data": {
      "text/plain": [
       "array([ 1.80563275,  0.28039207,  1.71804247, -0.1869435 , -0.37116183,\n",
       "       -0.37482088,  2.10793032, -1.00453453,  1.04733241, -0.08544563,\n",
       "       -1.64577898,  0.63390395, -1.11931094, -0.40476587,  1.74750299,\n",
       "       -0.20382454,  1.02249928, -1.20859557, -1.26211369,  1.43745958,\n",
       "        0.25073393,  0.63932477, -0.71211079, -0.75332759, -1.42443107,\n",
       "       -0.2675938 ,  0.78565075,  0.56753966, -0.50274603, -1.06527887,\n",
       "       -0.18936731, -0.10763833,  0.01308669,  0.57251483,  0.96156175,\n",
       "        1.03869617,  0.47298666,  1.6498093 , -0.92880966,  0.40130758,\n",
       "        0.86363399,  1.61260743,  0.57609746,  0.6611578 , -0.08462268,\n",
       "        0.68636192,  1.13736666, -1.47273688,  1.81586528,  0.15764148,\n",
       "        1.27618011, -1.81378252, -0.36453227, -1.00892693, -1.15360813,\n",
       "       -1.02280558, -1.349864  ,  0.61042233,  0.18871763, -0.33445872,\n",
       "       -1.39925457,  0.20751905,  0.75850716,  0.35284777, -1.0138622 ,\n",
       "        1.72678902,  0.86740807, -0.03857158, -2.11675356, -1.67596268,\n",
       "        1.95637214, -0.39457036, -1.16268015,  0.8192645 , -0.26106255,\n",
       "        0.20719364, -1.31049203,  0.13203118, -0.13373097, -0.51773067,\n",
       "        0.46994339,  0.62627258, -0.95484397,  0.82513296, -0.95909688,\n",
       "        0.0866052 , -0.15084936,  0.55543387, -0.93348625, -1.37451452,\n",
       "        0.22721406, -1.6607831 ,  0.16976317,  0.02313454,  0.12293001,\n",
       "        1.81406575, -0.52546635,  0.19164044, -1.83520296, -0.86967739])"
      ]
     },
     "execution_count": 92,
     "metadata": {},
     "output_type": "execute_result"
    }
   ],
   "source": [
    "g"
   ]
  },
  {
   "cell_type": "code",
   "execution_count": null,
   "metadata": {},
   "outputs": [],
   "source": [
    "num=int(input(\"Enter the number of rows\"))\n",
    "for i in range(0,num):\n",
    "    for j in range(0,num-i-1):\n",
    "        print(end=\"\")\n",
    "    for j in range(0,i+1):\n",
    "        print(\"*\",end=\"\")\n",
    "    print()"
   ]
  },
  {
   "cell_type": "code",
   "execution_count": 94,
   "metadata": {},
   "outputs": [],
   "source": [
    "import matplotlib.pyplot as plt"
   ]
  },
  {
   "cell_type": "code",
   "execution_count": 121,
   "metadata": {},
   "outputs": [],
   "source": [
    "N=151\n",
    "T= 12\n",
    "c=np.linspace(-10,10,151, dtype=float)\n",
    "\n",
    "z=np.zeros(N)\n",
    "\n",
    "for i in range(N):\n",
    "    z[i]=np.cos(2*np.pi *c[i]/T) + np.cos(2*2*np.pi *c[i]/T)+ np.cos(3*2*np.pi *c[i]/T)\n",
    "    "
   ]
  },
  {
   "cell_type": "code",
   "execution_count": 122,
   "metadata": {},
   "outputs": [
    {
     "data": {
      "image/png": "[encoded data removed]",
      "text/plain": [
       "<Figure size 432x288 with 1 Axes>"
      ]
     },
     "metadata": {
      "needs_background": "light"
     },
     "output_type": "display_data"
    }
   ],
   "source": [
    "plt.plot(c,z)\n",
    "plt.show()"
   ]
  },
  {
   "cell_type": "code",
   "execution_count": 2,
   "metadata": {},
   "outputs": [
    {
     "data": {
      "text/plain": [
       "3"
      ]
     },
     "execution_count": 2,
     "metadata": {},
     "output_type": "execute_result"
    }
   ],
   "source": [
    "2 + True"
   ]
  },
  {
   "cell_type": "code",
   "execution_count": 3,
   "metadata": {},
   "outputs": [
    {
     "data": {
      "text/plain": [
       "1.6666666666666667"
      ]
     },
     "execution_count": 3,
     "metadata": {},
     "output_type": "execute_result"
    }
   ],
   "source": [
    "5/3."
   ]
  },
  {
   "cell_type": "code",
   "execution_count": 4,
   "metadata": {},
   "outputs": [
    {
     "data": {
      "text/plain": [
       "1.0"
      ]
     },
     "execution_count": 4,
     "metadata": {},
     "output_type": "execute_result"
    }
   ],
   "source": [
    "5//3."
   ]
  },
  {
   "cell_type": "code",
   "execution_count": 5,
   "metadata": {},
   "outputs": [
    {
     "data": {
      "text/plain": [
       "0.0"
      ]
     },
     "execution_count": 5,
     "metadata": {},
     "output_type": "execute_result"
    }
   ],
   "source": [
    "float(1//4)"
   ]
  },
  {
   "cell_type": "code",
   "execution_count": 6,
   "metadata": {},
   "outputs": [
    {
     "data": {
      "text/plain": [
       "11.0"
      ]
     },
     "execution_count": 6,
     "metadata": {},
     "output_type": "execute_result"
    }
   ],
   "source": [
    "3.*15//4"
   ]
  },
  {
   "cell_type": "code",
   "execution_count": 7,
   "metadata": {},
   "outputs": [
    {
     "data": {
      "text/plain": [
       "45.0"
      ]
     },
     "execution_count": 7,
     "metadata": {},
     "output_type": "execute_result"
    }
   ],
   "source": [
    "3.*15"
   ]
  },
  {
   "cell_type": "code",
   "execution_count": 8,
   "metadata": {},
   "outputs": [
    {
     "data": {
      "text/plain": [
       "3"
      ]
     },
     "execution_count": 8,
     "metadata": {},
     "output_type": "execute_result"
    }
   ],
   "source": [
    "15//4"
   ]
  },
  {
   "cell_type": "code",
   "execution_count": 10,
   "metadata": {},
   "outputs": [
    {
     "name": "stdout",
     "output_type": "stream",
     "text": [
      "hellohellohellohellohello\n"
     ]
    }
   ],
   "source": [
    "print(5*\"hello\")"
   ]
  },
  {
   "cell_type": "code",
   "execution_count": 13,
   "metadata": {},
   "outputs": [],
   "source": [
    "v=6\n",
    "v+=10\n",
    "v/=5-1\n",
    "v+=5"
   ]
  },
  {
   "cell_type": "code",
   "execution_count": 14,
   "metadata": {},
   "outputs": [
    {
     "data": {
      "text/plain": [
       "9.0"
      ]
     },
     "execution_count": 14,
     "metadata": {},
     "output_type": "execute_result"
    }
   ],
   "source": [
    "v"
   ]
  },
  {
   "cell_type": "code",
   "execution_count": null,
   "metadata": {},
   "outputs": [],
   "source": [
    "5"
   ]
  }
 ],
 "metadata": {
  "kernelspec": {
   "display_name": "Python 3",
   "language": "python",
   "name": "python3"
  },
  "language_info": {
   "codemirror_mode": {
    "name": "ipython",
    "version": 3
   },
   "file_extension": ".py",
   "mimetype": "text/x-python",
   "name": "python",
   "nbconvert_exporter": "python",
   "pygments_lexer": "ipython3",
   "version": "3.7.3"
  }
 },
 "nbformat": 4,
 "nbformat_minor": 2
}
