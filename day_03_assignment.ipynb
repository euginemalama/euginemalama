{
 "cells": [
  {
   "cell_type": "code",
   "execution_count": 1,
   "metadata": {},
   "outputs": [
    {
     "data": {
      "text/plain": [
       "-2.75"
      ]
     },
     "execution_count": 1,
     "metadata": {},
     "output_type": "execute_result"
    }
   ],
   "source": [
    "11 / -4"
   ]
  },
  {
   "cell_type": "code",
   "execution_count": 2,
   "metadata": {},
   "outputs": [
    {
     "data": {
      "text/plain": [
       "-3"
      ]
     },
     "execution_count": 2,
     "metadata": {},
     "output_type": "execute_result"
    }
   ],
   "source": [
    "11 // -4     # \"integer division\": round integer *toward negative inf*"
   ]
  },
  {
   "cell_type": "code",
   "execution_count": 9,
   "metadata": {},
   "outputs": [
    {
     "data": {
      "text/plain": [
       "2"
      ]
     },
     "execution_count": 9,
     "metadata": {},
     "output_type": "execute_result"
    }
   ],
   "source": [
    "11 // 4"
   ]
  },
  {
   "cell_type": "code",
   "execution_count": 12,
   "metadata": {},
   "outputs": [
    {
     "data": {
      "text/plain": [
       "0"
      ]
     },
     "execution_count": 12,
     "metadata": {},
     "output_type": "execute_result"
    }
   ],
   "source": [
    "# how can we find a number is a factor of another number?\n",
    "# is 2 a factor of 7?\n",
    "#   ---> if it is True, then we can div 7 by 2 and have remainder=0\n",
    "# in general, if A divided B has remainder =0, then B is a factor of A\n",
    "8 % 2"
   ]
  },
  {
   "cell_type": "code",
   "execution_count": 15,
   "metadata": {},
   "outputs": [
    {
     "data": {
      "text/plain": [
       "1"
      ]
     },
     "execution_count": 15,
     "metadata": {},
     "output_type": "execute_result"
    }
   ],
   "source": [
    "# translate into Python:  is a number even?\n",
    "9 % 2"
   ]
  },
  {
   "cell_type": "code",
   "execution_count": 16,
   "metadata": {},
   "outputs": [],
   "source": [
    "# .... onward to ASSIGNMENT"
   ]
  },
  {
   "cell_type": "code",
   "execution_count": 22,
   "metadata": {},
   "outputs": [],
   "source": [
    "# we can calculate, but we also want to save and propagate information\n",
    "# so add a NEW OPERATOR:  the ASSIGNMENT OPERATOR '='\n",
    "# The assignment operator '=' works by the following rule:\n",
    "# 1) Look at the righthand side (RHS) of '=' and EVALUATE\n",
    "# 2) Take that value, and store it somewhere on the computer\n",
    "# 3) Take the LHS of the operator, and make that VARIABLE name\n",
    "#    refer to that location (i.e., to be able to get that value)\n",
    "x = 4 * (9+87.4)"
   ]
  },
  {
   "cell_type": "code",
   "execution_count": 46,
   "metadata": {},
   "outputs": [
    {
     "data": {
      "text/plain": [
       "2"
      ]
     },
     "execution_count": 46,
     "metadata": {},
     "output_type": "execute_result"
    }
   ],
   "source": [
    "x * 2"
   ]
  },
  {
   "cell_type": "code",
   "execution_count": 47,
   "metadata": {},
   "outputs": [],
   "source": [
    "# SIDENOTE: the order that the Python interpreter READS a script/program/code\n",
    "# and lines within a script is called the FLOW of the program"
   ]
  },
  {
   "cell_type": "markdown",
   "metadata": {},
   "source": [
    "In mathematics, if we have $x = 3 + 4$, then the following are \n",
    "also true:\n",
    "\n",
    "$ x - 3 = 4$\n",
    "\n",
    "$2\\times(x-3) = 8$\n",
    "\n",
    "... that is true because in math, '=' is an EQUALS SIGN, and I can\n",
    "move quantities around from the LHS to RHS, and perform the same operation on both... the EQUALS SIGN is a logic operator---if it true,\n",
    "I can do algebraic manipulations of both sides\n",
    "\n",
    "in PROGRAMMING, '=' is NOT EQUALS, and so I canNOT do the above \n",
    "algebraic manipulations"
   ]
  },
  {
   "cell_type": "code",
   "execution_count": 48,
   "metadata": {},
   "outputs": [],
   "source": [
    "x = 3 + 4"
   ]
  },
  {
   "cell_type": "code",
   "execution_count": 49,
   "metadata": {},
   "outputs": [
    {
     "ename": "SyntaxError",
     "evalue": "can't assign to operator (<ipython-input-49-b1757d72a969>, line 1)",
     "output_type": "error",
     "traceback": [
      "\u001b[0;36m  File \u001b[0;32m\"<ipython-input-49-b1757d72a969>\"\u001b[0;36m, line \u001b[0;32m1\u001b[0m\n\u001b[0;31m    x - 3 = 4   # we CANNOT an expression on the LHS of '='\u001b[0m\n\u001b[0m                                                           ^\u001b[0m\n\u001b[0;31mSyntaxError\u001b[0m\u001b[0;31m:\u001b[0m can't assign to operator\n"
     ]
    }
   ],
   "source": [
    "x - 3 = 4   # we CANNOT an expression on the LHS of '='"
   ]
  },
  {
   "cell_type": "code",
   "execution_count": null,
   "metadata": {},
   "outputs": [],
   "source": [
    "# in programming, we DO have an equals sign, it is actually '=='.\n",
    "# note that in other programming languages, a different symbol for\n",
    "# assignment is sometimes used, to avoid this confusion.\n",
    "# e.g., in R, the '<-'"
   ]
  },
  {
   "cell_type": "code",
   "execution_count": null,
   "metadata": {},
   "outputs": [],
   "source": [
    "x = -3 * 7   # the LHS is called a VARIABLE because its \n",
    "            # value can be changed.  This is called REASSIGNING the variable"
   ]
  },
  {
   "cell_type": "code",
   "execution_count": 2,
   "metadata": {},
   "outputs": [
    {
     "data": {
      "text/plain": [
       "True"
      ]
     },
     "execution_count": 2,
     "metadata": {},
     "output_type": "execute_result"
    }
   ],
   "source": [
    "x = True     # in Python, we reassign/change a variable's TYPE\n",
    "x            # not all programming languages allow TYPE reassignment"
   ]
  },
  {
   "cell_type": "code",
   "execution_count": 1,
   "metadata": {},
   "outputs": [
    {
     "ename": "NameError",
     "evalue": "name 'x' is not defined",
     "output_type": "error",
     "traceback": [
      "\u001b[0;31m---------------------------------------------------------------------------\u001b[0m",
      "\u001b[0;31mNameError\u001b[0m                                 Traceback (most recent call last)",
      "\u001b[0;32m<ipython-input-1-c6a5bda62665>\u001b[0m in \u001b[0;36m<module>\u001b[0;34m()\u001b[0m\n\u001b[0;32m----> 1\u001b[0;31m \u001b[0mx\u001b[0m            \u001b[0;31m# a variable only has the last value assigned to it\u001b[0m\u001b[0;34m\u001b[0m\u001b[0;34m\u001b[0m\u001b[0m\n\u001b[0m\u001b[1;32m      2\u001b[0m              \u001b[0;31m# it has no memory of any previous value\u001b[0m\u001b[0;34m\u001b[0m\u001b[0;34m\u001b[0m\u001b[0;34m\u001b[0m\u001b[0m\n",
      "\u001b[0;31mNameError\u001b[0m: name 'x' is not defined"
     ]
    }
   ],
   "source": [
    "x            # a variable only has the last value assigned to it\n",
    "             # it has no memory of any previous value"
   ]
  },
  {
   "cell_type": "code",
   "execution_count": 3,
   "metadata": {},
   "outputs": [],
   "source": [
    "# we can assign multiple variables, and use each below in expressions\n",
    "# just like they were a number... because to Python they basically are\n",
    "var1 = 30 * 5\n",
    "var2 = 20 * 5"
   ]
  },
  {
   "cell_type": "code",
   "execution_count": 50,
   "metadata": {},
   "outputs": [
    {
     "data": {
      "text/plain": [
       "350"
      ]
     },
     "execution_count": 50,
     "metadata": {},
     "output_type": "execute_result"
    }
   ],
   "source": [
    "var3 = var1 + 2 * var2\n",
    "var3"
   ]
  },
  {
   "cell_type": "code",
   "execution_count": 53,
   "metadata": {},
   "outputs": [
    {
     "ename": "NameError",
     "evalue": "name 'var400' is not defined",
     "output_type": "error",
     "traceback": [
      "\u001b[0;31m---------------------------------------------------------------------\u001b[0m",
      "\u001b[0;31mNameError\u001b[0m                           Traceback (most recent call last)",
      "\u001b[0;32m<ipython-input-53-c566373bc28d>\u001b[0m in \u001b[0;36m<module>\u001b[0;34m()\u001b[0m\n\u001b[0;32m----> 1\u001b[0;31m \u001b[0my\u001b[0m \u001b[0;34m=\u001b[0m \u001b[0;36m5\u001b[0m \u001b[0;34m*\u001b[0m \u001b[0mvar400\u001b[0m \u001b[0;34m+\u001b[0m \u001b[0;36m3\u001b[0m\u001b[0;34m\u001b[0m\u001b[0;34m\u001b[0m\u001b[0m\n\u001b[0m",
      "\u001b[0;31mNameError\u001b[0m: name 'var400' is not defined"
     ]
    }
   ],
   "source": [
    "y = 5 * var400 + 3   # we have not assigned 'var400', so we get an ERROR\n",
    "                     # we can only use values in expressions that\n",
    "                     # have been defined/assigned already"
   ]
  },
  {
   "cell_type": "code",
   "execution_count": 54,
   "metadata": {},
   "outputs": [
    {
     "ename": "NameError",
     "evalue": "name 'b' is not defined",
     "output_type": "error",
     "traceback": [
      "\u001b[0;31m---------------------------------------------------------------------\u001b[0m",
      "\u001b[0;31mNameError\u001b[0m                           Traceback (most recent call last)",
      "\u001b[0;32m<ipython-input-54-467c19b8bd30>\u001b[0m in \u001b[0;36m<module>\u001b[0;34m()\u001b[0m\n\u001b[0;32m----> 1\u001b[0;31m \u001b[0ma\u001b[0m \u001b[0;34m=\u001b[0m \u001b[0mb\u001b[0m \u001b[0;34m+\u001b[0m \u001b[0;36m2\u001b[0m\u001b[0;34m\u001b[0m\u001b[0;34m\u001b[0m\u001b[0m\n\u001b[0m\u001b[1;32m      2\u001b[0m \u001b[0mb\u001b[0m \u001b[0;34m=\u001b[0m \u001b[0;36m3\u001b[0m \u001b[0;34m+\u001b[0m \u001b[0;36m9\u001b[0m\u001b[0;34m\u001b[0m\u001b[0;34m\u001b[0m\u001b[0m\n",
      "\u001b[0;31mNameError\u001b[0m: name 'b' is not defined"
     ]
    }
   ],
   "source": [
    "# FLOW of a program (the order of interpreting) must be respected\n",
    "a = b + 2\n",
    "b = 3 + 9"
   ]
  },
  {
   "cell_type": "code",
   "execution_count": 55,
   "metadata": {},
   "outputs": [],
   "source": [
    "b = 3 + 9\n",
    "a = b + 2\n"
   ]
  },
  {
   "cell_type": "code",
   "execution_count": 56,
   "metadata": {},
   "outputs": [
    {
     "data": {
      "text/plain": [
       "14"
      ]
     },
     "execution_count": 56,
     "metadata": {},
     "output_type": "execute_result"
    }
   ],
   "source": [
    "a"
   ]
  },
  {
   "cell_type": "code",
   "execution_count": 57,
   "metadata": {},
   "outputs": [
    {
     "data": {
      "text/plain": [
       "12"
      ]
     },
     "execution_count": 57,
     "metadata": {},
     "output_type": "execute_result"
    }
   ],
   "source": [
    "b"
   ]
  },
  {
   "cell_type": "code",
   "execution_count": 60,
   "metadata": {},
   "outputs": [],
   "source": [
    "# rules for variable names:\n",
    "xasdlkfjhIAUSHDOQWUEasdpfoiafd = 10   # can: a-z, A-Z\n",
    "var1 = 11                             # can use 0-9\n",
    "var1asdf23dsfsdfSDFS23842348 = 12 \n",
    "var_important_for_my_work = 14        # can use '_'"
   ]
  },
  {
   "cell_type": "code",
   "execution_count": 65,
   "metadata": {},
   "outputs": [
    {
     "ename": "SyntaxError",
     "evalue": "invalid syntax (<ipython-input-65-65c6ef6e56f3>, line 4)",
     "output_type": "error",
     "traceback": [
      "\u001b[0;36m  File \u001b[0;32m\"<ipython-input-65-65c6ef6e56f3>\"\u001b[0;36m, line \u001b[0;32m4\u001b[0m\n\u001b[0;31m    if = 19\u001b[0m\n\u001b[0m       ^\u001b[0m\n\u001b[0;31mSyntaxError\u001b[0m\u001b[0;31m:\u001b[0m invalid syntax\n"
     ]
    }
   ],
   "source": [
    "# things that break variable names\n",
    "#   1var = 15                  # -> cannot START with a number\n",
    "# var-important-for-my-work = 16 # -> cannot use '-'\n",
    "# if = 19                        # -> cannot use special PYTHON terms\n",
    "                                 #   e.g.,:  if, for, while, then, else, and, or, not...\n",
    "# !@#$%^&*()-+=?><|}[]           # -> no special char"
   ]
  },
  {
   "cell_type": "code",
   "execution_count": 66,
   "metadata": {},
   "outputs": [],
   "source": [
    "# what SHOULD we do for naming variables?\n",
    "# our general rule, is to think of programming as translating\n",
    "# mathematics.  First rule, whatever I have written down on paper,\n",
    "# let me try to use that naming as closely as possible"
   ]
  },
  {
   "cell_type": "markdown",
   "metadata": {},
   "source": [
    "if I have:\n",
    "\n",
    "$ y = 40x -91 + z^2$"
   ]
  },
  {
   "cell_type": "code",
   "execution_count": 67,
   "metadata": {},
   "outputs": [],
   "source": [
    "x = 0\n",
    "z = 1\n",
    "y = 40*x - 91 + z**2"
   ]
  },
  {
   "cell_type": "code",
   "execution_count": 68,
   "metadata": {},
   "outputs": [],
   "source": [
    "# sometimes, we are translating like physics, which has meaningful \n",
    "# quantities:  distance is velocity times time\n",
    "velocity = 10\n",
    "time     = 5\n",
    "distance = velocity * time"
   ]
  },
  {
   "cell_type": "code",
   "execution_count": 69,
   "metadata": {},
   "outputs": [],
   "source": [
    "# OR, could variables for the name:\n",
    "v = 10\n",
    "t = 5\n",
    "d = v * t"
   ]
  },
  {
   "cell_type": "code",
   "execution_count": 70,
   "metadata": {},
   "outputs": [],
   "source": [
    "# OR, could abbrev variables for the name:\n",
    "vel  = 10\n",
    "time = 5\n",
    "dist = vel * time"
   ]
  },
  {
   "cell_type": "code",
   "execution_count": 71,
   "metadata": {},
   "outputs": [],
   "source": [
    "# e.g., variables for hte speed of light: \n",
    "# c\n",
    "# speed_of_light\n",
    "# speedOfLight          <- \"camel case\"\n",
    "# speedc\n",
    "# LIGHTC"
   ]
  },
  {
   "cell_type": "code",
   "execution_count": 76,
   "metadata": {},
   "outputs": [],
   "source": [
    "# note:  when we ASSIGN a value to a new variable,\n",
    "# we are DECLARING the variable (here, x)\n",
    "# we are also INITIALIZING x with a value (and type)\n",
    "x = 5\n"
   ]
  },
  {
   "cell_type": "code",
   "execution_count": null,
   "metadata": {},
   "outputs": [],
   "source": [
    "# x%(*&!@#(*&%^!@#)) = 0"
   ]
  },
  {
   "cell_type": "markdown",
   "metadata": {},
   "source": [
    "in MATH:\n",
    "\n",
    "$x = 5$\n",
    "\n",
    "$ x = x + 5 $\n",
    "\n",
    "... second line is probably false or untrue"
   ]
  },
  {
   "cell_type": "code",
   "execution_count": 82,
   "metadata": {},
   "outputs": [
    {
     "data": {
      "text/plain": [
       "10"
      ]
     },
     "execution_count": 82,
     "metadata": {},
     "output_type": "execute_result"
    }
   ],
   "source": [
    "# in PROGRAMMING?\n",
    "x = 5\n",
    "x = x + 5\n",
    "x"
   ]
  },
  {
   "cell_type": "code",
   "execution_count": 83,
   "metadata": {},
   "outputs": [
    {
     "data": {
      "text/plain": [
       "116"
      ]
     },
     "execution_count": 83,
     "metadata": {},
     "output_type": "execute_result"
    }
   ],
   "source": [
    "# special notation for this idea of \"reassigning oneself\"\n",
    "# an IN-PLACE operator: += 'add to yourself'\n",
    "# -=, *=, /= .... yes\n",
    "y = 5\n",
    "y+= 111\n",
    "y"
   ]
  },
  {
   "cell_type": "code",
   "execution_count": 84,
   "metadata": {},
   "outputs": [
    {
     "data": {
      "text/plain": [
       "27"
      ]
     },
     "execution_count": 84,
     "metadata": {},
     "output_type": "execute_result"
    }
   ],
   "source": [
    "value = 10\n",
    "value-= 7\n",
    "value*= 9\n",
    "value"
   ]
  },
  {
   "cell_type": "code",
   "execution_count": 86,
   "metadata": {},
   "outputs": [
    {
     "ename": "NameError",
     "evalue": "name 'check' is not defined",
     "output_type": "error",
     "traceback": [
      "\u001b[0;31m---------------------------------------------------------------------\u001b[0m",
      "\u001b[0;31mNameError\u001b[0m                           Traceback (most recent call last)",
      "\u001b[0;32m<ipython-input-86-2788b520121c>\u001b[0m in \u001b[0;36m<module>\u001b[0;34m()\u001b[0m\n\u001b[1;32m      1\u001b[0m \u001b[0;31m# we can only use inplace operators on variables that have been\u001b[0m\u001b[0;34m\u001b[0m\u001b[0;34m\u001b[0m\u001b[0;34m\u001b[0m\u001b[0m\n\u001b[1;32m      2\u001b[0m \u001b[0;31m# ASSIGNED/DECLARED already\u001b[0m\u001b[0;34m\u001b[0m\u001b[0;34m\u001b[0m\u001b[0;34m\u001b[0m\u001b[0m\n\u001b[0;32m----> 3\u001b[0;31m \u001b[0mcheck\u001b[0m\u001b[0;34m+=\u001b[0m \u001b[0;36m10\u001b[0m\u001b[0;34m\u001b[0m\u001b[0;34m\u001b[0m\u001b[0m\n\u001b[0m\u001b[1;32m      4\u001b[0m \u001b[0mcheck\u001b[0m\u001b[0;34m-=\u001b[0m \u001b[0;36m10\u001b[0m\u001b[0;34m\u001b[0m\u001b[0;34m\u001b[0m\u001b[0m\n",
      "\u001b[0;31mNameError\u001b[0m: name 'check' is not defined"
     ]
    }
   ],
   "source": [
    "# we can only use inplace operators on variables that have been\n",
    "# ASSIGNED/DECLARED already\n",
    "check+= 10\n",
    "check-= 10"
   ]
  },
  {
   "cell_type": "code",
   "execution_count": 89,
   "metadata": {},
   "outputs": [
    {
     "data": {
      "text/plain": [
       "-15.0"
      ]
     },
     "execution_count": 89,
     "metadata": {},
     "output_type": "execute_result"
    }
   ],
   "source": [
    "v = 10 \n",
    "v+= 30\n",
    "v =-5    # NOT an inplace operator----reassign!\n",
    "v*= 3.\n",
    "v"
   ]
  },
  {
   "cell_type": "code",
   "execution_count": 90,
   "metadata": {},
   "outputs": [
    {
     "name": "stdout",
     "output_type": "stream",
     "text": [
      "Variable                          Type     Data/Info\n",
      "----------------------------------------------------\n",
      "a                                 int      14\n",
      "b                                 int      12\n",
      "d                                 int      50\n",
      "dist                              int      50\n",
      "distance                          int      50\n",
      "iff                               int      19\n",
      "t                                 int      5\n",
      "time                              int      5\n",
      "v                                 float    -15.0\n",
      "value                             int      27\n",
      "var1                              int      11\n",
      "var1asdf23dsfsdfSDFS23842348      int      12\n",
      "var2                              int      100\n",
      "var3                              int      350\n",
      "var_important_for_my_work         int      14\n",
      "vel                               int      10\n",
      "velocity                          int      10\n",
      "x                                 int      10\n",
      "xasdlkfjhIAUSHDOQWUEasdpfoiafd    int      10\n",
      "xasdlkfjhqwerlkjhqwerasdpfoiafd   int      10\n",
      "y                                 int      116\n",
      "z                                 int      1\n"
     ]
    }
   ],
   "source": [
    "whos"
   ]
  },
  {
   "cell_type": "code",
   "execution_count": 91,
   "metadata": {},
   "outputs": [],
   "source": [
    "# <- symbol COMMENTS OUT everything to the RHS\n",
    "# even proper Pythonese will NOT be interpreted\n",
    "# it is VERY useful for the \"human side\" of programming\n",
    "# newvar = 5"
   ]
  },
  {
   "cell_type": "code",
   "execution_count": 92,
   "metadata": {},
   "outputs": [
    {
     "ename": "NameError",
     "evalue": "name 'newvar' is not defined",
     "output_type": "error",
     "traceback": [
      "\u001b[0;31m---------------------------------------------------------------------\u001b[0m",
      "\u001b[0;31mNameError\u001b[0m                           Traceback (most recent call last)",
      "\u001b[0;32m<ipython-input-92-c9e46c83a086>\u001b[0m in \u001b[0;36m<module>\u001b[0;34m()\u001b[0m\n\u001b[0;32m----> 1\u001b[0;31m \u001b[0mnewvar\u001b[0m\u001b[0;34m\u001b[0m\u001b[0;34m\u001b[0m\u001b[0m\n\u001b[0m",
      "\u001b[0;31mNameError\u001b[0m: name 'newvar' is not defined"
     ]
    }
   ],
   "source": [
    "newvar"
   ]
  },
  {
   "cell_type": "markdown",
   "metadata": {},
   "source": [
    "this is an example of LaTeX math mode\" code in markdown:\n",
    "\n",
    "$y = mx + b$"
   ]
  },
  {
   "cell_type": "code",
   "execution_count": null,
   "metadata": {},
   "outputs": [],
   "source": []
  }
 ],
 "metadata": {
  "kernelspec": {
   "display_name": "Python 3",
   "language": "python",
   "name": "python3"
  },
  "language_info": {
   "codemirror_mode": {
    "name": "ipython",
    "version": 3
   },
   "file_extension": ".py",
   "mimetype": "text/x-python",
   "name": "python",
   "nbconvert_exporter": "python",
   "pygments_lexer": "ipython3",
   "version": "3.7.3"
  }
 },
 "nbformat": 4,
 "nbformat_minor": 4
}
