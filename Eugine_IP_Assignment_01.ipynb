{
 "cells": [
  {
   "cell_type": "code",
   "execution_count": 5,
   "metadata": {},
   "outputs": [
    {
     "name": "stdout",
     "output_type": "stream",
     "text": [
      "nope, the value is not what we expected\n"
     ]
    }
   ],
   "source": [
    "# Q1:  Fix this code\n",
    "\n",
    "some_var = 100\n",
    "if some_var < 50 and some_var > -50 or (some_var == 200):\n",
    "    print(\"some_var's value is\", some_var)\n",
    "    print('and that is good')\n",
    "else:\n",
    "    print(\"nope, the value is not what we expected\")"
   ]
  },
  {
   "cell_type": "code",
   "execution_count": 9,
   "metadata": {},
   "outputs": [
    {
     "name": "stdout",
     "output_type": "stream",
     "text": [
      "number: 45\n",
      "The square root is: 6.708203932499369\n"
     ]
    }
   ],
   "source": [
    "#Q2: \n",
    "\n",
    "x=input(\"number: \")\n",
    "y=float(x)\n",
    "\n",
    "if y< 0:\n",
    "    print(\"The square is:\", y**2)\n",
    "\n",
    "elif y==0:\n",
    "    print(\"A smiley face\")\n",
    "    \n",
    "else:\n",
    "    print(\"The square root is:\", y**0.5)"
   ]
  },
  {
   "cell_type": "code",
   "execution_count": 5,
   "metadata": {},
   "outputs": [
    {
     "name": "stdout",
     "output_type": "stream",
     "text": [
      "Yah\n"
     ]
    }
   ],
   "source": [
    "#Q3:\n",
    "\n",
    "var4 = 0 + 1j\n",
    "\n",
    "y=type(var4)\n",
    "\n",
    "if y == complex or y==str :\n",
    "    print(\"Yah\")\n",
    "    \n",
    "else:\n",
    "    print(\"Boo\")\n",
    "    "
   ]
  },
  {
   "cell_type": "code",
   "execution_count": 6,
   "metadata": {},
   "outputs": [],
   "source": [
    "#Q4a:\n",
    "\n",
    "import numpy as np"
   ]
  },
  {
   "cell_type": "code",
   "execution_count": 13,
   "metadata": {},
   "outputs": [
    {
     "name": "stdout",
     "output_type": "stream",
     "text": [
      "short array: [ 2 10  9]\n"
     ]
    }
   ],
   "source": [
    "Arr = np.array ([2,10,9])\n",
    "\n",
    "for i in Arr:\n",
    "    if i > 10:\n",
    "        print(\"long array:\", Arr)\n",
    "else:\n",
    "    print(\"short array:\",Arr)\n",
    "    "
   ]
  },
  {
   "cell_type": "code",
   "execution_count": 14,
   "metadata": {},
   "outputs": [
    {
     "name": "stdout",
     "output_type": "stream",
     "text": [
      "short and old array: [ 2 10  5]\n"
     ]
    }
   ],
   "source": [
    "#Q4b:\n",
    "Arr = np.array ([2,10,5])\n",
    "\n",
    "for i in Arr:\n",
    "    if i > 10 and (i%2)==0:\n",
    "        print(\"long and even array:\", Arr)\n",
    "    \n",
    "if i >10 and (i%2)!=0:\n",
    "        print(\"long and old array:\", Arr)\n",
    "elif i < 10 and (i%2)==0: \n",
    "    print(\"short and even array:\", Arr)\n",
    "    \n",
    "else:\n",
    "    print(\"short and old array:\", Arr)\n",
    "    "
   ]
  },
  {
   "cell_type": "code",
   "execution_count": 15,
   "metadata": {},
   "outputs": [],
   "source": [
    "#Q5:\n",
    "\n",
    "a=np.zeros(4)\n",
    "\n"
   ]
  },
  {
   "cell_type": "code",
   "execution_count": 16,
   "metadata": {},
   "outputs": [
    {
     "data": {
      "text/plain": [
       "array([0., 0., 0., 0.])"
      ]
     },
     "execution_count": 16,
     "metadata": {},
     "output_type": "execute_result"
    }
   ],
   "source": [
    "a"
   ]
  },
  {
   "cell_type": "code",
   "execution_count": 17,
   "metadata": {},
   "outputs": [],
   "source": [
    "b=np.ones(9, dtype=bool)"
   ]
  },
  {
   "cell_type": "code",
   "execution_count": 18,
   "metadata": {},
   "outputs": [
    {
     "data": {
      "text/plain": [
       "array([ True,  True,  True,  True,  True,  True,  True,  True,  True])"
      ]
     },
     "execution_count": 18,
     "metadata": {},
     "output_type": "execute_result"
    }
   ],
   "source": [
    "b"
   ]
  },
  {
   "cell_type": "code",
   "execution_count": 22,
   "metadata": {},
   "outputs": [],
   "source": [
    "c=np.linspace(-10,10,151, dtype=float)"
   ]
  },
  {
   "cell_type": "code",
   "execution_count": 23,
   "metadata": {},
   "outputs": [
    {
     "data": {
      "text/plain": [
       "array([-10.        ,  -9.86666667,  -9.73333333,  -9.6       ,\n",
       "        -9.46666667,  -9.33333333,  -9.2       ,  -9.06666667,\n",
       "        -8.93333333,  -8.8       ,  -8.66666667,  -8.53333333,\n",
       "        -8.4       ,  -8.26666667,  -8.13333333,  -8.        ,\n",
       "        -7.86666667,  -7.73333333,  -7.6       ,  -7.46666667,\n",
       "        -7.33333333,  -7.2       ,  -7.06666667,  -6.93333333,\n",
       "        -6.8       ,  -6.66666667,  -6.53333333,  -6.4       ,\n",
       "        -6.26666667,  -6.13333333,  -6.        ,  -5.86666667,\n",
       "        -5.73333333,  -5.6       ,  -5.46666667,  -5.33333333,\n",
       "        -5.2       ,  -5.06666667,  -4.93333333,  -4.8       ,\n",
       "        -4.66666667,  -4.53333333,  -4.4       ,  -4.26666667,\n",
       "        -4.13333333,  -4.        ,  -3.86666667,  -3.73333333,\n",
       "        -3.6       ,  -3.46666667,  -3.33333333,  -3.2       ,\n",
       "        -3.06666667,  -2.93333333,  -2.8       ,  -2.66666667,\n",
       "        -2.53333333,  -2.4       ,  -2.26666667,  -2.13333333,\n",
       "        -2.        ,  -1.86666667,  -1.73333333,  -1.6       ,\n",
       "        -1.46666667,  -1.33333333,  -1.2       ,  -1.06666667,\n",
       "        -0.93333333,  -0.8       ,  -0.66666667,  -0.53333333,\n",
       "        -0.4       ,  -0.26666667,  -0.13333333,   0.        ,\n",
       "         0.13333333,   0.26666667,   0.4       ,   0.53333333,\n",
       "         0.66666667,   0.8       ,   0.93333333,   1.06666667,\n",
       "         1.2       ,   1.33333333,   1.46666667,   1.6       ,\n",
       "         1.73333333,   1.86666667,   2.        ,   2.13333333,\n",
       "         2.26666667,   2.4       ,   2.53333333,   2.66666667,\n",
       "         2.8       ,   2.93333333,   3.06666667,   3.2       ,\n",
       "         3.33333333,   3.46666667,   3.6       ,   3.73333333,\n",
       "         3.86666667,   4.        ,   4.13333333,   4.26666667,\n",
       "         4.4       ,   4.53333333,   4.66666667,   4.8       ,\n",
       "         4.93333333,   5.06666667,   5.2       ,   5.33333333,\n",
       "         5.46666667,   5.6       ,   5.73333333,   5.86666667,\n",
       "         6.        ,   6.13333333,   6.26666667,   6.4       ,\n",
       "         6.53333333,   6.66666667,   6.8       ,   6.93333333,\n",
       "         7.06666667,   7.2       ,   7.33333333,   7.46666667,\n",
       "         7.6       ,   7.73333333,   7.86666667,   8.        ,\n",
       "         8.13333333,   8.26666667,   8.4       ,   8.53333333,\n",
       "         8.66666667,   8.8       ,   8.93333333,   9.06666667,\n",
       "         9.2       ,   9.33333333,   9.46666667,   9.6       ,\n",
       "         9.73333333,   9.86666667,  10.        ])"
      ]
     },
     "execution_count": 23,
     "metadata": {},
     "output_type": "execute_result"
    }
   ],
   "source": [
    "c"
   ]
  },
  {
   "cell_type": "code",
   "execution_count": 24,
   "metadata": {},
   "outputs": [
    {
     "data": {
      "text/plain": [
       "151"
      ]
     },
     "execution_count": 24,
     "metadata": {},
     "output_type": "execute_result"
    }
   ],
   "source": [
    "len(c)"
   ]
  },
  {
   "cell_type": "code",
   "execution_count": 31,
   "metadata": {},
   "outputs": [],
   "source": [
    "f=np.random.randn(100)\n",
    "g=np.random.randn(100)"
   ]
  },
  {
   "cell_type": "code",
   "execution_count": 32,
   "metadata": {},
   "outputs": [
    {
     "data": {
      "text/plain": [
       "array([ 3.06490306e-01, -1.11874479e+00,  7.15869138e-01, -5.75906345e-02,\n",
       "       -1.10213251e+00, -3.78167220e-01,  1.90544326e+00, -4.17873158e-01,\n",
       "       -7.05537440e-01,  4.44862873e-02,  1.93870210e+00, -1.01101261e+00,\n",
       "       -4.61413532e-01,  2.32735161e+00,  5.26568373e-01,  4.43268988e-01,\n",
       "        2.09688282e+00,  2.69672306e-02,  1.82019794e-01,  1.31279405e+00,\n",
       "       -3.73887168e-02, -8.37002104e-01,  1.05147336e+00, -2.64459906e+00,\n",
       "        1.82696754e-01,  9.48478776e-01, -5.59214114e-01,  2.04925909e+00,\n",
       "       -1.83903484e+00, -3.26753805e-01, -3.51416710e-01,  2.35798838e+00,\n",
       "       -5.38425195e-01, -1.05585096e+00, -7.00558381e-01, -1.31693797e+00,\n",
       "       -7.66174356e-02, -1.77377962e+00, -8.49944660e-02,  1.28373060e+00,\n",
       "       -7.67546849e-01, -7.83197435e-04,  1.69815427e+00,  2.65632577e-01,\n",
       "       -3.06934133e-01, -1.23559743e+00,  1.06479383e+00,  4.03390273e-01,\n",
       "       -1.01505431e+00, -9.61968968e-01, -1.14143931e+00, -3.82556770e-01,\n",
       "       -1.36838156e+00, -2.65988571e-01, -1.37254673e+00,  1.25936726e+00,\n",
       "       -4.53634039e-01,  9.77565315e-01,  9.26066722e-01, -4.27325946e-01,\n",
       "       -1.43259538e+00,  9.88165840e-01,  6.45792216e-01,  3.55104813e-02,\n",
       "       -6.22697878e-02, -3.13276997e-01, -2.11643252e-01,  1.94311286e+00,\n",
       "       -6.70673093e-01,  7.33568441e-01,  6.95623675e-01, -4.38099121e-01,\n",
       "       -4.98369812e-01,  5.50460505e-01, -2.36757151e-02,  4.83211315e-01,\n",
       "        9.62203104e-01,  1.19819656e+00,  3.18498356e-01,  5.25958596e-01,\n",
       "       -7.88771774e-01,  1.98933828e-01,  8.45756511e-01, -5.12268412e-01,\n",
       "       -2.06676854e+00, -5.81984501e-01,  1.56487108e+00, -1.49730682e-01,\n",
       "        3.81516663e-01, -2.92957945e-01, -3.66350137e-01, -1.02020733e+00,\n",
       "       -1.69024549e-01, -2.77474807e-01, -1.56901643e+00,  3.74863617e-01,\n",
       "        1.15466455e+00,  4.93730465e-01, -5.12915894e-01, -8.84865823e-01])"
      ]
     },
     "execution_count": 32,
     "metadata": {},
     "output_type": "execute_result"
    }
   ],
   "source": [
    "f"
   ]
  },
  {
   "cell_type": "code",
   "execution_count": 33,
   "metadata": {
    "scrolled": true
   },
   "outputs": [
    {
     "data": {
      "text/plain": [
       "array([-1.32219555,  1.60584112, -1.90328539,  0.54253085,  1.17786534,\n",
       "       -0.39533939,  0.30903684, -1.69426781,  1.46191519,  0.14077812,\n",
       "        0.71742988,  1.37625748, -0.01127112, -0.14652311,  0.38972776,\n",
       "        1.49682805,  2.02253911,  0.58714866,  0.06545975,  0.83209064,\n",
       "        0.81287287,  0.68998747, -1.11432224,  0.13911746,  0.34679163,\n",
       "       -1.05805118,  1.92477428,  2.28219012,  0.80680847, -0.66590004,\n",
       "        1.0887943 ,  0.20612549,  0.46996526,  1.48042387,  0.49659582,\n",
       "       -1.98130459,  0.0640623 ,  0.14839187, -0.40467461,  0.45338882,\n",
       "       -0.72734096, -0.98955097, -0.55636321,  1.86504076,  0.04145005,\n",
       "        0.77389377, -0.47644827,  1.19121081,  1.89262211,  0.24123568,\n",
       "       -0.42970241, -0.18366099, -0.62814512,  1.17707233,  0.50271054,\n",
       "       -0.06284736,  0.89815473,  1.30907064,  0.2338406 , -0.09791694,\n",
       "        0.4492462 , -0.29123109,  0.20091982, -1.21221569,  1.1904402 ,\n",
       "        0.52737614, -1.26960553, -0.34742445, -0.14578511,  0.40851883,\n",
       "       -0.52992617,  3.3588307 , -0.08041244, -0.7468471 , -0.12990741,\n",
       "       -0.82465448,  0.45004408, -0.64761904,  2.03594653, -0.41554838,\n",
       "       -0.50576094, -1.94169452, -1.8260034 , -0.70921891,  0.55921239,\n",
       "        0.33111062, -0.8059535 , -2.61175626,  0.82288139,  0.30485648,\n",
       "        0.3752175 ,  1.30597228, -1.14964298,  0.7482976 , -0.34681207,\n",
       "        1.05082065, -0.72264412,  0.17366832, -0.67214981,  0.99045082])"
      ]
     },
     "execution_count": 33,
     "metadata": {},
     "output_type": "execute_result"
    }
   ],
   "source": [
    "g"
   ]
  },
  {
   "cell_type": "code",
   "execution_count": 38,
   "metadata": {},
   "outputs": [
    {
     "data": {
      "text/plain": [
       "100"
      ]
     },
     "execution_count": 38,
     "metadata": {},
     "output_type": "execute_result"
    }
   ],
   "source": [
    "len(f)"
   ]
  },
  {
   "cell_type": "code",
   "execution_count": 39,
   "metadata": {},
   "outputs": [
    {
     "data": {
      "text/plain": [
       "100"
      ]
     },
     "execution_count": 39,
     "metadata": {},
     "output_type": "execute_result"
    }
   ],
   "source": [
    "len(g)"
   ]
  },
  {
   "cell_type": "code",
   "execution_count": 40,
   "metadata": {},
   "outputs": [],
   "source": [
    "h=np.random.randint (0,5,11)"
   ]
  },
  {
   "cell_type": "code",
   "execution_count": 41,
   "metadata": {},
   "outputs": [
    {
     "data": {
      "text/plain": [
       "array([4, 3, 0, 4, 4, 3, 3, 3, 3, 3, 0])"
      ]
     },
     "execution_count": 41,
     "metadata": {},
     "output_type": "execute_result"
    }
   ],
   "source": [
    "h"
   ]
  },
  {
   "cell_type": "code",
   "execution_count": 42,
   "metadata": {},
   "outputs": [
    {
     "data": {
      "text/plain": [
       "11"
      ]
     },
     "execution_count": 42,
     "metadata": {},
     "output_type": "execute_result"
    }
   ],
   "source": [
    "len(h)"
   ]
  },
  {
   "cell_type": "code",
   "execution_count": 43,
   "metadata": {},
   "outputs": [
    {
     "data": {
      "text/plain": [
       "0.16763926754926178"
      ]
     },
     "execution_count": 43,
     "metadata": {},
     "output_type": "execute_result"
    }
   ],
   "source": [
    "#Q6:\n",
    "\n",
    "# mean of g\n",
    "np.mean(g)"
   ]
  },
  {
   "cell_type": "code",
   "execution_count": 44,
   "metadata": {},
   "outputs": [
    {
     "data": {
      "text/plain": [
       "0.004523367544855792"
      ]
     },
     "execution_count": 44,
     "metadata": {},
     "output_type": "execute_result"
    }
   ],
   "source": [
    "#mean of f\n",
    "np.mean(f)"
   ]
  },
  {
   "cell_type": "code",
   "execution_count": 45,
   "metadata": {},
   "outputs": [],
   "source": [
    "# Since the sets of random nummbers of g and f are diferent.\n",
    "#The means of g and f are different because because the averages of two different sets of numbers are different.\n"
   ]
  },
  {
   "cell_type": "code",
   "execution_count": 46,
   "metadata": {},
   "outputs": [
    {
     "data": {
      "text/plain": [
       "1.0323327238873696"
      ]
     },
     "execution_count": 46,
     "metadata": {},
     "output_type": "execute_result"
    }
   ],
   "source": [
    "#standard deviation of g:\n",
    "np.std(g)"
   ]
  },
  {
   "cell_type": "code",
   "execution_count": 48,
   "metadata": {},
   "outputs": [
    {
     "data": {
      "text/plain": [
       "1.0095231389225143"
      ]
     },
     "execution_count": 48,
     "metadata": {},
     "output_type": "execute_result"
    }
   ],
   "source": [
    "#Standard deviation of f:\n",
    "np.std(f)"
   ]
  },
  {
   "cell_type": "code",
   "execution_count": 49,
   "metadata": {},
   "outputs": [],
   "source": [
    "#the standard deviations of g and f are diferent since the spread of numbers is diferent \n",
    "#and their means are diferent "
   ]
  },
  {
   "cell_type": "code",
   "execution_count": 51,
   "metadata": {},
   "outputs": [
    {
     "name": "stdout",
     "output_type": "stream",
     "text": [
      "The number of rows:4\n",
      "*\n",
      "**\n",
      "***\n",
      "****\n"
     ]
    }
   ],
   "source": [
    "#Q7:\n",
    "\n",
    "num=int(input(\"The number of rows:\"))\n",
    "for i in range(0,num):\n",
    "    for j in range(0,num-i-1):\n",
    "        print(end=\"\")\n",
    "    for j in range(0,i+1):\n",
    "        print(\"*\",end=\"\")\n",
    "    print()"
   ]
  },
  {
   "cell_type": "code",
   "execution_count": 56,
   "metadata": {},
   "outputs": [
    {
     "data": {
      "image/png": "[encoded data removed]",
      "text/plain": [
       "<Figure size 432x288 with 1 Axes>"
      ]
     },
     "metadata": {
      "needs_background": "light"
     },
     "output_type": "display_data"
    }
   ],
   "source": [
    "#Q8:\n",
    "\n",
    "import matplotlib.pyplot as plt\n",
    "\n",
    "N=151\n",
    "T= 12\n",
    "c=np.linspace(-10,10,151, dtype=float)\n",
    "\n",
    "z=np.zeros(N)\n",
    "\n",
    "for i in range(N):\n",
    "    z[i]=np.cos(2*np.pi *c[i]/T) + np.cos(2*2*np.pi *c[i]/T)+ np.cos(3*2*np.pi *c[i]/T)\n",
    "    \n",
    "    \n",
    "plt.plot(c,z)\n",
    "plt.show()"
   ]
  },
  {
   "cell_type": "code",
   "execution_count": null,
   "metadata": {},
   "outputs": [],
   "source": []
  }
 ],
 "metadata": {
  "kernelspec": {
   "display_name": "Python 3",
   "language": "python",
   "name": "python3"
  },
  "language_info": {
   "codemirror_mode": {
    "name": "ipython",
    "version": 3
   },
   "file_extension": ".py",
   "mimetype": "text/x-python",
   "name": "python",
   "nbconvert_exporter": "python",
   "pygments_lexer": "ipython3",
   "version": "3.7.3"
  }
 },
 "nbformat": 4,
 "nbformat_minor": 4
}
