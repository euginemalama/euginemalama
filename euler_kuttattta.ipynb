{
 "cells": [
  {
   "cell_type": "code",
   "execution_count": 18,
   "metadata": {},
   "outputs": [
    {
     "name": "stdout",
     "output_type": "stream",
     "text": [
      "Value of N: 10\n",
      "t=  [0.  0.1 0.2 0.3 0.4 0.5 0.6 0.7 0.8 0.9 1. ]\n",
      "x(t)=  [1.         1.1        1.21       1.331      1.4641     1.61051\n",
      " 1.771561   1.9487171  2.14358881 2.35794769 2.59374246]\n",
      "\n",
      "1.0      0.0\n",
      "1.1051709180756477      0.005170918075647624\n",
      "1.2214027581601699      0.011402758160169668\n",
      "1.3498588075760032      0.018858807576003\n",
      "1.4918246976412703      0.02772469764127017\n",
      "1.6487212707001282      0.038211270700128086\n",
      "1.8221188003905089      0.05055780039050872\n",
      "2.0137527074704766      0.06503560747047654\n",
      "2.2255409284924674      0.0819521184924672\n",
      "2.4596031111569494      0.10165542015694928\n",
      "2.718281828459045      0.124539368359045\n"
     ]
    }
   ],
   "source": [
    "#euler method\n",
    "\n",
    "import numpy as np\n",
    "import math\n",
    "import matplotlib.pyplot as plt\n",
    "\n",
    "N = eval(input('Value of N: '))\n",
    "\n",
    "\n",
    "h = 1/N \n",
    "\n",
    "\n",
    "t = np.zeros(N+1)\n",
    "t[0]= 0\n",
    "\n",
    "\n",
    "for i in range(1, N+1):\n",
    "    t[i] = t[i-1] + h \n",
    "print('t= ', t)\n",
    "\n",
    "\n",
    "x = np.zeros(len(t))\n",
    "x[0] = 1 \n",
    "\n",
    "for i in range (len(t)-1):\n",
    "    x[i+1] = x[i] + (1/N)*x[i] \n",
    "print('x(t)= ', x)\n",
    "print()\n",
    "\n",
    "Actual_V = np.zeros(len(t)) \n",
    "Abs_err = np.zeros(len(t)) \n",
    "\n",
    "for i in range(len(t)):\n",
    "    Actual_V[i] = math.exp(t[i]) \n",
    "    Abs_err[i] = Actual_V[i] - x[i] \n",
    "\n",
    "    print(Actual_V[i],'    ',Abs_err[i])\n",
    "    \n",
    "#plt.plot(t,x,'.-',label= 'Approx X') \n",
    "#plt.plot(t,Actual_V, label= 'exact')"
   ]
  },
  {
   "cell_type": "code",
   "execution_count": 17,
   "metadata": {},
   "outputs": [
    {
     "name": "stdout",
     "output_type": "stream",
     "text": [
      "Value of N: 10\n",
      "t=  [0.  0.1 0.2 0.3 0.4 0.5 0.6 0.7 0.8 0.9 1. ]\n",
      "x:  [1.         1.11       1.24205    1.39846525 1.5818041  1.79489353\n",
      " 2.04085735 2.32314737 2.64557785 3.01236352 3.42816169]\n",
      "\n",
      "1.0      0.0\n",
      "1.1051709180756477      -0.004829081924352385\n",
      "1.2214027581601699      -0.020647241839830244\n",
      "1.3498588075760032      -0.04860644242399692\n",
      "1.4918246976412703      -0.0899794036087298\n",
      "1.6487212707001282      -0.14617226118112203\n",
      "1.8221188003905089      -0.21873855233827277\n",
      "2.0137527074704766      -0.3093946672948271\n",
      "2.2255409284924674      -0.4200369206231933\n",
      "2.4596031111569494      -0.5527604121158558\n",
      "2.718281828459045      -0.7098798647574047\n"
     ]
    },
    {
     "data": {
      "text/plain": [
       "[<matplotlib.lines.Line2D at 0x7f13d79b48d0>]"
      ]
     },
     "execution_count": 17,
     "metadata": {},
     "output_type": "execute_result"
    },
    {
     "data": {
      "image/png": "[encoded data removed]",
      "text/plain": [
       "<Figure size 432x288 with 1 Axes>"
      ]
     },
     "metadata": {
      "needs_background": "light"
     },
     "output_type": "display_data"
    }
   ],
   "source": [
    "#kutta method\n",
    "\n",
    "import numpy as np\n",
    "import math\n",
    "import matplotlib.pyplot as plt\n",
    "\n",
    "N = eval(input('Value of N: '))\n",
    "\n",
    "\n",
    "h = 1/N \n",
    "\n",
    "t = np.zeros(N+1)\n",
    "t[0]= 0 \n",
    "\n",
    "for i in range(1, N+1):\n",
    "    t[i] = t[i-1] + h \n",
    "print('t= ', t)\n",
    "\n",
    "x = np.zeros(len(t))\n",
    "x[0] = 1 \n",
    "\n",
    "for i in range (len(t)-1):\n",
    "    k_1 = h * (t[i] + x[i])\n",
    "    k_2 = h * ((t[i] + h) + (x[i]+ k_1))\n",
    "    x[i+1] = x[i] + 0.5*(k_1 + k_2) \n",
    "\n",
    "print('x: ',x)\n",
    "print()\n",
    "Actual_V = np.zeros(len(t)) \n",
    "Abs_err = np.zeros(len(t)) \n",
    "\n",
    "for i in range(len(t)):\n",
    "    Actual_V[i] = math.exp(t[i]) \n",
    "    Abs_err[i] = Actual_V[i] - x[i] \n",
    "\n",
    "    print(Actual_V[i],'    ',Abs_err[i])\n",
    "    \n",
    "plt.plot(t,x,'.-',label= 'Approx X') \n",
    "plt.plot(t,Actual_V, label= 'exact') "
   ]
  },
  {
   "cell_type": "code",
   "execution_count": null,
   "metadata": {},
   "outputs": [],
   "source": []
  },
  {
   "cell_type": "code",
   "execution_count": null,
   "metadata": {},
   "outputs": [],
   "source": []
  }
 ],
 "metadata": {
  "kernelspec": {
   "display_name": "Python 3",
   "language": "python",
   "name": "python3"
  },
  "language_info": {
   "codemirror_mode": {
    "name": "ipython",
    "version": 3
   },
   "file_extension": ".py",
   "mimetype": "text/x-python",
   "name": "python",
   "nbconvert_exporter": "python",
   "pygments_lexer": "ipython3",
   "version": "3.7.3"
  }
 },
 "nbformat": 4,
 "nbformat_minor": 4
}
