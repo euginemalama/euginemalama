{
 "cells": [
  {
   "cell_type": "code",
   "execution_count": 2,
   "metadata": {},
   "outputs": [
    {
     "data": {
      "text/plain": [
       "7"
      ]
     },
     "execution_count": 2,
     "metadata": {},
     "output_type": "execute_result"
    }
   ],
   "source": [
    "4 + 3"
   ]
  },
  {
   "cell_type": "code",
   "execution_count": 3,
   "metadata": {},
   "outputs": [
    {
     "data": {
      "text/plain": [
       "51212.7"
      ]
     },
     "execution_count": 3,
     "metadata": {},
     "output_type": "execute_result"
    }
   ],
   "source": [
    "# at its most basic, coding is like using a calculator\n",
    "# we write an EXPRESSION, and can EVALUATE it\n",
    "\n",
    "517.3 * 99"
   ]
  },
  {
   "cell_type": "code",
   "execution_count": 4,
   "metadata": {},
   "outputs": [
    {
     "data": {
      "text/plain": [
       "96.8125"
      ]
     },
     "execution_count": 4,
     "metadata": {},
     "output_type": "execute_result"
    }
   ],
   "source": [
    "4 + 3 * (99/(10-6.8))"
   ]
  },
  {
   "cell_type": "code",
   "execution_count": 6,
   "metadata": {},
   "outputs": [
    {
     "data": {
      "text/plain": [
       "70"
      ]
     },
     "execution_count": 6,
     "metadata": {},
     "output_type": "execute_result"
    }
   ],
   "source": [
    "# in math, we have the \"order of operations\"\n",
    "# in prog, we have \"precedence of operations\" -> esentially, math's order of operations\n",
    "(4 + 3) * 10"
   ]
  },
  {
   "cell_type": "code",
   "execution_count": 7,
   "metadata": {},
   "outputs": [],
   "source": [
    "# basic math operators in prog:  +, -, /, * ... same as in programming"
   ]
  },
  {
   "cell_type": "code",
   "execution_count": 9,
   "metadata": {},
   "outputs": [
    {
     "ename": "NameError",
     "evalue": "name 'four' is not defined",
     "output_type": "error",
     "traceback": [
      "\u001b[0;31m---------------------------------------------------------------------------\u001b[0m",
      "\u001b[0;31mNameError\u001b[0m                                 Traceback (most recent call last)",
      "\u001b[0;32m<ipython-input-9-6e6b14aa2652>\u001b[0m in \u001b[0;36m<module>\u001b[0;34m()\u001b[0m\n\u001b[0;32m----> 1\u001b[0;31m \u001b[0mfour\u001b[0m \u001b[0;34m+\u001b[0m \u001b[0;36m3\u001b[0m\u001b[0;34m\u001b[0m\u001b[0;34m\u001b[0m\u001b[0m\n\u001b[0m",
      "\u001b[0;31mNameError\u001b[0m: name 'four' is not defined"
     ]
    }
   ],
   "source": [
    "# this is not a SYNTAX that Python can understand (or INTERPRET)\n",
    "# SYNTAX:  we have to write our expressions EXACTLY with certain rules for Python\n",
    "#          to understand\n",
    "four + three"
   ]
  },
  {
   "cell_type": "code",
   "execution_count": 12,
   "metadata": {},
   "outputs": [
    {
     "data": {
      "text/plain": [
       "7"
      ]
     },
     "execution_count": 12,
     "metadata": {},
     "output_type": "execute_result"
    }
   ],
   "source": [
    "# with SYNTAX, there is some flexibility--\n",
    "# for example, with spaces INSIDE an expression \n",
    "3+                             4"
   ]
  },
  {
   "cell_type": "code",
   "execution_count": 13,
   "metadata": {},
   "outputs": [],
   "source": [
    "# more math operators:  ** power, % modulus"
   ]
  },
  {
   "cell_type": "code",
   "execution_count": 17,
   "metadata": {},
   "outputs": [],
   "source": [
    "# this is a comment"
   ]
  },
  {
   "cell_type": "code",
   "execution_count": 14,
   "metadata": {},
   "outputs": [
    {
     "data": {
      "text/plain": [
       "16"
      ]
     },
     "execution_count": 14,
     "metadata": {},
     "output_type": "execute_result"
    }
   ],
   "source": [
    "2**4"
   ]
  },
  {
   "cell_type": "code",
   "execution_count": 15,
   "metadata": {},
   "outputs": [
    {
     "data": {
      "text/plain": [
       "8"
      ]
     },
     "execution_count": 15,
     "metadata": {},
     "output_type": "execute_result"
    }
   ],
   "source": [
    "2*4"
   ]
  },
  {
   "cell_type": "code",
   "execution_count": 18,
   "metadata": {},
   "outputs": [
    {
     "data": {
      "text/plain": [
       "1"
      ]
     },
     "execution_count": 18,
     "metadata": {},
     "output_type": "execute_result"
    }
   ],
   "source": [
    "# modulus operator:  what is the remainder of dividing 5 by 2:\n",
    "5 % 2"
   ]
  },
  {
   "cell_type": "code",
   "execution_count": 19,
   "metadata": {},
   "outputs": [
    {
     "data": {
      "text/plain": [
       "0"
      ]
     },
     "execution_count": 19,
     "metadata": {},
     "output_type": "execute_result"
    }
   ],
   "source": [
    "4 % 2"
   ]
  },
  {
   "cell_type": "code",
   "execution_count": 20,
   "metadata": {},
   "outputs": [
    {
     "data": {
      "text/plain": [
       "121932631112635269"
      ]
     },
     "execution_count": 20,
     "metadata": {},
     "output_type": "execute_result"
    }
   ],
   "source": [
    "# computers are NOT smart, but they are good at evaluating math expressions quickly\n",
    "123456789 * 987654321"
   ]
  },
  {
   "cell_type": "code",
   "execution_count": 21,
   "metadata": {},
   "outputs": [
    {
     "data": {
      "text/plain": [
       "81"
      ]
     },
     "execution_count": 21,
     "metadata": {},
     "output_type": "execute_result"
    }
   ],
   "source": [
    "(4 + 5)**2"
   ]
  },
  {
   "cell_type": "markdown",
   "metadata": {},
   "source": [
    "$(1+x)^{12} = 10$"
   ]
  },
  {
   "cell_type": "code",
   "execution_count": 22,
   "metadata": {},
   "outputs": [
    {
     "ename": "SyntaxError",
     "evalue": "can't assign to operator (<ipython-input-22-35957fcaf88c>, line 1)",
     "output_type": "error",
     "traceback": [
      "\u001b[0;36m  File \u001b[0;32m\"<ipython-input-22-35957fcaf88c>\"\u001b[0;36m, line \u001b[0;32m1\u001b[0m\n\u001b[0;31m    (1+x)**3 = 10\u001b[0m\n\u001b[0m                 ^\u001b[0m\n\u001b[0;31mSyntaxError\u001b[0m\u001b[0;31m:\u001b[0m can't assign to operator\n"
     ]
    }
   ],
   "source": [
    "(1+x)**3 = 10"
   ]
  },
  {
   "cell_type": "code",
   "execution_count": 1,
   "metadata": {},
   "outputs": [
    {
     "name": "stdout",
     "output_type": "stream",
     "text": [
      "mbox-short.txt: mbox-short.txt\n",
      "Average spam confidence: 0.7507185185185187\n"
     ]
    }
   ],
   "source": [
    "fname = input(\"mbox-short.txt: \")\n",
    "try:\n",
    "    fh = open(fname)\n",
    "except:\n",
    "    print(\"mbox-short.txt\")\n",
    "quit()\n",
    "\n",
    "total = 0\n",
    "count = 0\n",
    "for line in fh:\n",
    "    if line.startswith(\"X-DSPAM-Confidence:\"):\n",
    "       count = count + 1\n",
    "       line = float(line[20:26])\n",
    "       total = line + total\n",
    "\n",
    "average = total / count\n",
    "\n",
    "print(\"Average spam confidence:\", average)"
   ]
  },
  {
   "cell_type": "code",
   "execution_count": 29,
   "metadata": {},
   "outputs": [
    {
     "name": "stdout",
     "output_type": "stream",
     "text": [
      "100.0\n"
     ]
    }
   ],
   "source": [
    "import numpy as np\n",
    "N=10\n",
    "x=np.linspace(2,10,N)\n",
    "y=np.zeros(N)\n",
    "for i in range(N):\n",
    "    y[i]=x[i]**2\n",
    "print(y[i])\n"
   ]
  },
  {
   "cell_type": "code",
   "execution_count": 14,
   "metadata": {},
   "outputs": [],
   "source": [
    "np.linspace?"
   ]
  },
  {
   "cell_type": "code",
   "execution_count": 25,
   "metadata": {},
   "outputs": [
    {
     "data": {
      "text/plain": [
       "array([ 2.        ,  2.16326531,  2.32653061,  2.48979592,  2.65306122,\n",
       "        2.81632653,  2.97959184,  3.14285714,  3.30612245,  3.46938776,\n",
       "        3.63265306,  3.79591837,  3.95918367,  4.12244898,  4.28571429,\n",
       "        4.44897959,  4.6122449 ,  4.7755102 ,  4.93877551,  5.10204082,\n",
       "        5.26530612,  5.42857143,  5.59183673,  5.75510204,  5.91836735,\n",
       "        6.08163265,  6.24489796,  6.40816327,  6.57142857,  6.73469388,\n",
       "        6.89795918,  7.06122449,  7.2244898 ,  7.3877551 ,  7.55102041,\n",
       "        7.71428571,  7.87755102,  8.04081633,  8.20408163,  8.36734694,\n",
       "        8.53061224,  8.69387755,  8.85714286,  9.02040816,  9.18367347,\n",
       "        9.34693878,  9.51020408,  9.67346939,  9.83673469, 10.        ])"
      ]
     },
     "execution_count": 25,
     "metadata": {},
     "output_type": "execute_result"
    }
   ],
   "source": [
    "x=np.linspace(2,10)\n",
    "x"
   ]
  },
  {
   "cell_type": "code",
   "execution_count": 26,
   "metadata": {},
   "outputs": [
    {
     "data": {
      "text/plain": [
       "50"
      ]
     },
     "execution_count": 26,
     "metadata": {},
     "output_type": "execute_result"
    }
   ],
   "source": [
    "len(x)"
   ]
  },
  {
   "cell_type": "code",
   "execution_count": 37,
   "metadata": {},
   "outputs": [
    {
     "name": "stdout",
     "output_type": "stream",
     "text": [
      "1.0\n",
      "16.0\n",
      "81.0\n",
      "256.0\n",
      "1225.0\n",
      "1600.0\n"
     ]
    }
   ],
   "source": [
    "L=[1,4,9,16,35,40]\n",
    "Y=np.zeros(len(L))\n",
    "for i in range (len(L)):\n",
    "    Y[i]=L[i]**2\n",
    "    print(Y[i])\n"
   ]
  },
  {
   "cell_type": "code",
   "execution_count": 45,
   "metadata": {},
   "outputs": [
    {
     "name": "stdout",
     "output_type": "stream",
     "text": [
      "1600.0\n"
     ]
    }
   ],
   "source": [
    "L=[1,4,9,16,35,40]\n",
    "Y=np.zeros(len(L))\n",
    "for i in range (len(L)):\n",
    "    Y[i]=L[i]**2\n",
    "print(Y[i])"
   ]
  },
  {
   "cell_type": "code",
   "execution_count": null,
   "metadata": {},
   "outputs": [],
   "source": []
  }
 ],
 "metadata": {
  "kernelspec": {
   "display_name": "Python 3",
   "language": "python",
   "name": "python3"
  },
  "language_info": {
   "codemirror_mode": {
    "name": "ipython",
    "version": 3
   },
   "file_extension": ".py",
   "mimetype": "text/x-python",
   "name": "python",
   "nbconvert_exporter": "python",
   "pygments_lexer": "ipython3",
   "version": "3.7.3"
  }
 },
 "nbformat": 4,
 "nbformat_minor": 4
}
