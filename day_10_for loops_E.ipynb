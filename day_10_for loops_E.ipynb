{
 "cells": [
  {
   "cell_type": "code",
   "execution_count": 1,
   "metadata": {},
   "outputs": [],
   "source": [
    "import numpy as np"
   ]
  },
  {
   "cell_type": "code",
   "execution_count": 9,
   "metadata": {},
   "outputs": [
    {
     "name": "stdout",
     "output_type": "stream",
     "text": [
      "-20.0\n",
      "-20.877551020408166\n",
      "-21.510204081632654\n",
      "-21.89795918367347\n",
      "-22.040816326530614\n",
      "-21.93877551020408\n",
      "-21.591836734693874\n",
      "-21.0\n",
      "-20.16326530612245\n",
      "-19.081632653061227\n",
      "-17.75510204081633\n",
      "-16.183673469387756\n",
      "-14.367346938775512\n",
      "-12.306122448979595\n",
      "-10.0\n",
      "[-20.         -20.87755102 -21.51020408 -21.89795918 -22.04081633\n",
      " -21.93877551 -21.59183673 -21.         -20.16326531 -19.08163265\n",
      " -17.75510204 -16.18367347 -14.36734694 -12.30612245 -10.        ]\n"
     ]
    }
   ],
   "source": [
    "#For loops for multiplication of two vectors\n",
    "N=15\n",
    "U=np.linspace(4,10, num=N)\n",
    "V=np.linspace(-5,-1, num=N)\n",
    "\n",
    "W=np.zeros(N)\n",
    "\n",
    "for k in range(N):\n",
    "    W[k]=U[k]*V[k]\n",
    "    print(W[k])\n",
    "print(W)"
   ]
  },
  {
   "cell_type": "code",
   "execution_count": 10,
   "metadata": {},
   "outputs": [
    {
     "name": "stdout",
     "output_type": "stream",
     "text": [
      "-280.7142857142857\n"
     ]
    }
   ],
   "source": [
    "#For loop for dot products\n",
    "N=15\n",
    "U=np.linspace(4,10, num=N)\n",
    "V=np.linspace(-5,-1, num=N)\n",
    "D=0       #IC!\n",
    "for i in range(N):\n",
    "    D +=U[i]*V[i]\n",
    "print(D)"
   ]
  },
  {
   "cell_type": "code",
   "execution_count": 14,
   "metadata": {},
   "outputs": [
    {
     "name": "stdout",
     "output_type": "stream",
     "text": [
      "-8.429098923517843e+18\n"
     ]
    }
   ],
   "source": [
    "#For loop for PI products\n",
    "N=15\n",
    "U=np.linspace(4,10, num=N)\n",
    "V=np.linspace(-5,-1, num=N)\n",
    "\n",
    "F=1       #IC!\n",
    "\n",
    "for i in range(N):\n",
    "    F *= U[i]*V[i] #this is the main change #1: +=--> +=\n",
    "print(F)"
   ]
  },
  {
   "cell_type": "code",
   "execution_count": 15,
   "metadata": {},
   "outputs": [
    {
     "name": "stdout",
     "output_type": "stream",
     "text": [
      "5458.078717201165\n"
     ]
    }
   ],
   "source": [
    "#For loop \n",
    "N=15\n",
    "U=np.linspace(4,10, num=N)\n",
    "V=np.linspace(-5,-1, num=N)\n",
    "G=0       #IC!\n",
    "for i in range(N):\n",
    "    G += (U[i]*V[i])**2\n",
    "print(G)"
   ]
  },
  {
   "cell_type": "code",
   "execution_count": 16,
   "metadata": {},
   "outputs": [
    {
     "data": {
      "text/plain": [
       "6"
      ]
     },
     "execution_count": 16,
     "metadata": {},
     "output_type": "execute_result"
    }
   ],
   "source": [
    "10-4"
   ]
  },
  {
   "cell_type": "code",
   "execution_count": 18,
   "metadata": {},
   "outputs": [
    {
     "data": {
      "text/plain": [
       "array([ 4.        ,  4.42857143,  4.85714286,  5.28571429,  5.71428571,\n",
       "        6.14285714,  6.57142857,  7.        ,  7.42857143,  7.85714286,\n",
       "        8.28571429,  8.71428571,  9.14285714,  9.57142857, 10.        ])"
      ]
     },
     "execution_count": 18,
     "metadata": {},
     "output_type": "execute_result"
    }
   ],
   "source": [
    "U=np.linspace(4,10, 15)\n",
    "U"
   ]
  },
  {
   "cell_type": "code",
   "execution_count": 19,
   "metadata": {},
   "outputs": [
    {
     "data": {
      "text/plain": [
       "3.75"
      ]
     },
     "execution_count": 19,
     "metadata": {},
     "output_type": "execute_result"
    }
   ],
   "source": []
  },
  {
   "cell_type": "code",
   "execution_count": null,
   "metadata": {},
   "outputs": [],
   "source": [
    "1"
   ]
  }
 ],
 "metadata": {
  "kernelspec": {
   "display_name": "Python 3",
   "language": "python",
   "name": "python3"
  },
  "language_info": {
   "codemirror_mode": {
    "name": "ipython",
    "version": 3
   },
   "file_extension": ".py",
   "mimetype": "text/x-python",
   "name": "python",
   "nbconvert_exporter": "python",
   "pygments_lexer": "ipython3",
   "version": "3.7.3"
  }
 },
 "nbformat": 4,
 "nbformat_minor": 2
}
