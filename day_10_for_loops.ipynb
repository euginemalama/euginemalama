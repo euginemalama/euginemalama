{
 "cells": [
  {
   "cell_type": "code",
   "execution_count": 2,
   "metadata": {},
   "outputs": [],
   "source": [
    "import numpy as np"
   ]
  },
  {
   "cell_type": "code",
   "execution_count": 8,
   "metadata": {},
   "outputs": [
    {
     "name": "stdout",
     "output_type": "stream",
     "text": [
      "-20.0\n",
      "-20.877551020408166\n",
      "-21.510204081632654\n",
      "-21.89795918367347\n",
      "-22.040816326530614\n",
      "-21.93877551020408\n",
      "-21.591836734693874\n",
      "-21.0\n",
      "-20.16326530612245\n",
      "-19.081632653061227\n",
      "-17.75510204081633\n",
      "-16.183673469387756\n",
      "-14.367346938775512\n",
      "-12.306122448979595\n",
      "-10.0\n",
      "[-20.         -20.87755102 -21.51020408 -21.89795918 -22.04081633\n",
      " -21.93877551 -21.59183673 -21.         -20.16326531 -19.08163265\n",
      " -17.75510204 -16.18367347 -14.36734694 -12.30612245 -10.        ]\n"
     ]
    }
   ],
   "source": [
    "# FOR loops: elementwise mult\n",
    "N = 15\n",
    "U = np.linspace(4,10, num=N)\n",
    "V = np.linspace(-5,-1, num=N)\n",
    "\n",
    "W = np.zeros(N)\n",
    "\n",
    "for k in range(N):\n",
    "    W[k] = U[k]*V[k]\n",
    "    print(W[k])\n",
    "print(W)"
   ]
  },
  {
   "cell_type": "code",
   "execution_count": 4,
   "metadata": {},
   "outputs": [
    {
     "name": "stdout",
     "output_type": "stream",
     "text": [
      "[4.         4.42857143 4.85714286 5.28571429 5.71428571]\n",
      "[-5.         -4.71428571 -4.42857143 -4.14285714 -3.85714286]\n"
     ]
    }
   ],
   "source": [
    "print(U[:5])\n",
    "print(V[:5])"
   ]
  },
  {
   "cell_type": "code",
   "execution_count": 24,
   "metadata": {},
   "outputs": [
    {
     "name": "stdout",
     "output_type": "stream",
     "text": [
      "-280.7142857142857\n"
     ]
    }
   ],
   "source": [
    "# FOR loops: summation\n",
    "N = 15\n",
    "U = np.linspace(4,10, num=N)\n",
    "V = np.linspace(-5,-1, num=N)\n",
    "\n",
    "E = 0    # IC!\n",
    "\n",
    "for i in range(N):\n",
    "    E += U[i]*V[i]\n",
    "print(E)"
   ]
  },
  {
   "cell_type": "code",
   "execution_count": 27,
   "metadata": {},
   "outputs": [
    {
     "name": "stdout",
     "output_type": "stream",
     "text": [
      "-8.429098923517843e+18\n"
     ]
    }
   ],
   "source": [
    "# FOR loops: PI product\n",
    "N = 15\n",
    "U = np.linspace(4,10, num=N)\n",
    "V = np.linspace(-5,-1, num=N)\n",
    "\n",
    "F = 1    # IC!       # THIS is the main change #2: 0 --> 1\n",
    "\n",
    "for i in range(N):\n",
    "    F *= U[i]*V[i]   # THIS is the main change #1: += --> *=\n",
    "print(F)"
   ]
  },
  {
   "cell_type": "code",
   "execution_count": 4,
   "metadata": {},
   "outputs": [
    {
     "name": "stdout",
     "output_type": "stream",
     "text": [
      "5458.078717201165\n"
     ]
    }
   ],
   "source": [
    "# FOR loops: summation\n",
    "N = 15\n",
    "U = np.linspace(4,10, num=N)\n",
    "V = np.linspace(-5,-1, num=N)\n",
    "\n",
    "G = 0    # IC!\n",
    "\n",
    "for i in range(N):\n",
    "    G += (U[i]*V[i])**2\n",
    "print(G)"
   ]
  },
  {
   "cell_type": "code",
   "execution_count": null,
   "metadata": {},
   "outputs": [],
   "source": []
  }
 ],
 "metadata": {
  "kernelspec": {
   "display_name": "Python 3",
   "language": "python",
   "name": "python3"
  },
  "language_info": {
   "codemirror_mode": {
    "name": "ipython",
    "version": 3
   },
   "file_extension": ".py",
   "mimetype": "text/x-python",
   "name": "python",
   "nbconvert_exporter": "python",
   "pygments_lexer": "ipython3",
   "version": "3.7.3"
  }
 },
 "nbformat": 4,
 "nbformat_minor": 4
}
