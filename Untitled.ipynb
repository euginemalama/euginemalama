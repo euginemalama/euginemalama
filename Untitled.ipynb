{
 "cells": [
  {
   "cell_type": "code",
   "execution_count": null,
   "metadata": {},
   "outputs": [],
   "source": []
  },
  {
   "cell_type": "code",
   "execution_count": 30,
   "metadata": {},
   "outputs": [
    {
     "data": {
      "image/png": "[encoded data removed]",
      "text/plain": [
       "<Figure size 432x288 with 1 Axes>"
      ]
     },
     "metadata": {
      "needs_background": "light"
     },
     "output_type": "display_data"
    },
    {
     "ename": "TypeError",
     "evalue": "object of type 'int' has no len()",
     "output_type": "error",
     "traceback": [
      "\u001b[0;31m---------------------------------------------------------------------------\u001b[0m",
      "\u001b[0;31mTypeError\u001b[0m                                 Traceback (most recent call last)",
      "\u001b[0;32m<ipython-input-30-8051d18e90b6>\u001b[0m in \u001b[0;36m<module>\u001b[0;34m()\u001b[0m\n\u001b[1;32m     32\u001b[0m \u001b[0mplt\u001b[0m\u001b[0;34m.\u001b[0m\u001b[0mshow\u001b[0m\u001b[0;34m(\u001b[0m\u001b[0;34m)\u001b[0m\u001b[0;34m\u001b[0m\u001b[0;34m\u001b[0m\u001b[0m\n\u001b[1;32m     33\u001b[0m \u001b[0mplt\u001b[0m\u001b[0;34m.\u001b[0m\u001b[0mpause\u001b[0m\u001b[0;34m(\u001b[0m\u001b[0;36m0.001\u001b[0m\u001b[0;34m)\u001b[0m\u001b[0;34m\u001b[0m\u001b[0;34m\u001b[0m\u001b[0m\n\u001b[0;32m---> 34\u001b[0;31m \u001b[0mprint\u001b[0m\u001b[0;34m(\u001b[0m\u001b[0;34m\"Number of steps  = \"\u001b[0m\u001b[0;34m,\u001b[0m\u001b[0mlen\u001b[0m\u001b[0;34m(\u001b[0m\u001b[0mk\u001b[0m\u001b[0;34m)\u001b[0m\u001b[0;34m-\u001b[0m\u001b[0;36m1\u001b[0m\u001b[0;34m)\u001b[0m\u001b[0;34m\u001b[0m\u001b[0;34m\u001b[0m\u001b[0m\n\u001b[0m\u001b[1;32m     35\u001b[0m \u001b[0mprint\u001b[0m\u001b[0;34m(\u001b[0m\u001b[0;34m\"Final value of t = \"\u001b[0m\u001b[0;34m,\u001b[0m\u001b[0mk\u001b[0m\u001b[0;34m[\u001b[0m\u001b[0;34m-\u001b[0m\u001b[0;36m1\u001b[0m\u001b[0;34m]\u001b[0m\u001b[0;34m)\u001b[0m\u001b[0;34m\u001b[0m\u001b[0;34m\u001b[0m\u001b[0m\n\u001b[1;32m     36\u001b[0m \u001b[0mprint\u001b[0m\u001b[0;34m(\u001b[0m\u001b[0;34m\"Final value of x = \"\u001b[0m\u001b[0;34m,\u001b[0m\u001b[0mxk\u001b[0m\u001b[0;34m[\u001b[0m\u001b[0;34m-\u001b[0m\u001b[0;36m1\u001b[0m\u001b[0;34m]\u001b[0m\u001b[0;34m)\u001b[0m\u001b[0;34m\u001b[0m\u001b[0;34m\u001b[0m\u001b[0m\n",
      "\u001b[0;31mTypeError\u001b[0m: object of type 'int' has no len()"
     ]
    }
   ],
   "source": [
    "# ode.py: a simple ODE solver (PED 2016, updated to python3 2019)\n",
    "#\n",
    "# The program sets up a function solveODE(f,x0,dt,tmax) \n",
    "# which uses the Euler method to solve \n",
    "#  dx/dt = f(x,t)\n",
    "# for x(t) and plot the result, with time running \n",
    "# from t = 0 to t = tmax, x(0) = x0, time-step = dt,\n",
    "# and with f(x,t) specified by the string fSpec.\n",
    "\n",
    "# from __future__ import division\n",
    "import numpy as np\n",
    "import matplotlib.pyplot as plt\n",
    "\n",
    "plt.ion()\n",
    "tk=0\n",
    "n=10\n",
    "dt=\n",
    "xk=0\n",
    "tmax=n\n",
    "def solveODE(fSpec,x0,dt,tmax):\n",
    "       f = eval(\"lambda x,t:\" + fSpec)\n",
    "       t,x = 0.0,x0\n",
    "       xk = [x0]\n",
    "       tk = [0.0]\n",
    "       while t < tmax - dt/2 :\n",
    "           x += dt*f(x,t)\n",
    "           t += dt\n",
    "           tk.append(t)\n",
    "           xk.append(x)\n",
    "plt.plot( tk ,xk,'r.',markersize=4)\n",
    "plt.xlim(0.0,tmax*1.05)\n",
    "plt.show()\n",
    "plt.pause(0.001)\n",
    "print(\"Number of steps  = \",len(tk)-1)\n",
    "print(\"Final value of t = \",tk[-1])\n",
    "print(\"Final value of x = \",xk[-1])\n"
   ]
  },
  {
   "cell_type": "code",
   "execution_count": 10,
   "metadata": {},
   "outputs": [
    {
     "name": "stdout",
     "output_type": "stream",
     "text": [
      "10\n"
     ]
    },
    {
     "ename": "TypeError",
     "evalue": "'str' object cannot be interpreted as an integer",
     "output_type": "error",
     "traceback": [
      "\u001b[0;31m---------------------------------------------------------------------------\u001b[0m",
      "\u001b[0;31mTypeError\u001b[0m                                 Traceback (most recent call last)",
      "\u001b[0;32m<ipython-input-10-075c37af147c>\u001b[0m in \u001b[0;36m<module>\u001b[0;34m()\u001b[0m\n\u001b[1;32m      9\u001b[0m \u001b[0mN\u001b[0m\u001b[0;34m=\u001b[0m\u001b[0minput\u001b[0m\u001b[0;34m(\u001b[0m\u001b[0;34m)\u001b[0m\u001b[0;34m\u001b[0m\u001b[0;34m\u001b[0m\u001b[0m\n\u001b[1;32m     10\u001b[0m \u001b[0mh\u001b[0m \u001b[0;34m=\u001b[0m \u001b[0;36m0.1\u001b[0m \u001b[0;31m# Step size\u001b[0m\u001b[0;34m\u001b[0m\u001b[0;34m\u001b[0m\u001b[0m\n\u001b[0;32m---> 11\u001b[0;31m \u001b[0mt\u001b[0m \u001b[0;34m=\u001b[0m \u001b[0mnp\u001b[0m\u001b[0;34m.\u001b[0m\u001b[0mzeros\u001b[0m\u001b[0;34m(\u001b[0m\u001b[0mN\u001b[0m\u001b[0;34m)\u001b[0m \u001b[0;31m# Numerical grid\u001b[0m\u001b[0;34m\u001b[0m\u001b[0;34m\u001b[0m\u001b[0m\n\u001b[0m\u001b[1;32m     12\u001b[0m \u001b[0ms0\u001b[0m \u001b[0;34m=\u001b[0m \u001b[0;34m-\u001b[0m\u001b[0;36m1\u001b[0m \u001b[0;31m# Initial Condition\u001b[0m\u001b[0;34m\u001b[0m\u001b[0;34m\u001b[0m\u001b[0m\n\u001b[1;32m     13\u001b[0m \u001b[0;34m\u001b[0m\u001b[0m\n",
      "\u001b[0;31mTypeError\u001b[0m: 'str' object cannot be interpreted as an integer"
     ]
    }
   ],
   "source": [
    "import numpy as np\n",
    "import matplotlib.pyplot as plt\n",
    "\n",
    "plt.style.use('seaborn-poster')\n",
    "%matplotlib inline\n",
    "\n",
    "# Define parameters\n",
    "f = lambda t, s: t # ODE\n",
    "N=input(\"N=\")\n",
    "h = 0.1 # Step size\n",
    "t = np.zeros(N) # Numerical grid\n",
    "s0 = -1 # Initial Condition\n",
    "\n",
    "# Explicit Euler Method\n",
    "s = np.zeros(len(t))\n",
    "s[0] = s0\n",
    "\n",
    "for i in range(0, len(t) - 1):\n",
    "    s[i + 1] = s[i] + h*f(t[i], s[i])\n",
    "\n",
    "plt.figure(figsize = (12, 8))\n",
    "plt.plot(t, s, 'bo--', label='Approximate')\n",
    "plt.plot(t, -np.exp(-t), 'g', label='Exact')\n",
    "plt.title('Approximate and Exact Solution \\\n",
    "for Simple ODE')\n",
    "plt.xlabel('t')\n",
    "plt.ylabel('f(t)')\n",
    "plt.grid()\n",
    "plt.legend(loc='lower right')\n",
    "plt.show()"
   ]
  },
  {
   "cell_type": "code",
   "execution_count": 48,
   "metadata": {},
   "outputs": [
    {
     "name": "stdout",
     "output_type": "stream",
     "text": [
      "Value of N : 10\n",
      "t=  [0.  0.1 0.2 0.3 0.4 0.5 0.6 0.7 0.8 0.9 1. ]\n",
      "1.0      0.0\n",
      "1.1051709180756477      0.005170918075647624\n",
      "1.2214027581601699      0.011402758160169668\n",
      "1.3498588075760032      0.018858807576003\n",
      "1.4918246976412703      0.02772469764127017\n",
      "1.6487212707001282      0.038211270700128086\n",
      "1.8221188003905089      0.05055780039050872\n",
      "2.0137527074704766      0.06503560747047654\n",
      "2.2255409284924674      0.0819521184924672\n",
      "2.4596031111569494      0.10165542015694928\n",
      "2.718281828459045      0.124539368359045\n"
     ]
    },
    {
     "ename": "NameError",
     "evalue": "name 'log' is not defined",
     "output_type": "error",
     "traceback": [
      "\u001b[0;31m---------------------------------------------------------------------------\u001b[0m",
      "\u001b[0;31mNameError\u001b[0m                                 Traceback (most recent call last)",
      "\u001b[0;32m<ipython-input-48-2e0dca2766e4>\u001b[0m in \u001b[0;36m<module>\u001b[0;34m()\u001b[0m\n\u001b[1;32m     30\u001b[0m \u001b[0;34m\u001b[0m\u001b[0m\n\u001b[1;32m     31\u001b[0m \u001b[0mplt\u001b[0m\u001b[0;34m.\u001b[0m\u001b[0mfigure\u001b[0m\u001b[0;34m(\u001b[0m\u001b[0mfigsize\u001b[0m \u001b[0;34m=\u001b[0m \u001b[0;34m(\u001b[0m\u001b[0;36m12\u001b[0m\u001b[0;34m,\u001b[0m \u001b[0;36m8\u001b[0m\u001b[0;34m)\u001b[0m\u001b[0;34m)\u001b[0m\u001b[0;34m\u001b[0m\u001b[0;34m\u001b[0m\u001b[0m\n\u001b[0;32m---> 32\u001b[0;31m \u001b[0mplt\u001b[0m\u001b[0;34m.\u001b[0m\u001b[0mplot\u001b[0m\u001b[0;34m(\u001b[0m\u001b[0mt\u001b[0m\u001b[0;34m,\u001b[0m \u001b[0mlog\u001b[0m\u001b[0;34m(\u001b[0m\u001b[0merror\u001b[0m\u001b[0;34m)\u001b[0m\u001b[0;34m)\u001b[0m\u001b[0;34m\u001b[0m\u001b[0;34m\u001b[0m\u001b[0m\n\u001b[0m\u001b[1;32m     33\u001b[0m \u001b[0mplt\u001b[0m\u001b[0;34m.\u001b[0m\u001b[0mxlabel\u001b[0m\u001b[0;34m(\u001b[0m\u001b[0;34m't'\u001b[0m\u001b[0;34m)\u001b[0m\u001b[0;34m\u001b[0m\u001b[0;34m\u001b[0m\u001b[0m\n\u001b[1;32m     34\u001b[0m \u001b[0mplt\u001b[0m\u001b[0;34m.\u001b[0m\u001b[0mylabel\u001b[0m\u001b[0;34m(\u001b[0m\u001b[0;34m'f(t)'\u001b[0m\u001b[0;34m)\u001b[0m\u001b[0;34m\u001b[0m\u001b[0;34m\u001b[0m\u001b[0m\n",
      "\u001b[0;31mNameError\u001b[0m: name 'log' is not defined"
     ]
    },
    {
     "data": {
      "text/plain": [
       "<Figure size 864x576 with 0 Axes>"
      ]
     },
     "metadata": {},
     "output_type": "display_data"
    }
   ],
   "source": [
    "import numpy as np\n",
    "import math\n",
    "import matplotlib.pyplot as plt\n",
    "\n",
    "\n",
    "N= eval(input('Value of N : '))\n",
    "h= 1/N\n",
    "t = np.zeros(N+1)\n",
    "t[0]= 0\n",
    "\n",
    "for i in range(1, N+1):\n",
    "    t[i] = t[i-1] + h\n",
    "print('t= ', t)\n",
    "\n",
    "s = np.zeros(len(t))\n",
    "s[0] = 1\n",
    "\n",
    "for i in range(0, len(t) - 1):\n",
    "    s[i + 1] = s[i] + h* s[i]\n",
    "\n",
    "Actual_V = np.zeros(len(t)+1)\n",
    "Abs_err = np.zeros(len(t)+1)\n",
    "\n",
    "for i in range(len(t)):\n",
    "    Actual_V[i] = math.exp(t[i])\n",
    "    Abs_err[i] = Actual_V[i] - s[i] \n",
    "\n",
    "    print(Actual_V[i],'    ',Abs_err[i])\n",
    "\n",
    "\n",
    "plt.figure(figsize = (12, 8))\n",
    "plt.plot(t, log(error))\n",
    "plt.xlabel('t')\n",
    "plt.ylabel('f(t)')\n",
    "plt.grid()\n",
    "plt.show()"
   ]
  },
  {
   "cell_type": "code",
   "execution_count": null,
   "metadata": {},
   "outputs": [],
   "source": []
  },
  {
   "cell_type": "code",
   "execution_count": 55,
   "metadata": {},
   "outputs": [
    {
     "name": "stdout",
     "output_type": "stream",
     "text": [
      "Enter initial conditions:\n",
      "x0 = 1\n",
      "y0 = 2\n",
      "Enter calculation point: \n",
      "xn = 2\n",
      "Enter number of steps:\n",
      "Number of steps = 2\n",
      "\n",
      "-----------SOLUTION-----------\n",
      "------------------------------\n",
      "t0\tx0\tslope\txn\n",
      "------------------------------\n",
      "1.0000\t2.0000\t0.0000\t1.0000\n",
      "------------------------------\n",
      "1.5000\t1.0000\t0.0000\t1.5000\n",
      "------------------------------\n",
      "\n",
      "At x=2.0000, y=1.5000\n"
     ]
    }
   ],
   "source": [
    "# Euler method python program\n",
    "\n",
    "# function to be solved\n",
    "def f(t,x):\n",
    "    return x\n",
    "\n",
    "# or\n",
    "# f = lambda x: x+y\n",
    "\n",
    "# Euler method\n",
    "def euler(t0,x0,tn,n):\n",
    "    \n",
    "    # Calculating step size\n",
    "    h = 1/n\n",
    "    \n",
    "    print('\\n-----------SOLUTION-----------')\n",
    "    print('------------------------------')    \n",
    "    print('t0\\tx0\\tslope\\txn')\n",
    "    print('------------------------------')\n",
    "    for i in range(n):\n",
    "        slope = f(x0, 0)\n",
    "        xn = t0 + h * slope\n",
    "        print('%.4f\\t%.4f\\t%0.4f\\t%.4f'% (t0,x0,slope,xn) )\n",
    "        print('------------------------------')\n",
    "        x0 = xn\n",
    "        t0 = t0+h\n",
    "    \n",
    "    print('\\nAt x=%.4f, y=%.4f' %(tn,xn))\n",
    "\n",
    "# Inputs\n",
    "print('Enter initial conditions:')\n",
    "t0 = float(input('x0 = '))\n",
    "x0 = float(input('y0 = '))\n",
    "\n",
    "print('Enter calculation point: ')\n",
    "tn = float(input('xn = '))\n",
    "\n",
    "print('Enter number of steps:')\n",
    "step = int(input('Number of steps = '))\n",
    "\n",
    "# Euler method call\n",
    "euler(t0,x0,tn,step)\n"
   ]
  },
  {
   "cell_type": "code",
   "execution_count": null,
   "metadata": {},
   "outputs": [],
   "source": []
  },
  {
   "cell_type": "code",
   "execution_count": 61,
   "metadata": {},
   "outputs": [
    {
     "name": "stdout",
     "output_type": "stream",
     "text": [
      "Enter initial conditions:\n",
      "t0 = 0\n",
      "x0 = 1\n",
      "Enter calculation point: \n",
      "tn = 10\n",
      "Enter number of steps:\n",
      "Number of steps = 10\n",
      "\n",
      "-----------SOLUTION-----------\n",
      "------------------------------\n",
      "t0\tx0\tslope\txn\n",
      "------------------------------\n",
      "0.0000\t1.0000\t1.0000\t0.1000\n",
      "------------------------------\n",
      "0.1000\t0.1000\t0.1000\t0.1100\n",
      "------------------------------\n",
      "0.2000\t0.1100\t0.1100\t0.2110\n",
      "------------------------------\n",
      "0.3000\t0.2110\t0.2110\t0.3211\n",
      "------------------------------\n",
      "0.4000\t0.3211\t0.3211\t0.4321\n",
      "------------------------------\n",
      "0.5000\t0.4321\t0.4321\t0.5432\n",
      "------------------------------\n",
      "0.6000\t0.5432\t0.5432\t0.6543\n",
      "------------------------------\n",
      "0.7000\t0.6543\t0.6543\t0.7654\n",
      "------------------------------\n",
      "0.8000\t0.7654\t0.7654\t0.8765\n",
      "------------------------------\n",
      "0.9000\t0.8765\t0.8765\t0.9877\n",
      "------------------------------\n",
      "\n",
      "At x=10.0000, y=0.9877\n"
     ]
    }
   ],
   "source": [
    "# Euler method python program\n",
    "\n",
    "# function to be solved\n",
    "def f(t,x):\n",
    "    return x\n",
    "\n",
    "# or\n",
    "# f = lambda x: x+y\n",
    "\n",
    "# Euler method\n",
    "def euler(t0,x0,tn,n):\n",
    "    \n",
    "    # Calculating step size\n",
    "    h = 1/n\n",
    "    \n",
    "    print('\\n-----------SOLUTION-----------')\n",
    "    print('------------------------------')    \n",
    "    print('t0\\tx0\\tslope\\txn')\n",
    "    print('------------------------------')\n",
    "    for i in range(n):\n",
    "        slope = f(t0, x0)\n",
    "        xn = t0 + h * slope\n",
    "        print('%.4f\\t%.4f\\t%0.4f\\t%.4f'% (t0,x0,slope,xn) )\n",
    "        print('------------------------------')\n",
    "        x0 = xn\n",
    "        t0 = t0+h\n",
    "    \n",
    "    print('\\nAt x=%.4f, y=%.4f' %(tn,xn))\n",
    "\n",
    "# Inputs\n",
    "print('Enter initial conditions:')\n",
    "t0 = float(input('t0 = '))\n",
    "x0 = float(input('x0 = '))\n",
    "\n",
    "print('Enter calculation point: ')\n",
    "tn = float(input('tn = '))\n",
    "\n",
    "print('Enter number of steps:')\n",
    "step = int(input('Number of steps = '))\n",
    "\n",
    "# Euler method call\n",
    "euler(t0,x0,tn,step)\n"
   ]
  },
  {
   "cell_type": "code",
   "execution_count": null,
   "metadata": {},
   "outputs": [],
   "source": []
  },
  {
   "cell_type": "code",
   "execution_count": 67,
   "metadata": {},
   "outputs": [
    {
     "name": "stdout",
     "output_type": "stream",
     "text": [
      "The value of y at x is: 1.092687060940133\n"
     ]
    }
   ],
   "source": [
    "# Python program to implement Runge Kutta method\n",
    "# A sample differential equation \"dy / dx = (x - y)/2\"\n",
    "def dxdt(t,x):\n",
    "    return (x)\n",
    " \n",
    "# Finds value of y for a given x using step size h\n",
    "# and initial value y0 at x0.\n",
    "def rungeKutta(t0, x0, t, h):\n",
    "    # Count number of iterations using step size or\n",
    "    # step height h\n",
    "    n = int((t - t0)/h)\n",
    "    # Iterate for number of iterations\n",
    "    x = x0\n",
    "    for i in range(1, n + 1):\n",
    "        \"Apply Runge Kutta Formulas to find next value of y\"\n",
    "        k1 = h * dydx(t0, y)\n",
    "        k2 = h * dydx(t0 + 0.5 * h, x + 0.5 * k1)\n",
    "        k3 = h * dydx(t0 + 0.5 * h, x + 0.5 * k2)\n",
    "        k4 = h * dydx(t0 + h, x + k3)\n",
    " \n",
    "        # Update next value of y\n",
    "        x = x + (1.0 / 6.0)*(k1 + 2 * k2 + 2 * k3 + k4)\n",
    " \n",
    "        # Update next value of x\n",
    "        t0 = t0 + h\n",
    "    return x\n",
    " \n",
    "# Driver method\n",
    "t0 = 0\n",
    "x = 1\n",
    "t = 2\n",
    "h = 0.2\n",
    "print ('The value of y at x is:', rungeKutta(t0, x, t, h))\n",
    " "
   ]
  },
  {
   "cell_type": "code",
   "execution_count": null,
   "metadata": {},
   "outputs": [],
   "source": []
  }
 ],
 "metadata": {
  "kernelspec": {
   "display_name": "Python 3",
   "language": "python",
   "name": "python3"
  },
  "language_info": {
   "codemirror_mode": {
    "name": "ipython",
    "version": 3
   },
   "file_extension": ".py",
   "mimetype": "text/x-python",
   "name": "python",
   "nbconvert_exporter": "python",
   "pygments_lexer": "ipython3",
   "version": "3.7.3"
  }
 },
 "nbformat": 4,
 "nbformat_minor": 2
}
