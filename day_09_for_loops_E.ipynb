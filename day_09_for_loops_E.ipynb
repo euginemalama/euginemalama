{
 "cells": [
  {
   "cell_type": "code",
   "execution_count": 1,
   "metadata": {},
   "outputs": [],
   "source": [
    "import numpy as np \n",
    "import matplotlib.pyplot as plt"
   ]
  },
  {
   "cell_type": "code",
   "execution_count": 2,
   "metadata": {},
   "outputs": [],
   "source": [
    "#for looops \n",
    "\n"
   ]
  },
  {
   "cell_type": "code",
   "execution_count": 3,
   "metadata": {},
   "outputs": [],
   "source": [
    "N=101\n",
    "#declare+ initialize our array\n",
    "x=np.linspace(-2,2,N)"
   ]
  },
  {
   "cell_type": "code",
   "execution_count": 4,
   "metadata": {},
   "outputs": [
    {
     "data": {
      "text/plain": [
       "array([-2.  , -1.96, -1.92, -1.88, -1.84, -1.8 , -1.76, -1.72, -1.68,\n",
       "       -1.64, -1.6 , -1.56, -1.52, -1.48, -1.44, -1.4 , -1.36, -1.32,\n",
       "       -1.28, -1.24, -1.2 , -1.16, -1.12, -1.08, -1.04, -1.  , -0.96,\n",
       "       -0.92, -0.88, -0.84, -0.8 , -0.76, -0.72, -0.68, -0.64, -0.6 ,\n",
       "       -0.56, -0.52, -0.48, -0.44, -0.4 , -0.36, -0.32, -0.28, -0.24,\n",
       "       -0.2 , -0.16, -0.12, -0.08, -0.04,  0.  ,  0.04,  0.08,  0.12,\n",
       "        0.16,  0.2 ,  0.24,  0.28,  0.32,  0.36,  0.4 ,  0.44,  0.48,\n",
       "        0.52,  0.56,  0.6 ,  0.64,  0.68,  0.72,  0.76,  0.8 ,  0.84,\n",
       "        0.88,  0.92,  0.96,  1.  ,  1.04,  1.08,  1.12,  1.16,  1.2 ,\n",
       "        1.24,  1.28,  1.32,  1.36,  1.4 ,  1.44,  1.48,  1.52,  1.56,\n",
       "        1.6 ,  1.64,  1.68,  1.72,  1.76,  1.8 ,  1.84,  1.88,  1.92,\n",
       "        1.96,  2.  ])"
      ]
     },
     "execution_count": 4,
     "metadata": {},
     "output_type": "execute_result"
    }
   ],
   "source": [
    "x"
   ]
  },
  {
   "cell_type": "code",
   "execution_count": 6,
   "metadata": {},
   "outputs": [
    {
     "name": "stdout",
     "output_type": "stream",
     "text": [
      "[0. 0. 0. 0. 0. 0. 0. 0. 0. 0. 0. 0. 0. 0. 0. 0. 0. 0. 0. 0. 0. 0. 0. 0.\n",
      " 0. 0. 0. 0. 0. 0. 0. 0. 0. 0. 0. 0. 0. 0. 0. 0. 0. 0. 0. 0. 0. 0. 0. 0.\n",
      " 0. 0. 0. 0. 0. 0. 0. 0. 0. 0. 0. 0. 0. 0. 0. 0. 0. 0. 0. 0. 0. 0. 0. 0.\n",
      " 0. 0. 0. 0. 0. 0. 0. 0. 0. 0. 0. 0. 0. 0. 0. 0. 0. 0. 0. 0. 0. 0. 0. 0.\n",
      " 0. 0. 0. 0. 0.]\n"
     ]
    }
   ],
   "source": [
    "N=101\n",
    "#declare+ initialize our array\n",
    "x=np.linspace(-2,2,N)\n",
    "y=np.zeros(N)\n",
    "\n",
    "print(y)"
   ]
  },
  {
   "cell_type": "code",
   "execution_count": 8,
   "metadata": {},
   "outputs": [
    {
     "name": "stdout",
     "output_type": "stream",
     "text": [
      "0 -2.0 4.0\n",
      "1 -1.96 3.8415999999999997\n",
      "2 -1.92 3.6864\n",
      "3 -1.88 3.5343999999999998\n",
      "4 -1.84 3.3856\n",
      "5 -1.8 3.24\n",
      "6 -1.76 3.0976\n",
      "7 -1.72 2.9583999999999997\n",
      "8 -1.68 2.8223999999999996\n",
      "9 -1.6400000000000001 2.6896000000000004\n",
      "10 -1.6 2.5600000000000005\n",
      "11 -1.56 2.4336\n",
      "12 -1.52 2.3104\n",
      "13 -1.48 2.1904\n",
      "14 -1.44 2.0736\n",
      "15 -1.4 1.9599999999999997\n",
      "16 -1.3599999999999999 1.8495999999999997\n",
      "17 -1.3199999999999998 1.7423999999999995\n",
      "18 -1.28 1.6384\n",
      "19 -1.24 1.5376\n",
      "20 -1.2 1.44\n",
      "21 -1.1600000000000001 1.3456000000000004\n",
      "22 -1.12 1.2544000000000002\n",
      "23 -1.08 1.1664\n",
      "24 -1.04 1.0816000000000001\n",
      "25 -1.0 1.0\n",
      "26 -0.96 0.9216\n",
      "27 -0.9199999999999999 0.8463999999999998\n",
      "28 -0.8799999999999999 0.7743999999999999\n",
      "29 -0.8400000000000001 0.7056000000000001\n",
      "30 -0.8 0.6400000000000001\n",
      "31 -0.76 0.5776\n",
      "32 -0.72 0.5184\n",
      "33 -0.6799999999999999 0.4623999999999999\n",
      "34 -0.6399999999999999 0.40959999999999985\n",
      "35 -0.5999999999999999 0.3599999999999998\n",
      "36 -0.56 0.31360000000000005\n",
      "37 -0.52 0.27040000000000003\n",
      "38 -0.48 0.2304\n",
      "39 -0.43999999999999995 0.19359999999999997\n",
      "40 -0.3999999999999999 0.15999999999999992\n",
      "41 -0.3599999999999999 0.1295999999999999\n",
      "42 -0.32000000000000006 0.10240000000000005\n",
      "43 -0.28 0.07840000000000001\n",
      "44 -0.24 0.0576\n",
      "45 -0.19999999999999996 0.03999999999999998\n",
      "46 -0.15999999999999992 0.025599999999999973\n",
      "47 -0.11999999999999988 0.014399999999999972\n",
      "48 -0.08000000000000007 0.006400000000000012\n",
      "49 -0.040000000000000036 0.001600000000000003\n",
      "50 0.0 0.0\n",
      "51 0.040000000000000036 0.001600000000000003\n",
      "52 0.08000000000000007 0.006400000000000012\n",
      "53 0.1200000000000001 0.014400000000000026\n",
      "54 0.16000000000000014 0.025600000000000046\n",
      "55 0.20000000000000018 0.04000000000000007\n",
      "56 0.2400000000000002 0.0576000000000001\n",
      "57 0.28000000000000025 0.07840000000000014\n",
      "58 0.31999999999999984 0.1023999999999999\n",
      "59 0.3599999999999999 0.1295999999999999\n",
      "60 0.3999999999999999 0.15999999999999992\n",
      "61 0.43999999999999995 0.19359999999999997\n",
      "62 0.48 0.2304\n",
      "63 0.52 0.27040000000000003\n",
      "64 0.56 0.31360000000000005\n",
      "65 0.6000000000000001 0.3600000000000001\n",
      "66 0.6400000000000001 0.4096000000000002\n",
      "67 0.6800000000000002 0.4624000000000002\n",
      "68 0.7200000000000002 0.5184000000000003\n",
      "69 0.7600000000000002 0.5776000000000003\n",
      "70 0.8000000000000003 0.6400000000000005\n",
      "71 0.8399999999999999 0.7055999999999998\n",
      "72 0.8799999999999999 0.7743999999999999\n",
      "73 0.9199999999999999 0.8463999999999998\n",
      "74 0.96 0.9216\n",
      "75 1.0 1.0\n",
      "76 1.04 1.0816000000000001\n",
      "77 1.08 1.1664\n",
      "78 1.12 1.2544000000000002\n",
      "79 1.1600000000000001 1.3456000000000004\n",
      "80 1.2000000000000002 1.4400000000000004\n",
      "81 1.2400000000000002 1.5376000000000005\n",
      "82 1.2800000000000002 1.6384000000000007\n",
      "83 1.3200000000000003 1.7424000000000008\n",
      "84 1.3599999999999999 1.8495999999999997\n",
      "85 1.4 1.9599999999999997\n",
      "86 1.44 2.0736\n",
      "87 1.48 2.1904\n",
      "88 1.52 2.3104\n",
      "89 1.56 2.4336\n",
      "90 1.6 2.5600000000000005\n",
      "91 1.6400000000000001 2.6896000000000004\n",
      "92 1.6800000000000002 2.8224000000000005\n",
      "93 1.7200000000000002 2.9584000000000006\n",
      "94 1.7600000000000002 3.097600000000001\n",
      "95 1.8000000000000003 3.240000000000001\n",
      "96 1.8399999999999999 3.3855999999999993\n",
      "97 1.88 3.5343999999999998\n",
      "98 1.92 3.6864\n",
      "99 1.96 3.8415999999999997\n",
      "100 2.0 4.0\n"
     ]
    }
   ],
   "source": [
    "N=101\n",
    "#declare+ initialize our array\n",
    "x=np.linspace(-2,2,N)\n",
    "y=np.zeros(N)\n",
    "\n",
    "#calculate y-value\n",
    "for i in range(N):\n",
    "    y[i] = x[i]*x[i]\n",
    "    print(i,x[i],y[i])\n"
   ]
  },
  {
   "cell_type": "code",
   "execution_count": 18,
   "metadata": {},
   "outputs": [
    {
     "data": {
      "image/png": "[encoded data removed]",
      "text/plain": [
       "<Figure size 432x288 with 1 Axes>"
      ]
     },
     "metadata": {
      "needs_background": "light"
     },
     "output_type": "display_data"
    }
   ],
   "source": [
    "plt.plot(x,y, 'green',lw=5)\n",
    "plt.plot(y,x,'red')\n",
    "plt.show()"
   ]
  },
  {
   "cell_type": "code",
   "execution_count": 28,
   "metadata": {},
   "outputs": [
    {
     "name": "stdout",
     "output_type": "stream",
     "text": [
      "T\n",
      "o\n",
      "d\n",
      "a\n",
      "y\n",
      " \n",
      "i\n",
      "s\n",
      " \n",
      "T\n",
      "h\n",
      "u\n",
      "r\n",
      "s\n",
      "d\n",
      "a\n",
      "y\n",
      " \n"
     ]
    }
   ],
   "source": [
    "#we can ose any odered collection as our interable\n",
    "example='Today is Thursday '\n",
    "for x in example:\n",
    "        print(x)"
   ]
  },
  {
   "cell_type": "code",
   "execution_count": 29,
   "metadata": {},
   "outputs": [
    {
     "name": "stdout",
     "output_type": "stream",
     "text": [
      "T\n",
      "T\n"
     ]
    }
   ],
   "source": [
    "#we can ose any odered collection as our interable\n",
    "#note:\n",
    "example='Today is Thursday '\n",
    "for x in example:\n",
    "    if x=='T'   :\n",
    "        print(x)"
   ]
  },
  {
   "cell_type": "code",
   "execution_count": 30,
   "metadata": {},
   "outputs": [],
   "source": [
    "#what is the ssquare of the first 50 integer\n",
    "\n"
   ]
  },
  {
   "cell_type": "markdown",
   "metadata": {},
   "source": [
    "N=50\n",
    "\n",
    "$ i^2$, for $i=0,...,N-1$\n"
   ]
  },
  {
   "cell_type": "code",
   "execution_count": 34,
   "metadata": {},
   "outputs": [
    {
     "name": "stdout",
     "output_type": "stream",
     "text": [
      "0 0\n",
      "1 1\n",
      "2 4\n",
      "3 9\n",
      "4 16\n",
      "5 25\n",
      "6 36\n",
      "7 49\n",
      "8 64\n",
      "9 81\n",
      "10 100\n",
      "11 121\n",
      "12 144\n",
      "13 169\n",
      "14 196\n",
      "15 225\n",
      "16 256\n",
      "17 289\n",
      "18 324\n",
      "19 361\n",
      "20 400\n",
      "21 441\n",
      "22 484\n",
      "23 529\n",
      "24 576\n",
      "25 625\n",
      "26 676\n",
      "27 729\n",
      "28 784\n",
      "29 841\n",
      "30 900\n",
      "31 961\n",
      "32 1024\n",
      "33 1089\n",
      "34 1156\n",
      "35 1225\n",
      "36 1296\n",
      "37 1369\n",
      "38 1444\n",
      "39 1521\n",
      "40 1600\n",
      "41 1681\n",
      "42 1764\n",
      "43 1849\n",
      "44 1936\n",
      "45 2025\n",
      "46 2116\n",
      "47 2209\n",
      "48 2304\n",
      "49 2401\n"
     ]
    }
   ],
   "source": [
    "\n",
    "for i in range(N):\n",
    "    print(i,i**2)"
   ]
  },
  {
   "cell_type": "markdown",
   "metadata": {},
   "source": [
    "N=50\n",
    "\n",
    "$ i^2$, for $i=0,...,N$\n"
   ]
  },
  {
   "cell_type": "code",
   "execution_count": 36,
   "metadata": {},
   "outputs": [
    {
     "name": "stdout",
     "output_type": "stream",
     "text": [
      "1 1\n",
      "2 4\n",
      "3 9\n",
      "4 16\n",
      "5 25\n",
      "6 36\n",
      "7 49\n",
      "8 64\n",
      "9 81\n",
      "10 100\n",
      "11 121\n",
      "12 144\n",
      "13 169\n",
      "14 196\n",
      "15 225\n",
      "16 256\n",
      "17 289\n",
      "18 324\n",
      "19 361\n",
      "20 400\n",
      "21 441\n",
      "22 484\n",
      "23 529\n",
      "24 576\n",
      "25 625\n",
      "26 676\n",
      "27 729\n",
      "28 784\n",
      "29 841\n",
      "30 900\n",
      "31 961\n",
      "32 1024\n",
      "33 1089\n",
      "34 1156\n",
      "35 1225\n",
      "36 1296\n",
      "37 1369\n",
      "38 1444\n",
      "39 1521\n",
      "40 1600\n",
      "41 1681\n",
      "42 1764\n",
      "43 1849\n",
      "44 1936\n",
      "45 2025\n",
      "46 2116\n",
      "47 2209\n",
      "48 2304\n",
      "49 2401\n",
      "50 2500\n"
     ]
    }
   ],
   "source": [
    "N=50\n",
    "for i in range(1,N+1):\n",
    "    print(i,i**2)"
   ]
  },
  {
   "cell_type": "markdown",
   "metadata": {},
   "source": [
    "N=50\n",
    "\n",
    "$ (i+1)^2$, for $i=0,...,N$\n"
   ]
  },
  {
   "cell_type": "code",
   "execution_count": 37,
   "metadata": {},
   "outputs": [
    {
     "name": "stdout",
     "output_type": "stream",
     "text": [
      "1 4\n",
      "2 9\n",
      "3 16\n",
      "4 25\n",
      "5 36\n",
      "6 49\n",
      "7 64\n",
      "8 81\n",
      "9 100\n",
      "10 121\n",
      "11 144\n",
      "12 169\n",
      "13 196\n",
      "14 225\n",
      "15 256\n",
      "16 289\n",
      "17 324\n",
      "18 361\n",
      "19 400\n",
      "20 441\n",
      "21 484\n",
      "22 529\n",
      "23 576\n",
      "24 625\n",
      "25 676\n",
      "26 729\n",
      "27 784\n",
      "28 841\n",
      "29 900\n",
      "30 961\n",
      "31 1024\n",
      "32 1089\n",
      "33 1156\n",
      "34 1225\n",
      "35 1296\n",
      "36 1369\n",
      "37 1444\n",
      "38 1521\n",
      "39 1600\n",
      "40 1681\n",
      "41 1764\n",
      "42 1849\n",
      "43 1936\n",
      "44 2025\n",
      "45 2116\n",
      "46 2209\n",
      "47 2304\n",
      "48 2401\n",
      "49 2500\n",
      "50 2601\n"
     ]
    }
   ],
   "source": [
    "N=50\n",
    "for i in range(1,N+1):\n",
    "    print(i,(i+1)**2)"
   ]
  },
  {
   "cell_type": "markdown",
   "metadata": {},
   "source": [
    "$b_k=k^2-4k+2$, for   $0<k<8$"
   ]
  },
  {
   "cell_type": "code",
   "execution_count": 48,
   "metadata": {},
   "outputs": [
    {
     "name": "stdout",
     "output_type": "stream",
     "text": [
      "[ 2 -1 -2 -1  2  7 14 23]\n"
     ]
    }
   ],
   "source": [
    "N=8\n",
    "b=np.zeros(N, dtype=int)\n",
    "\n",
    "for k in range(N):\n",
    "    b[k]=k**2-4*k+2\n",
    "print(b)"
   ]
  },
  {
   "cell_type": "code",
   "execution_count": 49,
   "metadata": {},
   "outputs": [
    {
     "data": {
      "image/png": "[encoded data removed]",
      "text/plain": [
       "<Figure size 432x288 with 1 Axes>"
      ]
     },
     "metadata": {
      "needs_background": "light"
     },
     "output_type": "display_data"
    }
   ],
   "source": [
    "plt.plot(b)\n",
    "plt.show()"
   ]
  },
  {
   "cell_type": "code",
   "execution_count": 70,
   "metadata": {},
   "outputs": [
    {
     "name": "stdout",
     "output_type": "stream",
     "text": [
      "[   1    1    2    3    5    8   13   21   34   55   89  144  233  377\n",
      "  610  987 1597 2584 4181 6765]\n"
     ]
    }
   ],
   "source": [
    "#what are the first 20 numbers in the Fibonacci sequence?\n",
    "\n",
    "N=20\n",
    "a=np.ones(N, dtype=int)\n",
    "\n",
    "#ICs\n",
    "a[0]=1\n",
    "a[1]=1\n",
    "\n",
    "for n in range(2,N):\n",
    "    a[n]=a[n-1]+a[n-2]\n",
    "print(a)\n"
   ]
  },
  {
   "cell_type": "code",
   "execution_count": null,
   "metadata": {},
   "outputs": [],
   "source": []
  }
 ],
 "metadata": {
  "kernelspec": {
   "display_name": "Python 3",
   "language": "python",
   "name": "python3"
  },
  "language_info": {
   "codemirror_mode": {
    "name": "ipython",
    "version": 3
   },
   "file_extension": ".py",
   "mimetype": "text/x-python",
   "name": "python",
   "nbconvert_exporter": "python",
   "pygments_lexer": "ipython3",
   "version": "3.7.3"
  }
 },
 "nbformat": 4,
 "nbformat_minor": 2
}
