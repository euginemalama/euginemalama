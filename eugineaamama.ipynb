{
 "cells": [
  {
   "cell_type": "code",
   "execution_count": 2,
   "metadata": {},
   "outputs": [
    {
     "data": {
      "image/png": "[encoded data removed]",
      "text/plain": [
       "<Figure size 432x288 with 1 Axes>"
      ]
     },
     "metadata": {
      "needs_background": "light"
     },
     "output_type": "display_data"
    },
    {
     "name": "stdout",
     "output_type": "stream",
     "text": [
      "Number of steps  =  10\n",
      "Final value of t =  0.9999999999999999\n",
      "Final value of x =  2.5937424601\n"
     ]
    },
    {
     "data": {
      "image/png": "[encoded data removed]",
      "text/plain": [
       "<Figure size 432x288 with 1 Axes>"
      ]
     },
     "metadata": {
      "needs_background": "light"
     },
     "output_type": "display_data"
    },
    {
     "name": "stdout",
     "output_type": "stream",
     "text": [
      "Number of steps  =  100\n",
      "Final value of t =  1.0000000000000007\n",
      "Final value of x =  2.704813829421526\n"
     ]
    }
   ],
   "source": [
    "import numpy as np\n",
    "import matplotlib.pyplot as plt\n",
    "\n",
    "plt.ion()\n",
    "\n",
    "def solveODE(fSpec,x0,dt,tmax):\n",
    "       f = eval(\"lambda x,t:\" + fSpec)\n",
    "       t,x = 0.0,x0\n",
    "       xk = [x0]\n",
    "       tk = [0.0]\n",
    "       while t < tmax - dt/2 :\n",
    "           x += dt*f(x,t)\n",
    "           t += dt\n",
    "           tk.append(t)\n",
    "           xk.append(x)\n",
    "       plt.plot(tk,xk,'r.',markersize=4)\n",
    "       plt.xlim(0.0,tmax*1.05)\n",
    "       plt.show()\n",
    "       plt.pause(0.001)\n",
    "       print(\"Number of steps  = \",len(tk)-1)\n",
    "       print(\"Final value of t = \",tk[-1])\n",
    "       print(\"Final value of x = \",xk[-1])\n",
    "solveODE('x',1,1/10,1)\n",
    "solveODE('x',1,1/100,1)"
   ]
  },
  {
   "cell_type": "code",
   "execution_count": 4,
   "metadata": {},
   "outputs": [
    {
     "data": {
      "image/png": "[encoded data removed]",
      "text/plain": [
       "<Figure size 432x288 with 1 Axes>"
      ]
     },
     "metadata": {
      "needs_background": "light"
     },
     "output_type": "display_data"
    },
    {
     "name": "stdout",
     "output_type": "stream",
     "text": [
      "Number of steps  =  10\n",
      "Final value of t =  0.9999999999999999\n",
      "Final value of x =  2.714080846608224\n"
     ]
    }
   ],
   "source": [
    "import numpy as np\n",
    "import matplotlib.pyplot as plt\n",
    "\n",
    "plt.ion()\n",
    "\n",
    "def solveODE(fSp,x0,dt,t1):\n",
    "       f = eval(\"lambda x,t:\" + fSp)\n",
    "       t,x = 0.0,x0\n",
    "       xk = [x0]\n",
    "       tk = [0.0]\n",
    "       while t < t1 - dt/2 :\n",
    "           c=dt*f(x,t)\n",
    "           d= dt*f(x+c/2,t+dt/2)\n",
    "           x += d\n",
    "           t += dt\n",
    "           tk.append(t)\n",
    "           xk.append(x)\n",
    "       plt.plot(tk,xk,'m:*',markersize=4)\n",
    "       plt.title('x VS t')\n",
    "       plt.xlabel('t_values')\n",
    "       plt.ylabel('x_values')\n",
    "       plt.xlim(0.0,t1*1.05)\n",
    "       plt.show()\n",
    "       plt.pause(0.001)\n",
    "       print(\"Number of steps  = \",len(tk)-1)\n",
    "       print(\"Final value of t = \",tk[-1])\n",
    "       print(\"Final value of x = \",xk[-1])\n",
    "solveODE('x',1,1/10,1)"
   ]
  },
  {
   "cell_type": "code",
   "execution_count": null,
   "metadata": {},
   "outputs": [],
   "source": []
  }
 ],
 "metadata": {
  "kernelspec": {
   "display_name": "Python 3",
   "language": "python",
   "name": "python3"
  },
  "language_info": {
   "codemirror_mode": {
    "name": "ipython",
    "version": 3
   },
   "file_extension": ".py",
   "mimetype": "text/x-python",
   "name": "python",
   "nbconvert_exporter": "python",
   "pygments_lexer": "ipython3",
   "version": "3.7.3"
  }
 },
 "nbformat": 4,
 "nbformat_minor": 2
}
