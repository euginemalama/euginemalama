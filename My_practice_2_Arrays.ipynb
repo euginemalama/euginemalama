{
 "cells": [
  {
   "cell_type": "code",
   "execution_count": 7,
   "metadata": {},
   "outputs": [
    {
     "name": "stdout",
     "output_type": "stream",
     "text": [
      "[4 5 6]\n"
     ]
    }
   ],
   "source": [
    "#Arrays, indexing \n",
    "\n",
    "import numpy as np\n",
    "\n",
    "#NUMBER ONE\n",
    "v=np.array([4,5,6]) #array of known values\n",
    "v\n",
    "print(v)"
   ]
  },
  {
   "cell_type": "code",
   "execution_count": 6,
   "metadata": {},
   "outputs": [
    {
     "data": {
      "text/plain": [
       "4"
      ]
     },
     "execution_count": 6,
     "metadata": {},
     "output_type": "execute_result"
    }
   ],
   "source": [
    "v[0]"
   ]
  },
  {
   "cell_type": "code",
   "execution_count": 8,
   "metadata": {},
   "outputs": [
    {
     "data": {
      "text/plain": [
       "numpy.ndarray"
      ]
     },
     "execution_count": 8,
     "metadata": {},
     "output_type": "execute_result"
    }
   ],
   "source": [
    "type(v)"
   ]
  },
  {
   "cell_type": "code",
   "execution_count": 11,
   "metadata": {},
   "outputs": [
    {
     "data": {
      "text/plain": [
       "numpy.int64"
      ]
     },
     "execution_count": 11,
     "metadata": {},
     "output_type": "execute_result"
    }
   ],
   "source": [
    "type(v[0])"
   ]
  },
  {
   "cell_type": "code",
   "execution_count": 12,
   "metadata": {},
   "outputs": [],
   "source": [
    "v[0]=-100"
   ]
  },
  {
   "cell_type": "code",
   "execution_count": 13,
   "metadata": {},
   "outputs": [
    {
     "data": {
      "text/plain": [
       "array([-100,    5,    6])"
      ]
     },
     "execution_count": 13,
     "metadata": {},
     "output_type": "execute_result"
    }
   ],
   "source": [
    "v"
   ]
  },
  {
   "cell_type": "code",
   "execution_count": 16,
   "metadata": {},
   "outputs": [],
   "source": [
    "v[1]=99.99"
   ]
  },
  {
   "cell_type": "code",
   "execution_count": 17,
   "metadata": {},
   "outputs": [
    {
     "data": {
      "text/plain": [
       "array([-100,   99,    6])"
      ]
     },
     "execution_count": 17,
     "metadata": {},
     "output_type": "execute_result"
    }
   ],
   "source": [
    "v"
   ]
  },
  {
   "cell_type": "code",
   "execution_count": 18,
   "metadata": {},
   "outputs": [
    {
     "data": {
      "text/plain": [
       "3"
      ]
     },
     "execution_count": 18,
     "metadata": {},
     "output_type": "execute_result"
    }
   ],
   "source": [
    "\n",
    "len(v)"
   ]
  },
  {
   "cell_type": "code",
   "execution_count": 19,
   "metadata": {},
   "outputs": [
    {
     "data": {
      "text/plain": [
       "numpy.int64"
      ]
     },
     "execution_count": 19,
     "metadata": {},
     "output_type": "execute_result"
    }
   ],
   "source": [
    "type(v[2])"
   ]
  },
  {
   "cell_type": "code",
   "execution_count": 21,
   "metadata": {},
   "outputs": [
    {
     "data": {
      "text/plain": [
       "array([0., 0., 0., 0., 0., 0.])"
      ]
     },
     "execution_count": 21,
     "metadata": {},
     "output_type": "execute_result"
    }
   ],
   "source": [
    "#NUMBER TWO\n",
    "\n",
    "z=np.zeros(6)\n",
    "z"
   ]
  },
  {
   "cell_type": "code",
   "execution_count": 22,
   "metadata": {},
   "outputs": [
    {
     "data": {
      "text/plain": [
       "6"
      ]
     },
     "execution_count": 22,
     "metadata": {},
     "output_type": "execute_result"
    }
   ],
   "source": [
    "len(z)"
   ]
  },
  {
   "cell_type": "code",
   "execution_count": 29,
   "metadata": {},
   "outputs": [
    {
     "data": {
      "text/plain": [
       "array([False, False, False, False, False, False, False, False, False])"
      ]
     },
     "execution_count": 29,
     "metadata": {},
     "output_type": "execute_result"
    }
   ],
   "source": [
    "x=np.zeros(9, dtype=bool)\n",
    "x"
   ]
  },
  {
   "cell_type": "code",
   "execution_count": 30,
   "metadata": {},
   "outputs": [
    {
     "data": {
      "text/plain": [
       "array([0.+0.j, 0.+0.j, 0.+0.j, 0.+0.j, 0.+0.j, 0.+0.j, 0.+0.j, 0.+0.j,\n",
       "       0.+0.j])"
      ]
     },
     "execution_count": 30,
     "metadata": {},
     "output_type": "execute_result"
    }
   ],
   "source": [
    "p=np.zeros(9, dtype=complex)\n",
    "p"
   ]
  },
  {
   "cell_type": "code",
   "execution_count": 31,
   "metadata": {},
   "outputs": [
    {
     "data": {
      "text/plain": [
       "numpy.ndarray"
      ]
     },
     "execution_count": 31,
     "metadata": {},
     "output_type": "execute_result"
    }
   ],
   "source": [
    "type(z)"
   ]
  },
  {
   "cell_type": "code",
   "execution_count": 32,
   "metadata": {},
   "outputs": [
    {
     "data": {
      "text/plain": [
       "numpy.float64"
      ]
     },
     "execution_count": 32,
     "metadata": {},
     "output_type": "execute_result"
    }
   ],
   "source": [
    "type(z[1])"
   ]
  },
  {
   "cell_type": "code",
   "execution_count": 33,
   "metadata": {},
   "outputs": [
    {
     "name": "stdout",
     "output_type": "stream",
     "text": [
      "[1. 1. 1. 1. 1. 1. 1. 1.]\n",
      "[ True  True  True  True]\n",
      "[1.+0.j 1.+0.j 1.+0.j 1.+0.j 1.+0.j 1.+0.j]\n"
     ]
    }
   ],
   "source": [
    "#NUMBER THREE\n",
    "\n",
    "N1 = np.ones(8)                   # def: dtype=float\n",
    "N2 = np.ones(4, dtype=bool)\n",
    "N3 = np.ones(6, dtype=complex)\n",
    "\n",
    "print(N1)\n",
    "print(N2)\n",
    "print(N3)"
   ]
  },
  {
   "cell_type": "code",
   "execution_count": 34,
   "metadata": {},
   "outputs": [
    {
     "name": "stdout",
     "output_type": "stream",
     "text": [
      "[0 1 2 3 4 5 6 7 8 9]\n",
      "[-4 -3 -2 -1  0  1  2  3  4  5  6  7]\n",
      "[-15 -12  -9  -6  -3   0   3   6   9  12]\n",
      "[-15 -12  -9  -6  -3   0   3   6   9  12]\n"
     ]
    }
   ],
   "source": [
    "D1 = np.arange(10)                          # def: start = 0, step = 1\n",
    "D2 = np.arange(-4, 8)                       # def: step = 1\n",
    "D3 = np.arange(-15, 15, 3)                  # no default\n",
    "D4 = np.arange(start=-15, stop=15, step=3)  # no default, all keyword args\n",
    "print(D1)\n",
    "print(D2)\n",
    "print(D3)\n",
    "print(D4)"
   ]
  },
  {
   "cell_type": "code",
   "execution_count": 37,
   "metadata": {},
   "outputs": [
    {
     "name": "stdout",
     "output_type": "stream",
     "text": [
      "[10.         10.20408163 10.40816327 10.6122449  10.81632653 11.02040816\n",
      " 11.2244898  11.42857143 11.63265306 11.83673469 12.04081633 12.24489796\n",
      " 12.44897959 12.65306122 12.85714286 13.06122449 13.26530612 13.46938776\n",
      " 13.67346939 13.87755102 14.08163265 14.28571429 14.48979592 14.69387755\n",
      " 14.89795918 15.10204082 15.30612245 15.51020408 15.71428571 15.91836735\n",
      " 16.12244898 16.32653061 16.53061224 16.73469388 16.93877551 17.14285714\n",
      " 17.34693878 17.55102041 17.75510204 17.95918367 18.16326531 18.36734694\n",
      " 18.57142857 18.7755102  18.97959184 19.18367347 19.3877551  19.59183673\n",
      " 19.79591837 20.        ]\n",
      "[-2.         -1.91836735 -1.83673469 -1.75510204 -1.67346939 -1.59183673\n",
      " -1.51020408 -1.42857143 -1.34693878 -1.26530612 -1.18367347 -1.10204082\n",
      " -1.02040816 -0.93877551 -0.85714286 -0.7755102  -0.69387755 -0.6122449\n",
      " -0.53061224 -0.44897959 -0.36734694 -0.28571429 -0.20408163 -0.12244898\n",
      " -0.04081633  0.04081633  0.12244898  0.20408163  0.28571429  0.36734694\n",
      "  0.44897959  0.53061224  0.6122449   0.69387755  0.7755102   0.85714286\n",
      "  0.93877551  1.02040816  1.10204082  1.18367347  1.26530612  1.34693878\n",
      "  1.42857143  1.51020408  1.59183673  1.67346939  1.75510204  1.83673469\n",
      "  1.91836735  2.        ]\n",
      "[-2.  -1.6 -1.2 -0.8 -0.4  0.   0.4  0.8  1.2  1.6  2. ]\n"
     ]
    }
   ],
   "source": [
    "#NUMBER FOUR \n",
    "L1 = np.linspace(10, 20)          # use default num value\n",
    "L2 = np.linspace(-2, 2) \n",
    "L3= np.linspace(-2, 2, num=11)   # specify num\n",
    "print(L1)\n",
    "print(L2)\n",
    "print(L3)"
   ]
  },
  {
   "cell_type": "code",
   "execution_count": 43,
   "metadata": {},
   "outputs": [
    {
     "name": "stdout",
     "output_type": "stream",
     "text": [
      "0.204081632653061\n",
      "0.204081632653061\n",
      "0.204081632653061\n"
     ]
    }
   ],
   "source": [
    "# If num = 51, then:\n",
    "#\n",
    "#   step = (20 - 10)/ (51 -1)\n",
    "#        = 10/50\n",
    "#        = 0.2\n",
    "#\n",
    "# ... which seems like a nice round number to me!\n",
    "\n",
    "# The step should be the difference between any two neighboring element\n",
    "# values, by definition.  So, any of the following should work:\n",
    "print(L1[1] - L1[0])\n",
    "print(L1[2] - L1[1])\n",
    "print(L1[18] - L1[17])\n",
    "# ... etc., and similarly for any other array.  We just have to make sure\n",
    "# that the indices we use are within the bounds of the array---so I would\n",
    "# generally pick the first indices in the array (*if* its length is 2 or\n",
    "# greater, which might not always be the case!  We might not have a step\n",
    "# size then to estimate)\n",
    "\n",
    "# Note that there might be tiny, rounding/truncation error differences at\n",
    "# the level of decimal precision.\n"
   ]
  },
  {
   "cell_type": "code",
   "execution_count": 44,
   "metadata": {},
   "outputs": [
    {
     "name": "stdout",
     "output_type": "stream",
     "text": [
      "0.08163265306122458\n"
     ]
    }
   ],
   "source": [
    "print(L2[1] - L2[0])\n",
    "\n",
    "# ... the output of the above is not 0.4, like I expected but instead:\n",
    "# 0.3999999999999999.\n",
    "\n",
    "# The order of difference is 10**-16, which is tiny, and it seems like\n",
    "# a case of floating point error.  Specifically, this might be due to the\n",
    "# fact that Python is using binary numbers internally for calculations (not\n",
    "# decimals, like we use), and we saw earlier that there is not exact binary\n",
    "# representation for 0.1, 0.2, 0.3 and 0.4.  (There is for 0.5, though.)\n",
    "# Again, this is why we wouldn't want to test for exact equality with floats."
   ]
  },
  {
   "cell_type": "code",
   "execution_count": null,
   "metadata": {},
   "outputs": [],
   "source": []
  }
 ],
 "metadata": {
  "kernelspec": {
   "display_name": "Python 3",
   "language": "python",
   "name": "python3"
  },
  "language_info": {
   "codemirror_mode": {
    "name": "ipython",
    "version": 3
   },
   "file_extension": ".py",
   "mimetype": "text/x-python",
   "name": "python",
   "nbconvert_exporter": "python",
   "pygments_lexer": "ipython3",
   "version": "3.7.3"
  }
 },
 "nbformat": 4,
 "nbformat_minor": 2
}
