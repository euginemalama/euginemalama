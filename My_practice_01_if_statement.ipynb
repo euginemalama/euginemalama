{
 "cells": [
  {
   "cell_type": "code",
   "execution_count": 3,
   "metadata": {},
   "outputs": [
    {
     "name": "stdout",
     "output_type": "stream",
     "text": [
      "x lies between 0 and one\n"
     ]
    },
    {
     "data": {
      "text/plain": [
       "4"
      ]
     },
     "execution_count": 3,
     "metadata": {},
     "output_type": "execute_result"
    }
   ],
   "source": [
    "# if statement \n",
    "\n",
    "\n",
    "x = 0.47\n",
    "if 0< x< 1:\n",
    "    print(\"x lies between 0 and one\") \n",
    "y=4\n"
   ]
  },
  {
   "cell_type": "code",
   "execution_count": 4,
   "metadata": {},
   "outputs": [
    {
     "name": "stdout",
     "output_type": "stream",
     "text": [
      "x is between 2 and 100\n",
      "this is my conclusion\n"
     ]
    }
   ],
   "source": [
    "x = 10\n",
    "if x > 2 and x<100:\n",
    "    print(\"x is between 2 and 100\")\n",
    "else : \n",
    "    print(\"x is out of the range\")\n",
    "print(\"this is my conclusion\")"
   ]
  },
  {
   "cell_type": "code",
   "execution_count": 6,
   "metadata": {},
   "outputs": [
    {
     "name": "stdout",
     "output_type": "stream",
     "text": [
      "there is food\n",
      "this is my conclusion\n"
     ]
    }
   ],
   "source": [
    "x = 10\n",
    "if x + 10 > 100:\n",
    "    print(\"no food\")\n",
    "else : \n",
    "    print(\"there is food\")\n",
    "print(\"this is my conclusion\")"
   ]
  },
  {
   "cell_type": "code",
   "execution_count": 20,
   "metadata": {},
   "outputs": [
    {
     "name": "stdout",
     "output_type": "stream",
     "text": [
      "this is amazing\n"
     ]
    }
   ],
   "source": [
    "x = 3\n",
    "if bool(x-3) == True :\n",
    "    print(\"this true\")\n",
    "    \n",
    "elif bool( 5+x) == False:\n",
    "    print(\"second statement is true\")\n",
    "    \n",
    "elif bool(x) == False:\n",
    "    print(\"this is false\")\n",
    "    \n",
    "else:\n",
    "    print(\"this is amazing\")"
   ]
  },
  {
   "cell_type": "code",
   "execution_count": 22,
   "metadata": {},
   "outputs": [
    {
     "ename": "NameError",
     "evalue": "name 'odeint' is not defined",
     "output_type": "error",
     "traceback": [
      "\u001b[0;31m---------------------------------------------------------------------------\u001b[0m",
      "\u001b[0;31mNameError\u001b[0m                                 Traceback (most recent call last)",
      "\u001b[0;32m<ipython-input-22-16335f731864>\u001b[0m in \u001b[0;36m<module>\u001b[0;34m()\u001b[0m\n\u001b[0;32m----> 1\u001b[0;31m \u001b[0mhelp\u001b[0m\u001b[0;34m(\u001b[0m\u001b[0modeint\u001b[0m\u001b[0;34m)\u001b[0m\u001b[0;34m\u001b[0m\u001b[0;34m\u001b[0m\u001b[0m\n\u001b[0m",
      "\u001b[0;31mNameError\u001b[0m: name 'odeint' is not defined"
     ]
    }
   ],
   "source": [
    "\n"
   ]
  },
  {
   "cell_type": "code",
   "execution_count": null,
   "metadata": {},
   "outputs": [],
   "source": []
  }
 ],
 "metadata": {
  "kernelspec": {
   "display_name": "Python 3",
   "language": "python",
   "name": "python3"
  },
  "language_info": {
   "codemirror_mode": {
    "name": "ipython",
    "version": 3
   },
   "file_extension": ".py",
   "mimetype": "text/x-python",
   "name": "python",
   "nbconvert_exporter": "python",
   "pygments_lexer": "ipython3",
   "version": "3.7.3"
  }
 },
 "nbformat": 4,
 "nbformat_minor": 2
}
